{
 "cells": [
  {
   "cell_type": "markdown",
   "id": "06c2aa07",
   "metadata": {},
   "source": [
    "# clustering"
   ]
  },
  {
   "cell_type": "markdown",
   "id": "da64520c",
   "metadata": {},
   "source": [
    "This is called clustering: it is the task of identifying similar instances\n",
    "and assigning them to clusters, i.e., groups of similar instances.\n",
    "\n",
    "at two popular clustering algorithms: K-Means and\n",
    "DBSCAN,"
   ]
  },
  {
   "cell_type": "markdown",
   "id": "bf13ef2f",
   "metadata": {},
   "source": [
    "# K-Means\n"
   ]
  },
  {
   "cell_type": "code",
   "execution_count": 1,
   "id": "b340cce6",
   "metadata": {},
   "outputs": [],
   "source": [
    "# To plot pretty figures\n",
    "%matplotlib inline\n",
    "import matplotlib as mpl\n",
    "import matplotlib.pyplot as plt\n",
    "mpl.rc('axes', labelsize=14)\n",
    "mpl.rc('xtick', labelsize=12)\n",
    "mpl.rc('ytick', labelsize=12)\n"
   ]
  },
  {
   "cell_type": "code",
   "execution_count": 1,
   "id": "76691d0d",
   "metadata": {},
   "outputs": [],
   "source": [
    "from sklearn.datasets import load_iris"
   ]
  },
  {
   "cell_type": "code",
   "execution_count": 2,
   "id": "82929c37",
   "metadata": {},
   "outputs": [
    {
     "data": {
      "text/plain": [
       "array(['setosa', 'versicolor', 'virginica'], dtype='<U10')"
      ]
     },
     "execution_count": 2,
     "metadata": {},
     "output_type": "execute_result"
    }
   ],
   "source": [
    "data = load_iris()\n",
    "X = data.data\n",
    "y = data.target\n",
    "data.target_names"
   ]
  },
  {
   "cell_type": "code",
   "execution_count": 9,
   "id": "7dfa9620",
   "metadata": {},
   "outputs": [],
   "source": [
    "from sklearn.cluster import KMeans\n",
    "k = KMeans(n_clusters=5)\n",
    "y_pred = k.fit_predict(X)"
   ]
  },
  {
   "cell_type": "code",
   "execution_count": 43,
   "id": "5f9ab9f3",
   "metadata": {},
   "outputs": [
    {
     "data": {
      "text/plain": [
       "5"
      ]
     },
     "execution_count": 43,
     "metadata": {},
     "output_type": "execute_result"
    }
   ],
   "source": [
    "k.n_clusters"
   ]
  },
  {
   "cell_type": "code",
   "execution_count": 36,
   "id": "53fc81c0",
   "metadata": {},
   "outputs": [
    {
     "data": {
      "text/plain": [
       "array([0, 0, 0, 0, 0, 0, 0, 0, 0, 0, 0, 0, 0, 0, 0, 0, 0, 0, 0, 0, 0, 0,\n",
       "       0, 0, 0, 0, 0, 0, 0, 0, 0, 0, 0, 0, 0, 0, 0, 0, 0, 0, 0, 0, 0, 0,\n",
       "       0, 0, 0, 0, 0, 0, 4, 4, 4, 3, 4, 4, 4, 3, 4, 3, 3, 4, 3, 4, 3, 4,\n",
       "       4, 3, 4, 3, 4, 3, 4, 4, 4, 4, 4, 4, 4, 3, 3, 3, 3, 4, 3, 4, 4, 4,\n",
       "       3, 3, 3, 4, 3, 3, 3, 3, 3, 4, 3, 3, 1, 4, 2, 1, 1, 2, 3, 2, 1, 2,\n",
       "       1, 1, 1, 4, 1, 1, 1, 2, 2, 4, 1, 4, 2, 4, 1, 2, 4, 4, 1, 2, 2, 2,\n",
       "       1, 4, 4, 2, 1, 1, 4, 1, 1, 1, 4, 1, 1, 1, 4, 1, 1, 4])"
      ]
     },
     "execution_count": 36,
     "metadata": {},
     "output_type": "execute_result"
    }
   ],
   "source": [
    "y_pred"
   ]
  },
  {
   "cell_type": "markdown",
   "id": "e2aa7c86",
   "metadata": {},
   "source": [
    "The KMeans instance preserves a\n",
    "copy of the labels of the instances it was trained on, available via the labels_ instance\n",
    "variable:\n"
   ]
  },
  {
   "cell_type": "code",
   "execution_count": 33,
   "id": "25c0608f",
   "metadata": {
    "collapsed": true
   },
   "outputs": [
    {
     "data": {
      "text/plain": [
       "array([ True,  True,  True,  True,  True,  True,  True,  True,  True,\n",
       "        True,  True,  True,  True,  True,  True,  True,  True,  True,\n",
       "        True,  True,  True,  True,  True,  True,  True,  True,  True,\n",
       "        True,  True,  True,  True,  True,  True,  True,  True,  True,\n",
       "        True,  True,  True,  True,  True,  True,  True,  True,  True,\n",
       "        True,  True,  True,  True,  True,  True,  True,  True,  True,\n",
       "        True,  True,  True,  True,  True,  True,  True,  True,  True,\n",
       "        True,  True,  True,  True,  True,  True,  True,  True,  True,\n",
       "        True,  True,  True,  True,  True,  True,  True,  True,  True,\n",
       "        True,  True,  True,  True,  True,  True,  True,  True,  True,\n",
       "        True,  True,  True,  True,  True,  True,  True,  True,  True,\n",
       "        True,  True,  True,  True,  True,  True,  True,  True,  True,\n",
       "        True,  True,  True,  True,  True,  True,  True,  True,  True,\n",
       "        True,  True,  True,  True,  True,  True,  True,  True,  True,\n",
       "        True,  True,  True,  True,  True,  True,  True,  True,  True,\n",
       "        True,  True,  True,  True,  True,  True,  True,  True,  True,\n",
       "        True,  True,  True,  True,  True,  True])"
      ]
     },
     "execution_count": 33,
     "metadata": {},
     "output_type": "execute_result"
    }
   ],
   "source": [
    "k.labels_==y_pred"
   ]
  },
  {
   "cell_type": "code",
   "execution_count": 39,
   "id": "1e31c0f0",
   "metadata": {},
   "outputs": [
    {
     "data": {
      "text/plain": [
       "array([[5.006     , 3.428     , 1.462     , 0.246     ],\n",
       "       [6.52916667, 3.05833333, 5.50833333, 2.1625    ],\n",
       "       [7.475     , 3.125     , 6.3       , 2.05      ],\n",
       "       [5.508     , 2.6       , 3.908     , 1.204     ],\n",
       "       [6.20769231, 2.85384615, 4.74615385, 1.56410256]])"
      ]
     },
     "execution_count": 39,
     "metadata": {},
     "output_type": "execute_result"
    }
   ],
   "source": [
    "#We can also take a look at the 5 centroids that the algorithm found:\n",
    "k.cluster_centers_"
   ]
  },
  {
   "cell_type": "code",
   "execution_count": 47,
   "id": "a8100fe7",
   "metadata": {},
   "outputs": [
    {
     "data": {
      "text/plain": [
       "array([0, 0, 0])"
      ]
     },
     "execution_count": 47,
     "metadata": {},
     "output_type": "execute_result"
    }
   ],
   "source": [
    "#you can easily assign new instances to the cluster whose centroid is closest:\n",
    "import numpy as np\n",
    "X_new = np.array([[5.5, 3.5, 1.3, 0.2],[4.7, 3.6, 1.1, 0.2],[4.2, 3. , 1.4, 0.1]])\n",
    "k.predict(X_new)"
   ]
  },
  {
   "cell_type": "code",
   "execution_count": 18,
   "id": "4ef90af8",
   "metadata": {
    "collapsed": true
   },
   "outputs": [
    {
     "data": {
      "text/html": [
       "<div>\n",
       "<style scoped>\n",
       "    .dataframe tbody tr th:only-of-type {\n",
       "        vertical-align: middle;\n",
       "    }\n",
       "\n",
       "    .dataframe tbody tr th {\n",
       "        vertical-align: top;\n",
       "    }\n",
       "\n",
       "    .dataframe thead th {\n",
       "        text-align: right;\n",
       "    }\n",
       "</style>\n",
       "<table border=\"1\" class=\"dataframe\">\n",
       "  <thead>\n",
       "    <tr style=\"text-align: right;\">\n",
       "      <th></th>\n",
       "      <th>sepal length (cm)</th>\n",
       "      <th>sepal width (cm)</th>\n",
       "      <th>petal length (cm)</th>\n",
       "      <th>petal width (cm)</th>\n",
       "      <th>cluster</th>\n",
       "      <th>species</th>\n",
       "    </tr>\n",
       "  </thead>\n",
       "  <tbody>\n",
       "    <tr>\n",
       "      <th>0</th>\n",
       "      <td>5.1</td>\n",
       "      <td>3.5</td>\n",
       "      <td>1.4</td>\n",
       "      <td>0.2</td>\n",
       "      <td>0</td>\n",
       "      <td>0</td>\n",
       "    </tr>\n",
       "    <tr>\n",
       "      <th>1</th>\n",
       "      <td>4.9</td>\n",
       "      <td>3.0</td>\n",
       "      <td>1.4</td>\n",
       "      <td>0.2</td>\n",
       "      <td>0</td>\n",
       "      <td>0</td>\n",
       "    </tr>\n",
       "    <tr>\n",
       "      <th>2</th>\n",
       "      <td>4.7</td>\n",
       "      <td>3.2</td>\n",
       "      <td>1.3</td>\n",
       "      <td>0.2</td>\n",
       "      <td>0</td>\n",
       "      <td>0</td>\n",
       "    </tr>\n",
       "    <tr>\n",
       "      <th>3</th>\n",
       "      <td>4.6</td>\n",
       "      <td>3.1</td>\n",
       "      <td>1.5</td>\n",
       "      <td>0.2</td>\n",
       "      <td>0</td>\n",
       "      <td>0</td>\n",
       "    </tr>\n",
       "    <tr>\n",
       "      <th>4</th>\n",
       "      <td>5.0</td>\n",
       "      <td>3.6</td>\n",
       "      <td>1.4</td>\n",
       "      <td>0.2</td>\n",
       "      <td>0</td>\n",
       "      <td>0</td>\n",
       "    </tr>\n",
       "    <tr>\n",
       "      <th>...</th>\n",
       "      <td>...</td>\n",
       "      <td>...</td>\n",
       "      <td>...</td>\n",
       "      <td>...</td>\n",
       "      <td>...</td>\n",
       "      <td>...</td>\n",
       "    </tr>\n",
       "    <tr>\n",
       "      <th>145</th>\n",
       "      <td>6.7</td>\n",
       "      <td>3.0</td>\n",
       "      <td>5.2</td>\n",
       "      <td>2.3</td>\n",
       "      <td>1</td>\n",
       "      <td>2</td>\n",
       "    </tr>\n",
       "    <tr>\n",
       "      <th>146</th>\n",
       "      <td>6.3</td>\n",
       "      <td>2.5</td>\n",
       "      <td>5.0</td>\n",
       "      <td>1.9</td>\n",
       "      <td>4</td>\n",
       "      <td>2</td>\n",
       "    </tr>\n",
       "    <tr>\n",
       "      <th>147</th>\n",
       "      <td>6.5</td>\n",
       "      <td>3.0</td>\n",
       "      <td>5.2</td>\n",
       "      <td>2.0</td>\n",
       "      <td>1</td>\n",
       "      <td>2</td>\n",
       "    </tr>\n",
       "    <tr>\n",
       "      <th>148</th>\n",
       "      <td>6.2</td>\n",
       "      <td>3.4</td>\n",
       "      <td>5.4</td>\n",
       "      <td>2.3</td>\n",
       "      <td>1</td>\n",
       "      <td>2</td>\n",
       "    </tr>\n",
       "    <tr>\n",
       "      <th>149</th>\n",
       "      <td>5.9</td>\n",
       "      <td>3.0</td>\n",
       "      <td>5.1</td>\n",
       "      <td>1.8</td>\n",
       "      <td>4</td>\n",
       "      <td>2</td>\n",
       "    </tr>\n",
       "  </tbody>\n",
       "</table>\n",
       "<p>150 rows × 6 columns</p>\n",
       "</div>"
      ],
      "text/plain": [
       "     sepal length (cm)  sepal width (cm)  petal length (cm)  petal width (cm)  \\\n",
       "0                  5.1               3.5                1.4               0.2   \n",
       "1                  4.9               3.0                1.4               0.2   \n",
       "2                  4.7               3.2                1.3               0.2   \n",
       "3                  4.6               3.1                1.5               0.2   \n",
       "4                  5.0               3.6                1.4               0.2   \n",
       "..                 ...               ...                ...               ...   \n",
       "145                6.7               3.0                5.2               2.3   \n",
       "146                6.3               2.5                5.0               1.9   \n",
       "147                6.5               3.0                5.2               2.0   \n",
       "148                6.2               3.4                5.4               2.3   \n",
       "149                5.9               3.0                5.1               1.8   \n",
       "\n",
       "     cluster  species  \n",
       "0          0        0  \n",
       "1          0        0  \n",
       "2          0        0  \n",
       "3          0        0  \n",
       "4          0        0  \n",
       "..       ...      ...  \n",
       "145        1        2  \n",
       "146        4        2  \n",
       "147        1        2  \n",
       "148        1        2  \n",
       "149        4        2  \n",
       "\n",
       "[150 rows x 6 columns]"
      ]
     },
     "execution_count": 18,
     "metadata": {},
     "output_type": "execute_result"
    }
   ],
   "source": [
    "import pandas as pd\n",
    "df = pd.DataFrame(X, columns = data.feature_names)\n",
    "df['cluster'] = y_pred\n",
    "df['species']  = y\n",
    "df\n"
   ]
  },
  {
   "cell_type": "code",
   "execution_count": 30,
   "id": "b585b000",
   "metadata": {
    "collapsed": true
   },
   "outputs": [
    {
     "data": {
      "text/html": [
       "<div>\n",
       "<style scoped>\n",
       "    .dataframe tbody tr th:only-of-type {\n",
       "        vertical-align: middle;\n",
       "    }\n",
       "\n",
       "    .dataframe tbody tr th {\n",
       "        vertical-align: top;\n",
       "    }\n",
       "\n",
       "    .dataframe thead th {\n",
       "        text-align: right;\n",
       "    }\n",
       "</style>\n",
       "<table border=\"1\" class=\"dataframe\">\n",
       "  <thead>\n",
       "    <tr style=\"text-align: right;\">\n",
       "      <th></th>\n",
       "      <th>sepal length (cm)</th>\n",
       "      <th>sepal width (cm)</th>\n",
       "      <th>petal length (cm)</th>\n",
       "      <th>petal width (cm)</th>\n",
       "      <th>cluster</th>\n",
       "      <th>species</th>\n",
       "    </tr>\n",
       "  </thead>\n",
       "  <tbody>\n",
       "    <tr>\n",
       "      <th>0</th>\n",
       "      <td>5.1</td>\n",
       "      <td>3.5</td>\n",
       "      <td>1.4</td>\n",
       "      <td>0.2</td>\n",
       "      <td>0</td>\n",
       "      <td>0</td>\n",
       "    </tr>\n",
       "    <tr>\n",
       "      <th>1</th>\n",
       "      <td>4.9</td>\n",
       "      <td>3.0</td>\n",
       "      <td>1.4</td>\n",
       "      <td>0.2</td>\n",
       "      <td>0</td>\n",
       "      <td>0</td>\n",
       "    </tr>\n",
       "    <tr>\n",
       "      <th>2</th>\n",
       "      <td>4.7</td>\n",
       "      <td>3.2</td>\n",
       "      <td>1.3</td>\n",
       "      <td>0.2</td>\n",
       "      <td>0</td>\n",
       "      <td>0</td>\n",
       "    </tr>\n",
       "    <tr>\n",
       "      <th>3</th>\n",
       "      <td>4.6</td>\n",
       "      <td>3.1</td>\n",
       "      <td>1.5</td>\n",
       "      <td>0.2</td>\n",
       "      <td>0</td>\n",
       "      <td>0</td>\n",
       "    </tr>\n",
       "    <tr>\n",
       "      <th>4</th>\n",
       "      <td>5.0</td>\n",
       "      <td>3.6</td>\n",
       "      <td>1.4</td>\n",
       "      <td>0.2</td>\n",
       "      <td>0</td>\n",
       "      <td>0</td>\n",
       "    </tr>\n",
       "    <tr>\n",
       "      <th>5</th>\n",
       "      <td>5.4</td>\n",
       "      <td>3.9</td>\n",
       "      <td>1.7</td>\n",
       "      <td>0.4</td>\n",
       "      <td>0</td>\n",
       "      <td>0</td>\n",
       "    </tr>\n",
       "    <tr>\n",
       "      <th>6</th>\n",
       "      <td>4.6</td>\n",
       "      <td>3.4</td>\n",
       "      <td>1.4</td>\n",
       "      <td>0.3</td>\n",
       "      <td>0</td>\n",
       "      <td>0</td>\n",
       "    </tr>\n",
       "    <tr>\n",
       "      <th>7</th>\n",
       "      <td>5.0</td>\n",
       "      <td>3.4</td>\n",
       "      <td>1.5</td>\n",
       "      <td>0.2</td>\n",
       "      <td>0</td>\n",
       "      <td>0</td>\n",
       "    </tr>\n",
       "    <tr>\n",
       "      <th>8</th>\n",
       "      <td>4.4</td>\n",
       "      <td>2.9</td>\n",
       "      <td>1.4</td>\n",
       "      <td>0.2</td>\n",
       "      <td>0</td>\n",
       "      <td>0</td>\n",
       "    </tr>\n",
       "    <tr>\n",
       "      <th>9</th>\n",
       "      <td>4.9</td>\n",
       "      <td>3.1</td>\n",
       "      <td>1.5</td>\n",
       "      <td>0.1</td>\n",
       "      <td>0</td>\n",
       "      <td>0</td>\n",
       "    </tr>\n",
       "    <tr>\n",
       "      <th>10</th>\n",
       "      <td>5.4</td>\n",
       "      <td>3.7</td>\n",
       "      <td>1.5</td>\n",
       "      <td>0.2</td>\n",
       "      <td>0</td>\n",
       "      <td>0</td>\n",
       "    </tr>\n",
       "    <tr>\n",
       "      <th>11</th>\n",
       "      <td>4.8</td>\n",
       "      <td>3.4</td>\n",
       "      <td>1.6</td>\n",
       "      <td>0.2</td>\n",
       "      <td>0</td>\n",
       "      <td>0</td>\n",
       "    </tr>\n",
       "    <tr>\n",
       "      <th>12</th>\n",
       "      <td>4.8</td>\n",
       "      <td>3.0</td>\n",
       "      <td>1.4</td>\n",
       "      <td>0.1</td>\n",
       "      <td>0</td>\n",
       "      <td>0</td>\n",
       "    </tr>\n",
       "    <tr>\n",
       "      <th>13</th>\n",
       "      <td>4.3</td>\n",
       "      <td>3.0</td>\n",
       "      <td>1.1</td>\n",
       "      <td>0.1</td>\n",
       "      <td>0</td>\n",
       "      <td>0</td>\n",
       "    </tr>\n",
       "    <tr>\n",
       "      <th>14</th>\n",
       "      <td>5.8</td>\n",
       "      <td>4.0</td>\n",
       "      <td>1.2</td>\n",
       "      <td>0.2</td>\n",
       "      <td>0</td>\n",
       "      <td>0</td>\n",
       "    </tr>\n",
       "    <tr>\n",
       "      <th>15</th>\n",
       "      <td>5.7</td>\n",
       "      <td>4.4</td>\n",
       "      <td>1.5</td>\n",
       "      <td>0.4</td>\n",
       "      <td>0</td>\n",
       "      <td>0</td>\n",
       "    </tr>\n",
       "    <tr>\n",
       "      <th>16</th>\n",
       "      <td>5.4</td>\n",
       "      <td>3.9</td>\n",
       "      <td>1.3</td>\n",
       "      <td>0.4</td>\n",
       "      <td>0</td>\n",
       "      <td>0</td>\n",
       "    </tr>\n",
       "    <tr>\n",
       "      <th>17</th>\n",
       "      <td>5.1</td>\n",
       "      <td>3.5</td>\n",
       "      <td>1.4</td>\n",
       "      <td>0.3</td>\n",
       "      <td>0</td>\n",
       "      <td>0</td>\n",
       "    </tr>\n",
       "    <tr>\n",
       "      <th>18</th>\n",
       "      <td>5.7</td>\n",
       "      <td>3.8</td>\n",
       "      <td>1.7</td>\n",
       "      <td>0.3</td>\n",
       "      <td>0</td>\n",
       "      <td>0</td>\n",
       "    </tr>\n",
       "    <tr>\n",
       "      <th>19</th>\n",
       "      <td>5.1</td>\n",
       "      <td>3.8</td>\n",
       "      <td>1.5</td>\n",
       "      <td>0.3</td>\n",
       "      <td>0</td>\n",
       "      <td>0</td>\n",
       "    </tr>\n",
       "    <tr>\n",
       "      <th>20</th>\n",
       "      <td>5.4</td>\n",
       "      <td>3.4</td>\n",
       "      <td>1.7</td>\n",
       "      <td>0.2</td>\n",
       "      <td>0</td>\n",
       "      <td>0</td>\n",
       "    </tr>\n",
       "    <tr>\n",
       "      <th>21</th>\n",
       "      <td>5.1</td>\n",
       "      <td>3.7</td>\n",
       "      <td>1.5</td>\n",
       "      <td>0.4</td>\n",
       "      <td>0</td>\n",
       "      <td>0</td>\n",
       "    </tr>\n",
       "    <tr>\n",
       "      <th>22</th>\n",
       "      <td>4.6</td>\n",
       "      <td>3.6</td>\n",
       "      <td>1.0</td>\n",
       "      <td>0.2</td>\n",
       "      <td>0</td>\n",
       "      <td>0</td>\n",
       "    </tr>\n",
       "    <tr>\n",
       "      <th>23</th>\n",
       "      <td>5.1</td>\n",
       "      <td>3.3</td>\n",
       "      <td>1.7</td>\n",
       "      <td>0.5</td>\n",
       "      <td>0</td>\n",
       "      <td>0</td>\n",
       "    </tr>\n",
       "    <tr>\n",
       "      <th>24</th>\n",
       "      <td>4.8</td>\n",
       "      <td>3.4</td>\n",
       "      <td>1.9</td>\n",
       "      <td>0.2</td>\n",
       "      <td>0</td>\n",
       "      <td>0</td>\n",
       "    </tr>\n",
       "    <tr>\n",
       "      <th>25</th>\n",
       "      <td>5.0</td>\n",
       "      <td>3.0</td>\n",
       "      <td>1.6</td>\n",
       "      <td>0.2</td>\n",
       "      <td>0</td>\n",
       "      <td>0</td>\n",
       "    </tr>\n",
       "    <tr>\n",
       "      <th>26</th>\n",
       "      <td>5.0</td>\n",
       "      <td>3.4</td>\n",
       "      <td>1.6</td>\n",
       "      <td>0.4</td>\n",
       "      <td>0</td>\n",
       "      <td>0</td>\n",
       "    </tr>\n",
       "    <tr>\n",
       "      <th>27</th>\n",
       "      <td>5.2</td>\n",
       "      <td>3.5</td>\n",
       "      <td>1.5</td>\n",
       "      <td>0.2</td>\n",
       "      <td>0</td>\n",
       "      <td>0</td>\n",
       "    </tr>\n",
       "    <tr>\n",
       "      <th>28</th>\n",
       "      <td>5.2</td>\n",
       "      <td>3.4</td>\n",
       "      <td>1.4</td>\n",
       "      <td>0.2</td>\n",
       "      <td>0</td>\n",
       "      <td>0</td>\n",
       "    </tr>\n",
       "    <tr>\n",
       "      <th>29</th>\n",
       "      <td>4.7</td>\n",
       "      <td>3.2</td>\n",
       "      <td>1.6</td>\n",
       "      <td>0.2</td>\n",
       "      <td>0</td>\n",
       "      <td>0</td>\n",
       "    </tr>\n",
       "    <tr>\n",
       "      <th>30</th>\n",
       "      <td>4.8</td>\n",
       "      <td>3.1</td>\n",
       "      <td>1.6</td>\n",
       "      <td>0.2</td>\n",
       "      <td>0</td>\n",
       "      <td>0</td>\n",
       "    </tr>\n",
       "    <tr>\n",
       "      <th>31</th>\n",
       "      <td>5.4</td>\n",
       "      <td>3.4</td>\n",
       "      <td>1.5</td>\n",
       "      <td>0.4</td>\n",
       "      <td>0</td>\n",
       "      <td>0</td>\n",
       "    </tr>\n",
       "    <tr>\n",
       "      <th>32</th>\n",
       "      <td>5.2</td>\n",
       "      <td>4.1</td>\n",
       "      <td>1.5</td>\n",
       "      <td>0.1</td>\n",
       "      <td>0</td>\n",
       "      <td>0</td>\n",
       "    </tr>\n",
       "    <tr>\n",
       "      <th>33</th>\n",
       "      <td>5.5</td>\n",
       "      <td>4.2</td>\n",
       "      <td>1.4</td>\n",
       "      <td>0.2</td>\n",
       "      <td>0</td>\n",
       "      <td>0</td>\n",
       "    </tr>\n",
       "    <tr>\n",
       "      <th>34</th>\n",
       "      <td>4.9</td>\n",
       "      <td>3.1</td>\n",
       "      <td>1.5</td>\n",
       "      <td>0.2</td>\n",
       "      <td>0</td>\n",
       "      <td>0</td>\n",
       "    </tr>\n",
       "    <tr>\n",
       "      <th>35</th>\n",
       "      <td>5.0</td>\n",
       "      <td>3.2</td>\n",
       "      <td>1.2</td>\n",
       "      <td>0.2</td>\n",
       "      <td>0</td>\n",
       "      <td>0</td>\n",
       "    </tr>\n",
       "    <tr>\n",
       "      <th>36</th>\n",
       "      <td>5.5</td>\n",
       "      <td>3.5</td>\n",
       "      <td>1.3</td>\n",
       "      <td>0.2</td>\n",
       "      <td>0</td>\n",
       "      <td>0</td>\n",
       "    </tr>\n",
       "    <tr>\n",
       "      <th>37</th>\n",
       "      <td>4.9</td>\n",
       "      <td>3.6</td>\n",
       "      <td>1.4</td>\n",
       "      <td>0.1</td>\n",
       "      <td>0</td>\n",
       "      <td>0</td>\n",
       "    </tr>\n",
       "    <tr>\n",
       "      <th>38</th>\n",
       "      <td>4.4</td>\n",
       "      <td>3.0</td>\n",
       "      <td>1.3</td>\n",
       "      <td>0.2</td>\n",
       "      <td>0</td>\n",
       "      <td>0</td>\n",
       "    </tr>\n",
       "    <tr>\n",
       "      <th>39</th>\n",
       "      <td>5.1</td>\n",
       "      <td>3.4</td>\n",
       "      <td>1.5</td>\n",
       "      <td>0.2</td>\n",
       "      <td>0</td>\n",
       "      <td>0</td>\n",
       "    </tr>\n",
       "    <tr>\n",
       "      <th>40</th>\n",
       "      <td>5.0</td>\n",
       "      <td>3.5</td>\n",
       "      <td>1.3</td>\n",
       "      <td>0.3</td>\n",
       "      <td>0</td>\n",
       "      <td>0</td>\n",
       "    </tr>\n",
       "    <tr>\n",
       "      <th>41</th>\n",
       "      <td>4.5</td>\n",
       "      <td>2.3</td>\n",
       "      <td>1.3</td>\n",
       "      <td>0.3</td>\n",
       "      <td>0</td>\n",
       "      <td>0</td>\n",
       "    </tr>\n",
       "    <tr>\n",
       "      <th>42</th>\n",
       "      <td>4.4</td>\n",
       "      <td>3.2</td>\n",
       "      <td>1.3</td>\n",
       "      <td>0.2</td>\n",
       "      <td>0</td>\n",
       "      <td>0</td>\n",
       "    </tr>\n",
       "    <tr>\n",
       "      <th>43</th>\n",
       "      <td>5.0</td>\n",
       "      <td>3.5</td>\n",
       "      <td>1.6</td>\n",
       "      <td>0.6</td>\n",
       "      <td>0</td>\n",
       "      <td>0</td>\n",
       "    </tr>\n",
       "    <tr>\n",
       "      <th>44</th>\n",
       "      <td>5.1</td>\n",
       "      <td>3.8</td>\n",
       "      <td>1.9</td>\n",
       "      <td>0.4</td>\n",
       "      <td>0</td>\n",
       "      <td>0</td>\n",
       "    </tr>\n",
       "    <tr>\n",
       "      <th>45</th>\n",
       "      <td>4.8</td>\n",
       "      <td>3.0</td>\n",
       "      <td>1.4</td>\n",
       "      <td>0.3</td>\n",
       "      <td>0</td>\n",
       "      <td>0</td>\n",
       "    </tr>\n",
       "    <tr>\n",
       "      <th>46</th>\n",
       "      <td>5.1</td>\n",
       "      <td>3.8</td>\n",
       "      <td>1.6</td>\n",
       "      <td>0.2</td>\n",
       "      <td>0</td>\n",
       "      <td>0</td>\n",
       "    </tr>\n",
       "    <tr>\n",
       "      <th>47</th>\n",
       "      <td>4.6</td>\n",
       "      <td>3.2</td>\n",
       "      <td>1.4</td>\n",
       "      <td>0.2</td>\n",
       "      <td>0</td>\n",
       "      <td>0</td>\n",
       "    </tr>\n",
       "    <tr>\n",
       "      <th>48</th>\n",
       "      <td>5.3</td>\n",
       "      <td>3.7</td>\n",
       "      <td>1.5</td>\n",
       "      <td>0.2</td>\n",
       "      <td>0</td>\n",
       "      <td>0</td>\n",
       "    </tr>\n",
       "    <tr>\n",
       "      <th>49</th>\n",
       "      <td>5.0</td>\n",
       "      <td>3.3</td>\n",
       "      <td>1.4</td>\n",
       "      <td>0.2</td>\n",
       "      <td>0</td>\n",
       "      <td>0</td>\n",
       "    </tr>\n",
       "  </tbody>\n",
       "</table>\n",
       "</div>"
      ],
      "text/plain": [
       "    sepal length (cm)  sepal width (cm)  petal length (cm)  petal width (cm)  \\\n",
       "0                 5.1               3.5                1.4               0.2   \n",
       "1                 4.9               3.0                1.4               0.2   \n",
       "2                 4.7               3.2                1.3               0.2   \n",
       "3                 4.6               3.1                1.5               0.2   \n",
       "4                 5.0               3.6                1.4               0.2   \n",
       "5                 5.4               3.9                1.7               0.4   \n",
       "6                 4.6               3.4                1.4               0.3   \n",
       "7                 5.0               3.4                1.5               0.2   \n",
       "8                 4.4               2.9                1.4               0.2   \n",
       "9                 4.9               3.1                1.5               0.1   \n",
       "10                5.4               3.7                1.5               0.2   \n",
       "11                4.8               3.4                1.6               0.2   \n",
       "12                4.8               3.0                1.4               0.1   \n",
       "13                4.3               3.0                1.1               0.1   \n",
       "14                5.8               4.0                1.2               0.2   \n",
       "15                5.7               4.4                1.5               0.4   \n",
       "16                5.4               3.9                1.3               0.4   \n",
       "17                5.1               3.5                1.4               0.3   \n",
       "18                5.7               3.8                1.7               0.3   \n",
       "19                5.1               3.8                1.5               0.3   \n",
       "20                5.4               3.4                1.7               0.2   \n",
       "21                5.1               3.7                1.5               0.4   \n",
       "22                4.6               3.6                1.0               0.2   \n",
       "23                5.1               3.3                1.7               0.5   \n",
       "24                4.8               3.4                1.9               0.2   \n",
       "25                5.0               3.0                1.6               0.2   \n",
       "26                5.0               3.4                1.6               0.4   \n",
       "27                5.2               3.5                1.5               0.2   \n",
       "28                5.2               3.4                1.4               0.2   \n",
       "29                4.7               3.2                1.6               0.2   \n",
       "30                4.8               3.1                1.6               0.2   \n",
       "31                5.4               3.4                1.5               0.4   \n",
       "32                5.2               4.1                1.5               0.1   \n",
       "33                5.5               4.2                1.4               0.2   \n",
       "34                4.9               3.1                1.5               0.2   \n",
       "35                5.0               3.2                1.2               0.2   \n",
       "36                5.5               3.5                1.3               0.2   \n",
       "37                4.9               3.6                1.4               0.1   \n",
       "38                4.4               3.0                1.3               0.2   \n",
       "39                5.1               3.4                1.5               0.2   \n",
       "40                5.0               3.5                1.3               0.3   \n",
       "41                4.5               2.3                1.3               0.3   \n",
       "42                4.4               3.2                1.3               0.2   \n",
       "43                5.0               3.5                1.6               0.6   \n",
       "44                5.1               3.8                1.9               0.4   \n",
       "45                4.8               3.0                1.4               0.3   \n",
       "46                5.1               3.8                1.6               0.2   \n",
       "47                4.6               3.2                1.4               0.2   \n",
       "48                5.3               3.7                1.5               0.2   \n",
       "49                5.0               3.3                1.4               0.2   \n",
       "\n",
       "    cluster  species  \n",
       "0         0        0  \n",
       "1         0        0  \n",
       "2         0        0  \n",
       "3         0        0  \n",
       "4         0        0  \n",
       "5         0        0  \n",
       "6         0        0  \n",
       "7         0        0  \n",
       "8         0        0  \n",
       "9         0        0  \n",
       "10        0        0  \n",
       "11        0        0  \n",
       "12        0        0  \n",
       "13        0        0  \n",
       "14        0        0  \n",
       "15        0        0  \n",
       "16        0        0  \n",
       "17        0        0  \n",
       "18        0        0  \n",
       "19        0        0  \n",
       "20        0        0  \n",
       "21        0        0  \n",
       "22        0        0  \n",
       "23        0        0  \n",
       "24        0        0  \n",
       "25        0        0  \n",
       "26        0        0  \n",
       "27        0        0  \n",
       "28        0        0  \n",
       "29        0        0  \n",
       "30        0        0  \n",
       "31        0        0  \n",
       "32        0        0  \n",
       "33        0        0  \n",
       "34        0        0  \n",
       "35        0        0  \n",
       "36        0        0  \n",
       "37        0        0  \n",
       "38        0        0  \n",
       "39        0        0  \n",
       "40        0        0  \n",
       "41        0        0  \n",
       "42        0        0  \n",
       "43        0        0  \n",
       "44        0        0  \n",
       "45        0        0  \n",
       "46        0        0  \n",
       "47        0        0  \n",
       "48        0        0  \n",
       "49        0        0  "
      ]
     },
     "execution_count": 30,
     "metadata": {},
     "output_type": "execute_result"
    }
   ],
   "source": [
    "df[df['cluster']==0]"
   ]
  },
  {
   "cell_type": "code",
   "execution_count": 24,
   "id": "94cb3dce",
   "metadata": {},
   "outputs": [
    {
     "data": {
      "text/plain": [
       "array(['setosa', 'versicolor', 'virginica'], dtype='<U10')"
      ]
     },
     "execution_count": 24,
     "metadata": {},
     "output_type": "execute_result"
    }
   ],
   "source": [
    "data.target_names"
   ]
  },
  {
   "cell_type": "code",
   "execution_count": 53,
   "id": "e71847bd",
   "metadata": {},
   "outputs": [],
   "source": [
    "#other kmean example"
   ]
  },
  {
   "cell_type": "code",
   "execution_count": 4,
   "id": "48d44c21",
   "metadata": {},
   "outputs": [
    {
     "ename": "NameError",
     "evalue": "name 'np' is not defined",
     "output_type": "error",
     "traceback": [
      "\u001b[1;31m---------------------------------------------------------------------------\u001b[0m",
      "\u001b[1;31mNameError\u001b[0m                                 Traceback (most recent call last)",
      "\u001b[1;32m~\\AppData\\Local\\Temp/ipykernel_9236/3554585824.py\u001b[0m in \u001b[0;36m<module>\u001b[1;34m\u001b[0m\n\u001b[0;32m      1\u001b[0m \u001b[1;32mfrom\u001b[0m \u001b[0msklearn\u001b[0m\u001b[1;33m.\u001b[0m\u001b[0mdatasets\u001b[0m \u001b[1;32mimport\u001b[0m \u001b[0mmake_blobs\u001b[0m\u001b[1;33m\u001b[0m\u001b[1;33m\u001b[0m\u001b[0m\n\u001b[0;32m      2\u001b[0m \u001b[1;33m\u001b[0m\u001b[0m\n\u001b[1;32m----> 3\u001b[1;33m blob_centers = np.array(\n\u001b[0m\u001b[0;32m      4\u001b[0m     [[ 0.2,  2.3],\n\u001b[0;32m      5\u001b[0m      \u001b[1;33m[\u001b[0m\u001b[1;33m-\u001b[0m\u001b[1;36m1.5\u001b[0m \u001b[1;33m,\u001b[0m  \u001b[1;36m2.3\u001b[0m\u001b[1;33m]\u001b[0m\u001b[1;33m,\u001b[0m\u001b[1;33m\u001b[0m\u001b[1;33m\u001b[0m\u001b[0m\n",
      "\u001b[1;31mNameError\u001b[0m: name 'np' is not defined"
     ]
    }
   ],
   "source": [
    "from sklearn.datasets import make_blobs\n",
    "\n",
    "blob_centers = np.array(\n",
    "    [[ 0.2,  2.3],\n",
    "     [-1.5 ,  2.3],\n",
    "     [-2.8,  1.8],\n",
    "     [-2.8,  2.8],\n",
    "     [-2.8,  1.3]])\n",
    "blob_std = np.array([0.4, 0.3, 0.1, 0.1, 0.1])\n",
    "\n",
    "X, y = make_blobs(n_samples=2000, centers=blob_centers,\n",
    "                  cluster_std=blob_std, random_state=7)"
   ]
  },
  {
   "cell_type": "code",
   "execution_count": 60,
   "id": "4f150e49",
   "metadata": {},
   "outputs": [
    {
     "data": {
      "image/png": "[encoded data removed]",
      "text/plain": [
       "<Figure size 432x288 with 1 Axes>"
      ]
     },
     "metadata": {
      "needs_background": "light"
     },
     "output_type": "display_data"
    }
   ],
   "source": [
    "plt.scatter(X[:,0], X[:,1])\n",
    "plt.show()"
   ]
  },
  {
   "cell_type": "code",
   "execution_count": 62,
   "id": "528eaddb",
   "metadata": {},
   "outputs": [
    {
     "data": {
      "image/png": "[encoded data removed]",
      "text/plain": [
       "<Figure size 432x288 with 1 Axes>"
      ]
     },
     "metadata": {
      "needs_background": "light"
     },
     "output_type": "display_data"
    }
   ],
   "source": [
    "def plot_clusters(X, y=None):\n",
    "    plt.scatter(X[:, 0], X[:, 1], c=y, s=1)\n",
    "    plt.xlabel(\"$x_1$\", fontsize=14)\n",
    "    plt.ylabel(\"$x_2$\", fontsize=14, rotation=0)\n",
    "    \n",
    "plot_clusters(X, y=None)"
   ]
  },
  {
   "cell_type": "code",
   "execution_count": 88,
   "id": "fcc8ef28",
   "metadata": {},
   "outputs": [
    {
     "data": {
      "text/plain": [
       "array([4, 1, 2, ..., 3, 2, 1])"
      ]
     },
     "execution_count": 88,
     "metadata": {},
     "output_type": "execute_result"
    }
   ],
   "source": [
    "from sklearn.cluster import KMeans\n",
    "k = KMeans(n_clusters=5)\n",
    "y_pred = k.fit_predict(X)\n",
    "y_pred"
   ]
  },
  {
   "cell_type": "code",
   "execution_count": 89,
   "id": "512ba67b",
   "metadata": {},
   "outputs": [
    {
     "data": {
      "text/plain": [
       "array([4, 1, 2, ..., 3, 2, 1])"
      ]
     },
     "execution_count": 89,
     "metadata": {},
     "output_type": "execute_result"
    }
   ],
   "source": [
    "k.labels_"
   ]
  },
  {
   "cell_type": "code",
   "execution_count": 90,
   "id": "c2c35d03",
   "metadata": {},
   "outputs": [
    {
     "data": {
      "text/plain": [
       "True"
      ]
     },
     "execution_count": 90,
     "metadata": {},
     "output_type": "execute_result"
    }
   ],
   "source": [
    "y_pred in k.labels_"
   ]
  },
  {
   "cell_type": "code",
   "execution_count": 91,
   "id": "a0233541",
   "metadata": {},
   "outputs": [
    {
     "data": {
      "text/plain": [
       "5"
      ]
     },
     "execution_count": 91,
     "metadata": {},
     "output_type": "execute_result"
    }
   ],
   "source": [
    "k.n_clusters"
   ]
  },
  {
   "cell_type": "code",
   "execution_count": 92,
   "id": "a32d8eb1",
   "metadata": {},
   "outputs": [
    {
     "data": {
      "text/plain": [
       "array([[-1.46679593,  2.28585348],\n",
       "       [-2.80389616,  1.80117999],\n",
       "       [ 0.20876306,  2.25551336],\n",
       "       [-2.79290307,  2.79641063],\n",
       "       [-2.80037642,  1.30082566]])"
      ]
     },
     "execution_count": 92,
     "metadata": {},
     "output_type": "execute_result"
    }
   ],
   "source": [
    "#centroides\n",
    "k.cluster_centers_   #1.[cx1, cx2], 2.[]..so on up to 4.[] centroid coordinates"
   ]
  },
  {
   "cell_type": "code",
   "execution_count": 93,
   "id": "888a22d4",
   "metadata": {},
   "outputs": [
    {
     "data": {
      "text/plain": [
       "array([2, 2, 3, 3])"
      ]
     },
     "execution_count": 93,
     "metadata": {},
     "output_type": "execute_result"
    }
   ],
   "source": [
    "X_new = np.array([[0, 2], [3, 2], [-3, 3], [-3, 2.5]])\n",
    "k.predict(X_new)"
   ]
  },
  {
   "cell_type": "markdown",
   "id": "b0ae2672",
   "metadata": {},
   "source": [
    "hard clustering and soft clustering\n",
    "\n",
    "1. Instead of assigning each instance to a single cluster, which is called hard clustering, \n",
    "2. it\n",
    "can be useful to just give each instance a score per cluster: this is called soft clustering\n",
    "3.  score can be the distance between the instance and the centroid, or\n",
    "conversely it can be a similarity score (or affinity) such as the Gaussian Radial Basis\n",
    "Function\n",
    "\n",
    "In the KMeans class, the transform() method\n",
    "measures the distance from each instance to every centroid"
   ]
  },
  {
   "cell_type": "code",
   "execution_count": 96,
   "id": "76caba18",
   "metadata": {},
   "outputs": [
    {
     "data": {
      "text/plain": [
       "array([[1.49439034, 2.81093633, 0.32995317, 2.9042344 , 2.88633901],\n",
       "       [4.4759332 , 5.80730058, 2.80290755, 5.84739223, 5.84236351],\n",
       "       [1.69136631, 1.21475352, 3.29399768, 0.29040966, 1.71086031],\n",
       "       [1.54808703, 0.72581411, 3.21806371, 0.36159148, 1.21567622]])"
      ]
     },
     "execution_count": 96,
     "metadata": {},
     "output_type": "execute_result"
    }
   ],
   "source": [
    "k.transform(X_new)"
   ]
  },
  {
   "cell_type": "code",
   "execution_count": 97,
   "id": "f64c29b9",
   "metadata": {},
   "outputs": [
    {
     "data": {
      "text/plain": [
       "array([[ 0. ,  2. ],\n",
       "       [ 3. ,  2. ],\n",
       "       [-3. ,  3. ],\n",
       "       [-3. ,  2.5]])"
      ]
     },
     "execution_count": 97,
     "metadata": {},
     "output_type": "execute_result"
    }
   ],
   "source": [
    "X_new\n"
   ]
  },
  {
   "cell_type": "markdown",
   "id": "733c55e9",
   "metadata": {},
   "source": [
    "# kmean algo\n",
    "1. Suppose you were\n",
    "given the centroids: you could easily label all the instances in the dataset by assigning\n",
    "each of them to the cluster whose centroid is closest. \n",
    "2. if you were given all\n",
    "the instance labels, you could easily locate all the centroids by computing the mean of\n",
    "the instances for each cluster. \n",
    "3. when nothing is given\n",
    "\n",
    "1. just start by placing the centroids randomly (e.g., by\n",
    "picking k instances at random and using their locations as centroids). \n",
    "2. Then label the\n",
    "instances, update the centroids, label the instances, update the centroids, and so on\n",
    "until the centroids stop moving. \n",
    "3. The algorithm is guaranteed to converge in a finite\n",
    "number of steps (usually quite small), it will not oscillate forever2\n",
    "."
   ]
  },
  {
   "cell_type": "markdown",
   "id": "47006476",
   "metadata": {},
   "source": [
    "# The K-Means Algorithm\n",
    "The K-Means algorithm is one of the fastest clustering algorithms, and also one of the simplest:\n",
    "\n",
    "1. First initialize 𝑘 centroids randomly: 𝑘 distinct instances are chosen randomly from the dataset and the centroids are placed at their locations.\n",
    "2. Repeat until convergence (i.e., until the centroids stop moving):\n",
    "    1. Assign each instance to the closest centroid.\n",
    "    2. Update the centroids to be the mean of the instances that are assigned to them."
   ]
  },
  {
   "cell_type": "markdown",
   "id": "a621bcaa",
   "metadata": {},
   "source": [
    "# centroid initialization.\n",
    "1. although the algorithm is guaranteed to converge, it may not converge\n",
    "to the right solution (i.e., it may converge to a local optimum): \n",
    "2. this depends on the\n",
    "centroid initialization. \n",
    "3. you can mitigate this risk by improving the centroid initializa‐\n",
    "tion"
   ]
  },
  {
   "cell_type": "code",
   "execution_count": 98,
   "id": "eaa1ff0f",
   "metadata": {},
   "outputs": [
    {
     "data": {
      "text/plain": [
       "211.59853725816828"
      ]
     },
     "execution_count": 98,
     "metadata": {},
     "output_type": "execute_result"
    }
   ],
   "source": [
    "1. solution is to run the algorithm multiple times with different random initial‐\n",
    "izations and keep the best solution.\n",
    "2. This is controlled by the n_init hyperparameter:\n",
    "by default, it is equal to 10, which means that the whole algorithm described earlier\n",
    "actually runs 10 times when you call fit(), and Scikit-Learn keeps the best solution"
   ]
  },
  {
   "cell_type": "markdown",
   "id": "f5cb9b9b",
   "metadata": {},
   "source": [
    "# how exactly does it know which solution is the best? model’s inertia \n",
    "1. it uses a per‐\n",
    "formance metric! It is called the model’s inertia: \n",
    "2. this is the mean squared distance\n",
    "between each instance and its closest centroid.\n",
    "3. The KMeans class runs the algorithm n_init times\n",
    "and keeps the model with the lowest inertia:"
   ]
  },
  {
   "cell_type": "markdown",
   "id": "5e5cb96d",
   "metadata": {},
   "source": [
    "Inertia\n",
    "To select the best model, we will need a way to evaluate a K-Mean model's performance. Unfortunately, clustering is an unsupervised task, so we do not have the targets. But at least we can measure the distance between each instance and its centroid. This is the idea behind the inertia metric:"
   ]
  },
  {
   "cell_type": "code",
   "execution_count": 99,
   "id": "f28df8b8",
   "metadata": {},
   "outputs": [
    {
     "data": {
      "text/plain": [
       "211.59853725816828"
      ]
     },
     "execution_count": 99,
     "metadata": {},
     "output_type": "execute_result"
    }
   ],
   "source": [
    "k.inertia_"
   ]
  },
  {
   "cell_type": "markdown",
   "id": "79272574",
   "metadata": {},
   "source": [
    "The score() method returns the negative inertia. Why negative? Well, it is because a\n",
    "predictor’s score() method must always respect the \"great is better\" rule."
   ]
  },
  {
   "cell_type": "code",
   "execution_count": 102,
   "id": "bb4e2d30",
   "metadata": {},
   "outputs": [
    {
     "data": {
      "text/plain": [
       "-211.59853725816836"
      ]
     },
     "execution_count": 102,
     "metadata": {},
     "output_type": "execute_result"
    }
   ],
   "source": [
    "k.score(X)"
   ]
  },
  {
   "cell_type": "markdown",
   "id": "a2345f3e",
   "metadata": {},
   "source": [
    "# e K-Means++ initialization algorithm:\n",
    "Centroid initialization methods\n",
    "Instead of initializing the centroids entirely randomly, it is preferable to initialize them using the following algorithm, proposed in a 2006 paper by David Arthur and Sergei Vassilvitskii:\n",
    "\n",
    "1. Take one centroid 𝑐1, chosen uniformly at random from the dataset.\n",
    "2. Take a new center 𝑐𝑖, choosing an instance 𝐱𝑖 with probability: 𝐷(𝐱𝑖)2 / ∑𝑗=1𝑚𝐷(𝐱𝑗)2 where 𝐷(𝐱𝑖) is the distance between the instance 𝐱𝑖 and the closest centroid that was already chosen. This probability distribution ensures that instances that are further away from already chosen centroids are much more likely be selected as centroids.\n",
    "3. Repeat the previous step until all 𝑘 centroids have been chosen."
   ]
  },
  {
   "cell_type": "markdown",
   "id": "e79b7721",
   "metadata": {},
   "source": [
    "The KMeans class actually uses this initialization method by default. If you want to\n",
    "force it to use the original method (i.e., picking k instances randomly to define the\n",
    "initial centroids), then you can set the init hyperparameter to \"random\". You will\n",
    "rarely need to do this"
   ]
  },
  {
   "cell_type": "markdown",
   "id": "f7430f49",
   "metadata": {},
   "source": [
    "# Accelerated K-Means\n",
    "The K-Means algorithm can be significantly accelerated by avoiding many unnecessary distance calculations: this is achieved by exploiting the triangle inequality (given three points A, B and C, the distance AC is always such that AC ≤ AB + BC) and by keeping track of lower and upper bounds for distances between instances and centroids (see this 2003 paper by Charles Elkan for more details)."
   ]
  },
  {
   "cell_type": "markdown",
   "id": "0ce5fca2",
   "metadata": {},
   "source": [
    "# Mini-Batch K-Means\n",
    " Instead of using the full dataset at each iteration, the algo‐\n",
    "rithm is capable of using mini-batches, moving the centroids just slightly at each iter‐\n",
    "ation. This speeds up the algorithm typically by a factor of 3 or 4 and makes it\n",
    "possible to cluster huge datasets that do not fit in memory. Scikit-Learn implements\n",
    "this algorithm in the MiniBatchKMeans class.   "
   ]
  },
  {
   "cell_type": "code",
   "execution_count": 104,
   "id": "5b42c918",
   "metadata": {},
   "outputs": [
    {
     "name": "stderr",
     "output_type": "stream",
     "text": [
      "C:\\Users\\USER\\anaconda3\\lib\\site-packages\\sklearn\\cluster\\_kmeans.py:887: UserWarning: MiniBatchKMeans is known to have a memory leak on Windows with MKL, when there are less chunks than available threads. You can prevent it by setting batch_size >= 1024 or by setting the environment variable OMP_NUM_THREADS=1\n",
      "  warnings.warn(\n"
     ]
    },
    {
     "data": {
      "text/plain": [
       "212.65280685133155"
      ]
     },
     "execution_count": 104,
     "metadata": {},
     "output_type": "execute_result"
    }
   ],
   "source": [
    "from sklearn.cluster import MiniBatchKMeans\n",
    "minibatch_kmeans = MiniBatchKMeans(n_clusters=5)\n",
    "minibatch_kmeans.fit(X)\n",
    "minibatch_kmeans.inertia_"
   ]
  },
  {
   "cell_type": "markdown",
   "id": "2fceaff6",
   "metadata": {},
   "source": [
    "Although the Mini-batch K-Means algorithm is much faster than the regular K\u0002Means algorithm, its inertia is generally slightly worse, especially as the number of\n",
    "clusters increases."
   ]
  },
  {
   "cell_type": "markdown",
   "id": "1d6ff0ed",
   "metadata": {},
   "source": [
    "# Finding the Optimal Number of Clusters"
   ]
  },
  {
   "cell_type": "markdown",
   "id": "30107e14",
   "metadata": {},
   "source": [
    "1. inertia is not a good performance metric when trying to choose k since it keeps get‐\n",
    "ting lower as we increase k. \n",
    "2. Indeed, the more clusters there are, the closer each\n",
    "instance will be to its closest centroid, and therefore the lower the inertia will be. Let’s\n",
    "plot the inertia as a function of k \n",
    "\n",
    "This curve has roughly the\n",
    "shape of an arm, and there is an “elbow” at k=4 so if we did not know better, it would\n",
    "be a good choice: "
   ]
  },
  {
   "cell_type": "code",
   "execution_count": 107,
   "id": "78ce6444",
   "metadata": {},
   "outputs": [],
   "source": [
    "kmn = [KMeans(n_clusters = i, random_state=42).fit(X) for i in range(1,10)]\n",
    "inertia = [j.inertia_ for j in kmn]\n",
    "\n"
   ]
  },
  {
   "cell_type": "code",
   "execution_count": 113,
   "id": "a1029342",
   "metadata": {},
   "outputs": [
    {
     "data": {
      "text/plain": [
       "[<matplotlib.lines.Line2D at 0x156fb675970>]"
      ]
     },
     "execution_count": 113,
     "metadata": {},
     "output_type": "execute_result"
    },
    {
     "data": {
      "image/png": "[encoded data removed]",
      "text/plain": [
       "<Figure size 432x288 with 1 Axes>"
      ]
     },
     "metadata": {
      "needs_background": "light"
     },
     "output_type": "display_data"
    }
   ],
   "source": [
    "k =[m for m in range(1,10)]\n",
    "plt.plot(range(1, 10), inertia, \"bo-\")\n",
    "plt.xlabel(\"$k$\", fontsize=14)\n",
    "plt.ylabel(\"Inertia\", fontsize=14)\n",
    "plt.plot(k,inertia)"
   ]
  },
  {
   "cell_type": "markdown",
   "id": "66388bf7",
   "metadata": {},
   "source": [
    "This technique for choosing the best value for the number of clusters is rather coarse."
   ]
  },
  {
   "cell_type": "code",
   "execution_count": null,
   "id": "48523140",
   "metadata": {},
   "outputs": [],
   "source": [
    "kmn = [KMeans(n_clusters = i, random_state=42).fit(X) for i in range(1,10)]\n",
    "inertia = [j.inertia_ for j in kmn]\n",
    "\n",
    "from kneed import KneeLocator\n",
    "#with the help of it we can get the value of k from graph\n",
    "kn = KneeLocator(range(1, 10), inertia, curve='convex', direction='decreasing')\n",
    "print(kn.knee)"
   ]
  },
  {
   "cell_type": "markdown",
   "id": "2efea68f",
   "metadata": {},
   "source": [
    "# silhouette score,"
   ]
  },
  {
   "cell_type": "markdown",
   "id": "8a942619",
   "metadata": {},
   "source": [
    "1. A more precise approach (but also more computationally expensive) is to use the sil‐\n",
    "houette score, \n",
    "2. which is the mean silhouette coefcient over all the instances.\n",
    "\n",
    "3. An instan‐\n",
    "ce’s silhouette coefficient is equal to (b – a) / max(a, b) \n",
    "4.where a is the mean distance\n",
    "to the other instances in the same cluster (it is the mean intra-cluster distance), and \n",
    "5. b\n",
    "is the mean nearest-cluster distance, that is the mean distance to the instances of the\n",
    "next closest cluster (defined as the one that minimizes b, excluding the instance’s own\n",
    "cluster). \n",
    "6. The silhouette coefficient can vary between -1 and +1: a coefficient close to\n",
    "7. +1 means that the instance is well inside its own cluster and far from other clusters,\n",
    "7. while a coefficient close to 0 means that it is close to a cluster boundary, \n",
    "8. a\n",
    "coefficient close to -1 means that the instance may have been assigned to the wrong\n",
    "cluster. \n",
    "\n",
    "\n",
    "To compute the silhouette score, you can use Scikit-Learn’s silhou\n",
    "ette_score() function, giving it all the instances in the dataset, and the labels they\n",
    "were assigned:\n"
   ]
  },
  {
   "cell_type": "code",
   "execution_count": 114,
   "id": "4fbf40f0",
   "metadata": {},
   "outputs": [
    {
     "data": {
      "text/plain": [
       "0.655517642572828"
      ]
     },
     "execution_count": 114,
     "metadata": {},
     "output_type": "execute_result"
    }
   ],
   "source": [
    "km = KMeans(n_clusters=5)\n",
    "km.fit(X)\n",
    "\n",
    "from sklearn.metrics import silhouette_score\n",
    "silhouette_score(X, km.labels_)\n"
   ]
  },
  {
   "cell_type": "code",
   "execution_count": 120,
   "id": "26b4b1de",
   "metadata": {},
   "outputs": [
    {
     "data": {
      "text/plain": [
       "array([3, 2, 1, ..., 0, 1, 2])"
      ]
     },
     "execution_count": 120,
     "metadata": {},
     "output_type": "execute_result"
    }
   ],
   "source": [
    "km.labels_"
   ]
  },
  {
   "cell_type": "code",
   "execution_count": 122,
   "id": "08e42ef4",
   "metadata": {},
   "outputs": [],
   "source": [
    "kmn = [KMeans(n_clusters = i, random_state=42).fit(X) for i in range(1,10)]\n",
    "silhouette_score = [silhouette_score(X, j.labels_) for j in kmn[1:]]"
   ]
  },
  {
   "cell_type": "code",
   "execution_count": 131,
   "id": "b97f250c",
   "metadata": {},
   "outputs": [
    {
     "data": {
      "text/plain": [
       "[<matplotlib.lines.Line2D at 0x156fb752e20>]"
      ]
     },
     "execution_count": 131,
     "metadata": {},
     "output_type": "execute_result"
    },
    {
     "data": {
      "image/png": "[encoded data removed]",
      "text/plain": [
       "<Figure size 432x288 with 1 Axes>"
      ]
     },
     "metadata": {
      "needs_background": "light"
     },
     "output_type": "display_data"
    }
   ],
   "source": [
    "k =[m for m in range(2,10)]\n",
    "plt.plot(range(2, 10), silhouette_score, \"bo-\")\n",
    "plt.xlabel(\"$k$\", fontsize=14)\n",
    "plt.ylabel(\"silhouette_score\", fontsize=14)\n",
    "\n",
    "plt.plot(k,silhouette_score)"
   ]
  },
  {
   "cell_type": "markdown",
   "id": "86725428",
   "metadata": {},
   "source": [
    "As you can see, this visualization is much richer than the previous one: in particular,\n",
    "although it confirms that k=4 is a very good choice, it also underlines the fact that\n",
    "k=5 is quite good as well, and much better than k=6 or 7. "
   ]
  },
  {
   "cell_type": "markdown",
   "id": "91301f7b",
   "metadata": {},
   "source": [
    "note\n",
    "\n",
    "\n",
    "It is important to scale the input features before you run K-Means,\n",
    "or else the clusters may be very stretched, and K-Means will per‐\n",
    "form poorly. Scaling the features does not guarantee that all the\n",
    "clusters will be nice and spherical, but it generally improves things"
   ]
  },
  {
   "cell_type": "markdown",
   "id": "40cf863a",
   "metadata": {},
   "source": [
    "# Using clustering for image segmentation"
   ]
  },
  {
   "cell_type": "markdown",
   "id": "96fb7403",
   "metadata": {},
   "source": [
    "Image segmentation is the task of partitioning an image into multiple segments. In\n",
    "semantic segmentation, all pixels that are part of the same object type get assigned to\n",
    "the same segment\n",
    "\n",
    " color segmentation. We will simply assign pixels to the\n",
    "same segment if they have a similar color\n",
    "\n",
    "First, let’s load the image  using Matplotlib’s\n",
    "imread() function:"
   ]
  },
  {
   "cell_type": "code",
   "execution_count": 138,
   "id": "c916e3e4",
   "metadata": {},
   "outputs": [
    {
     "name": "stdout",
     "output_type": "stream",
     "text": [
      "Downloading ladybug.png\n"
     ]
    },
    {
     "data": {
      "text/plain": [
       "('C:\\\\Users\\\\USER\\\\ML\\\\REGRESSION\\\\chapter4\\\\New folder\\\\images\\\\unsupervised_learning\\\\ladybug.png',\n",
       " <http.client.HTTPMessage at 0x156fb618d90>)"
      ]
     },
     "execution_count": 138,
     "metadata": {},
     "output_type": "execute_result"
    }
   ],
   "source": [
    "import urllib\n",
    "# Download the ladybug image\n",
    "images_path = os.path.join(r'C:\\Users\\USER\\ML\\REGRESSION\\chapter4\\New folder', \"images\", \"unsupervised_learning\")\n",
    "os.makedirs(images_path, exist_ok=True)\n",
    "DOWNLOAD_ROOT = \"https://raw.githubusercontent.com/ageron/handson-ml2/master/\"\n",
    "filename = \"ladybug.png\"\n",
    "print(\"Downloading\", filename)\n",
    "url = DOWNLOAD_ROOT + \"images/unsupervised_learning/\" + filename\n",
    "urllib.request.urlretrieve(url, os.path.join(images_path, filename))"
   ]
  },
  {
   "cell_type": "code",
   "execution_count": 140,
   "id": "561f7568",
   "metadata": {},
   "outputs": [
    {
     "data": {
      "text/plain": [
       "(533, 800, 3)"
      ]
     },
     "execution_count": 140,
     "metadata": {},
     "output_type": "execute_result"
    }
   ],
   "source": [
    "import os\n",
    "from matplotlib.image import imread\n",
    "image = imread(os.path.join(images_path, filename))\n",
    "image.shape"
   ]
  },
  {
   "cell_type": "code",
   "execution_count": 142,
   "id": "14d005b5",
   "metadata": {},
   "outputs": [
    {
     "data": {
      "text/plain": [
       "(533, 800, 3)"
      ]
     },
     "execution_count": 142,
     "metadata": {},
     "output_type": "execute_result"
    }
   ],
   "source": [
    "image.shape  #3D array"
   ]
  },
  {
   "cell_type": "code",
   "execution_count": 152,
   "id": "69c04045",
   "metadata": {
    "collapsed": true
   },
   "outputs": [
    {
     "data": {
      "text/plain": [
       "array([[[0.09803922, 0.11372549, 0.00784314],\n",
       "        [0.09411765, 0.10980392, 0.00392157],\n",
       "        [0.09411765, 0.11372549, 0.        ],\n",
       "        ...,\n",
       "        [0.22352941, 0.4117647 , 0.08235294],\n",
       "        [0.21960784, 0.40392157, 0.08627451],\n",
       "        [0.20392157, 0.3882353 , 0.07450981]],\n",
       "\n",
       "       [[0.09411765, 0.10980392, 0.00392157],\n",
       "        [0.09019608, 0.10588235, 0.        ],\n",
       "        [0.09019608, 0.10588235, 0.        ],\n",
       "        ...,\n",
       "        [0.23529412, 0.42352942, 0.08627451],\n",
       "        [0.23137255, 0.41568628, 0.09803922],\n",
       "        [0.21568628, 0.4       , 0.08627451]],\n",
       "\n",
       "       [[0.09019608, 0.10588235, 0.00784314],\n",
       "        [0.08627451, 0.10196079, 0.00392157],\n",
       "        [0.08627451, 0.10196079, 0.        ],\n",
       "        ...,\n",
       "        [0.25882354, 0.44705883, 0.10980392],\n",
       "        [0.24705882, 0.43529412, 0.10588235],\n",
       "        [0.22745098, 0.4117647 , 0.09411765]],\n",
       "\n",
       "       ...,\n",
       "\n",
       "       [[0.05490196, 0.07058824, 0.00392157],\n",
       "        [0.05490196, 0.07058824, 0.00392157],\n",
       "        [0.05098039, 0.07843138, 0.00784314],\n",
       "        ...,\n",
       "        [0.05098039, 0.23921569, 0.01176471],\n",
       "        [0.03529412, 0.21960784, 0.00784314],\n",
       "        [0.01960784, 0.2       , 0.00784314]],\n",
       "\n",
       "       [[0.05490196, 0.07058824, 0.00392157],\n",
       "        [0.05490196, 0.07058824, 0.00392157],\n",
       "        [0.04705882, 0.07450981, 0.00392157],\n",
       "        ...,\n",
       "        [0.04313726, 0.23137255, 0.00392157],\n",
       "        [0.02745098, 0.21176471, 0.        ],\n",
       "        [0.01176471, 0.19215687, 0.        ]],\n",
       "\n",
       "       [[0.05098039, 0.06666667, 0.        ],\n",
       "        [0.05098039, 0.06666667, 0.        ],\n",
       "        [0.04313726, 0.07058824, 0.        ],\n",
       "        ...,\n",
       "        [0.03921569, 0.22745098, 0.        ],\n",
       "        [0.01960784, 0.20392157, 0.        ],\n",
       "        [0.00784314, 0.1882353 , 0.        ]]], dtype=float32)"
      ]
     },
     "execution_count": 152,
     "metadata": {},
     "output_type": "execute_result"
    }
   ],
   "source": [
    "image"
   ]
  },
  {
   "cell_type": "markdown",
   "id": "c460d065",
   "metadata": {},
   "source": [
    "1. The image is represented as a 3D array: \n",
    "2. the first dimension’s size is the height, the\n",
    "3. second is the width, and \n",
    "4. the third is the number of color channels, in this case red,\n",
    "green and blue (RGB)., each between 0.0 and 1.0 (or between 0 and 255\n",
    "if you use imageio.imread()). \n",
    "\n",
    "5. The following code reshapes the array to get a\n",
    "long list of RGB colors, then it clusters these colors using K-Means."
   ]
  },
  {
   "cell_type": "code",
   "execution_count": 146,
   "id": "3ba39623",
   "metadata": {},
   "outputs": [
    {
     "data": {
      "text/plain": [
       "(426400, 3)"
      ]
     },
     "execution_count": 146,
     "metadata": {},
     "output_type": "execute_result"
    }
   ],
   "source": [
    "X = image.reshape(-1, 3)  #2D aray\n",
    "X.shape"
   ]
  },
  {
   "cell_type": "code",
   "execution_count": 166,
   "id": "6e9252e6",
   "metadata": {},
   "outputs": [],
   "source": [
    "X = image.reshape(-1, 3)\n",
    "km = KMeans(n_clusters=4).fit(X)"
   ]
  },
  {
   "cell_type": "code",
   "execution_count": 167,
   "id": "290e1537",
   "metadata": {},
   "outputs": [
    {
     "data": {
      "text/plain": [
       "array([[[0.04442988, 0.15423268, 0.0083786 ],\n",
       "        [0.04442988, 0.15423268, 0.0083786 ],\n",
       "        [0.04442988, 0.15423268, 0.0083786 ],\n",
       "        ...,\n",
       "        [0.20953664, 0.37669334, 0.05660102],\n",
       "        [0.20953664, 0.37669334, 0.05660102],\n",
       "        [0.20953664, 0.37669334, 0.05660102]],\n",
       "\n",
       "       [[0.04442988, 0.15423268, 0.0083786 ],\n",
       "        [0.04442988, 0.15423268, 0.0083786 ],\n",
       "        [0.04442988, 0.15423268, 0.0083786 ],\n",
       "        ...,\n",
       "        [0.20953664, 0.37669334, 0.05660102],\n",
       "        [0.20953664, 0.37669334, 0.05660102],\n",
       "        [0.20953664, 0.37669334, 0.05660102]],\n",
       "\n",
       "       [[0.04442988, 0.15423268, 0.0083786 ],\n",
       "        [0.04442988, 0.15423268, 0.0083786 ],\n",
       "        [0.04442988, 0.15423268, 0.0083786 ],\n",
       "        ...,\n",
       "        [0.20953664, 0.37669334, 0.05660102],\n",
       "        [0.20953664, 0.37669334, 0.05660102],\n",
       "        [0.20953664, 0.37669334, 0.05660102]],\n",
       "\n",
       "       ...,\n",
       "\n",
       "       [[0.04442988, 0.15423268, 0.0083786 ],\n",
       "        [0.04442988, 0.15423268, 0.0083786 ],\n",
       "        [0.04442988, 0.15423268, 0.0083786 ],\n",
       "        ...,\n",
       "        [0.04442988, 0.15423268, 0.0083786 ],\n",
       "        [0.04442988, 0.15423268, 0.0083786 ],\n",
       "        [0.04442988, 0.15423268, 0.0083786 ]],\n",
       "\n",
       "       [[0.04442988, 0.15423268, 0.0083786 ],\n",
       "        [0.04442988, 0.15423268, 0.0083786 ],\n",
       "        [0.04442988, 0.15423268, 0.0083786 ],\n",
       "        ...,\n",
       "        [0.04442988, 0.15423268, 0.0083786 ],\n",
       "        [0.04442988, 0.15423268, 0.0083786 ],\n",
       "        [0.04442988, 0.15423268, 0.0083786 ]],\n",
       "\n",
       "       [[0.04442988, 0.15423268, 0.0083786 ],\n",
       "        [0.04442988, 0.15423268, 0.0083786 ],\n",
       "        [0.04442988, 0.15423268, 0.0083786 ],\n",
       "        ...,\n",
       "        [0.04442988, 0.15423268, 0.0083786 ],\n",
       "        [0.04442988, 0.15423268, 0.0083786 ],\n",
       "        [0.04442988, 0.15423268, 0.0083786 ]]], dtype=float32)"
      ]
     },
     "execution_count": 167,
     "metadata": {},
     "output_type": "execute_result"
    }
   ],
   "source": [
    "segmented_img = km.cluster_centers_[km.labels_]\n",
    "segmented_img\n",
    "segmented_img = segmented_img.reshape(image.shape)\n",
    "segmented_img"
   ]
  },
  {
   "cell_type": "code",
   "execution_count": 168,
   "id": "f07f9f06",
   "metadata": {},
   "outputs": [
    {
     "data": {
      "text/plain": [
       "<matplotlib.image.AxesImage at 0x156fa2c8df0>"
      ]
     },
     "execution_count": 168,
     "metadata": {},
     "output_type": "execute_result"
    },
    {
     "data": {
      "image/png": "[encoded data removed]",
      "text/plain": [
       "<Figure size 432x288 with 1 Axes>"
      ]
     },
     "metadata": {
      "needs_background": "light"
     },
     "output_type": "display_data"
    }
   ],
   "source": [
    "plt.imshow(segmented_img)"
   ]
  },
  {
   "cell_type": "markdown",
   "id": "f0035f7f",
   "metadata": {},
   "source": [
    "When you use less than 8\n",
    "clusters, notice that the ladybug’s flashy red color fails to get a cluster of its owngets merged with colors from the environment. This is due to the fact that the lady‐\n",
    "bug is quite small, much smaller than the rest of the image, so even though its color is\n",
    "flashy, K-Means fails to dedicate a cluster to it: as mentioned earlier, K-Means prefers\n",
    "clusters of similar sizes.\n"
   ]
  },
  {
   "cell_type": "markdown",
   "id": "9c2519a1",
   "metadata": {},
   "source": [
    "# Using Clustering for Preprocessing"
   ]
  },
  {
   "cell_type": "markdown",
   "id": "57f74081",
   "metadata": {},
   "source": [
    "Clustering can be an efficient approach to dimensionality reduction, in particular as a\n",
    "preprocessing step before a supervised learning algorithm. \n",
    "\n",
    "For example, let’s tackle\n",
    "the digits dataset which is a simple MNIST-like dataset containing 1,797 grayscale 8×8\n",
    "images representing digits 0 to 9. First, let’s load the dataset:\n"
   ]
  },
  {
   "cell_type": "code",
   "execution_count": 169,
   "id": "984638fc",
   "metadata": {},
   "outputs": [],
   "source": [
    "from sklearn.datasets import load_digits\n",
    "X_digits, y_digits = load_digits(return_X_y=True)"
   ]
  },
  {
   "cell_type": "code",
   "execution_count": 170,
   "id": "38690b5a",
   "metadata": {},
   "outputs": [],
   "source": [
    "from sklearn.model_selection import train_test_split\n",
    "X_train, X_test, y_train, y_test = train_test_split(X_digits, y_digits)"
   ]
  },
  {
   "cell_type": "code",
   "execution_count": 171,
   "id": "73d2f215",
   "metadata": {},
   "outputs": [
    {
     "name": "stderr",
     "output_type": "stream",
     "text": [
      "C:\\Users\\USER\\anaconda3\\lib\\site-packages\\sklearn\\linear_model\\_logistic.py:763: ConvergenceWarning: lbfgs failed to converge (status=1):\n",
      "STOP: TOTAL NO. of ITERATIONS REACHED LIMIT.\n",
      "\n",
      "Increase the number of iterations (max_iter) or scale the data as shown in:\n",
      "    https://scikit-learn.org/stable/modules/preprocessing.html\n",
      "Please also refer to the documentation for alternative solver options:\n",
      "    https://scikit-learn.org/stable/modules/linear_model.html#logistic-regression\n",
      "  n_iter_i = _check_optimize_result(\n"
     ]
    },
    {
     "data": {
      "text/plain": [
       "LogisticRegression(random_state=42)"
      ]
     },
     "execution_count": 171,
     "metadata": {},
     "output_type": "execute_result"
    }
   ],
   "source": [
    "#fit logistic regression\n",
    "from sklearn.linear_model import LogisticRegression\n",
    "log_reg = LogisticRegression(random_state=42)\n",
    "log_reg.fit(X_train, y_train)"
   ]
  },
  {
   "cell_type": "code",
   "execution_count": 172,
   "id": "2cdbb0b5",
   "metadata": {},
   "outputs": [
    {
     "data": {
      "text/plain": [
       "0.9555555555555556"
      ]
     },
     "execution_count": 172,
     "metadata": {},
     "output_type": "execute_result"
    }
   ],
   "source": [
    "log_reg.score(X_test, y_test)\n"
   ]
  },
  {
   "cell_type": "markdown",
   "id": "4e0b9cd5",
   "metadata": {},
   "source": [
    " Let’s see if we can do better by using K\u0002Means as a preprocessing step"
   ]
  },
  {
   "cell_type": "code",
   "execution_count": 178,
   "id": "b80aea5a",
   "metadata": {
    "scrolled": true
   },
   "outputs": [
    {
     "name": "stderr",
     "output_type": "stream",
     "text": [
      "C:\\Users\\USER\\anaconda3\\lib\\site-packages\\sklearn\\linear_model\\_logistic.py:763: ConvergenceWarning: lbfgs failed to converge (status=1):\n",
      "STOP: TOTAL NO. of ITERATIONS REACHED LIMIT.\n",
      "\n",
      "Increase the number of iterations (max_iter) or scale the data as shown in:\n",
      "    https://scikit-learn.org/stable/modules/preprocessing.html\n",
      "Please also refer to the documentation for alternative solver options:\n",
      "    https://scikit-learn.org/stable/modules/linear_model.html#logistic-regression\n",
      "  n_iter_i = _check_optimize_result(\n"
     ]
    },
    {
     "data": {
      "text/plain": [
       "Pipeline(steps=[('kmean', KMeans(n_clusters=50)), ('lg', LogisticRegression())])"
      ]
     },
     "execution_count": 178,
     "metadata": {},
     "output_type": "execute_result"
    }
   ],
   "source": [
    "from sklearn.pipeline import Pipeline\n",
    "pp = Pipeline([\n",
    "    ('kmean', KMeans(n_clusters=50)),\n",
    "    ('lg', LogisticRegression()),\n",
    "])\n",
    "\n",
    "pp.fit(X_train, y_train)"
   ]
  },
  {
   "cell_type": "code",
   "execution_count": 180,
   "id": "313eca4f",
   "metadata": {},
   "outputs": [
    {
     "data": {
      "text/plain": [
       "0.9733333333333334"
      ]
     },
     "execution_count": 180,
     "metadata": {},
     "output_type": "execute_result"
    }
   ],
   "source": [
    "pp.score(X_test, y_test)"
   ]
  },
  {
   "cell_type": "code",
   "execution_count": 187,
   "id": "1d1fdd02",
   "metadata": {
    "collapsed": true
   },
   "outputs": [
    {
     "name": "stdout",
     "output_type": "stream",
     "text": [
      "Fitting 2 folds for each of 18 candidates, totalling 36 fits\n"
     ]
    },
    {
     "ename": "ValueError",
     "evalue": "Invalid parameter kmeans for estimator Pipeline(steps=[('kmean', KMeans(n_clusters=50)), ('lg', LogisticRegression())]). Check the list of available parameters with `estimator.get_params().keys()`.",
     "output_type": "error",
     "traceback": [
      "\u001b[1;31m---------------------------------------------------------------------------\u001b[0m",
      "\u001b[1;31mValueError\u001b[0m                                Traceback (most recent call last)",
      "\u001b[1;32m~\\AppData\\Local\\Temp/ipykernel_8664/54141576.py\u001b[0m in \u001b[0;36m<module>\u001b[1;34m\u001b[0m\n\u001b[0;32m      5\u001b[0m \u001b[0mparam_grid\u001b[0m \u001b[1;33m=\u001b[0m \u001b[0mdict\u001b[0m\u001b[1;33m(\u001b[0m\u001b[0mkmeans__n_clusters\u001b[0m\u001b[1;33m=\u001b[0m\u001b[0mrange\u001b[0m\u001b[1;33m(\u001b[0m\u001b[1;36m2\u001b[0m\u001b[1;33m,\u001b[0m \u001b[1;36m20\u001b[0m\u001b[1;33m)\u001b[0m\u001b[1;33m)\u001b[0m\u001b[1;33m\u001b[0m\u001b[1;33m\u001b[0m\u001b[0m\n\u001b[0;32m      6\u001b[0m \u001b[0mgrid_clf\u001b[0m \u001b[1;33m=\u001b[0m \u001b[0mGridSearchCV\u001b[0m\u001b[1;33m(\u001b[0m\u001b[0mpp\u001b[0m\u001b[1;33m,\u001b[0m \u001b[0mparam_grid\u001b[0m\u001b[1;33m,\u001b[0m \u001b[0mcv\u001b[0m\u001b[1;33m=\u001b[0m\u001b[1;36m2\u001b[0m\u001b[1;33m,\u001b[0m \u001b[0mverbose\u001b[0m\u001b[1;33m=\u001b[0m\u001b[1;36m2\u001b[0m\u001b[1;33m)\u001b[0m\u001b[1;33m\u001b[0m\u001b[1;33m\u001b[0m\u001b[0m\n\u001b[1;32m----> 7\u001b[1;33m \u001b[0mgrid_clf\u001b[0m\u001b[1;33m.\u001b[0m\u001b[0mfit\u001b[0m\u001b[1;33m(\u001b[0m\u001b[0mX_train\u001b[0m\u001b[1;33m,\u001b[0m \u001b[0my_train\u001b[0m\u001b[1;33m)\u001b[0m\u001b[1;33m\u001b[0m\u001b[1;33m\u001b[0m\u001b[0m\n\u001b[0m",
      "\u001b[1;32m~\\anaconda3\\lib\\site-packages\\sklearn\\utils\\validation.py\u001b[0m in \u001b[0;36minner_f\u001b[1;34m(*args, **kwargs)\u001b[0m\n\u001b[0;32m     61\u001b[0m             \u001b[0mextra_args\u001b[0m \u001b[1;33m=\u001b[0m \u001b[0mlen\u001b[0m\u001b[1;33m(\u001b[0m\u001b[0margs\u001b[0m\u001b[1;33m)\u001b[0m \u001b[1;33m-\u001b[0m \u001b[0mlen\u001b[0m\u001b[1;33m(\u001b[0m\u001b[0mall_args\u001b[0m\u001b[1;33m)\u001b[0m\u001b[1;33m\u001b[0m\u001b[1;33m\u001b[0m\u001b[0m\n\u001b[0;32m     62\u001b[0m             \u001b[1;32mif\u001b[0m \u001b[0mextra_args\u001b[0m \u001b[1;33m<=\u001b[0m \u001b[1;36m0\u001b[0m\u001b[1;33m:\u001b[0m\u001b[1;33m\u001b[0m\u001b[1;33m\u001b[0m\u001b[0m\n\u001b[1;32m---> 63\u001b[1;33m                 \u001b[1;32mreturn\u001b[0m \u001b[0mf\u001b[0m\u001b[1;33m(\u001b[0m\u001b[1;33m*\u001b[0m\u001b[0margs\u001b[0m\u001b[1;33m,\u001b[0m \u001b[1;33m**\u001b[0m\u001b[0mkwargs\u001b[0m\u001b[1;33m)\u001b[0m\u001b[1;33m\u001b[0m\u001b[1;33m\u001b[0m\u001b[0m\n\u001b[0m\u001b[0;32m     64\u001b[0m \u001b[1;33m\u001b[0m\u001b[0m\n\u001b[0;32m     65\u001b[0m             \u001b[1;31m# extra_args > 0\u001b[0m\u001b[1;33m\u001b[0m\u001b[1;33m\u001b[0m\u001b[0m\n",
      "\u001b[1;32m~\\anaconda3\\lib\\site-packages\\sklearn\\model_selection\\_search.py\u001b[0m in \u001b[0;36mfit\u001b[1;34m(self, X, y, groups, **fit_params)\u001b[0m\n\u001b[0;32m    839\u001b[0m                 \u001b[1;32mreturn\u001b[0m \u001b[0mresults\u001b[0m\u001b[1;33m\u001b[0m\u001b[1;33m\u001b[0m\u001b[0m\n\u001b[0;32m    840\u001b[0m \u001b[1;33m\u001b[0m\u001b[0m\n\u001b[1;32m--> 841\u001b[1;33m             \u001b[0mself\u001b[0m\u001b[1;33m.\u001b[0m\u001b[0m_run_search\u001b[0m\u001b[1;33m(\u001b[0m\u001b[0mevaluate_candidates\u001b[0m\u001b[1;33m)\u001b[0m\u001b[1;33m\u001b[0m\u001b[1;33m\u001b[0m\u001b[0m\n\u001b[0m\u001b[0;32m    842\u001b[0m \u001b[1;33m\u001b[0m\u001b[0m\n\u001b[0;32m    843\u001b[0m             \u001b[1;31m# multimetric is determined here because in the case of a callable\u001b[0m\u001b[1;33m\u001b[0m\u001b[1;33m\u001b[0m\u001b[0m\n",
      "\u001b[1;32m~\\anaconda3\\lib\\site-packages\\sklearn\\model_selection\\_search.py\u001b[0m in \u001b[0;36m_run_search\u001b[1;34m(self, evaluate_candidates)\u001b[0m\n\u001b[0;32m   1294\u001b[0m     \u001b[1;32mdef\u001b[0m \u001b[0m_run_search\u001b[0m\u001b[1;33m(\u001b[0m\u001b[0mself\u001b[0m\u001b[1;33m,\u001b[0m \u001b[0mevaluate_candidates\u001b[0m\u001b[1;33m)\u001b[0m\u001b[1;33m:\u001b[0m\u001b[1;33m\u001b[0m\u001b[1;33m\u001b[0m\u001b[0m\n\u001b[0;32m   1295\u001b[0m         \u001b[1;34m\"\"\"Search all candidates in param_grid\"\"\"\u001b[0m\u001b[1;33m\u001b[0m\u001b[1;33m\u001b[0m\u001b[0m\n\u001b[1;32m-> 1296\u001b[1;33m         \u001b[0mevaluate_candidates\u001b[0m\u001b[1;33m(\u001b[0m\u001b[0mParameterGrid\u001b[0m\u001b[1;33m(\u001b[0m\u001b[0mself\u001b[0m\u001b[1;33m.\u001b[0m\u001b[0mparam_grid\u001b[0m\u001b[1;33m)\u001b[0m\u001b[1;33m)\u001b[0m\u001b[1;33m\u001b[0m\u001b[1;33m\u001b[0m\u001b[0m\n\u001b[0m\u001b[0;32m   1297\u001b[0m \u001b[1;33m\u001b[0m\u001b[0m\n\u001b[0;32m   1298\u001b[0m \u001b[1;33m\u001b[0m\u001b[0m\n",
      "\u001b[1;32m~\\anaconda3\\lib\\site-packages\\sklearn\\model_selection\\_search.py\u001b[0m in \u001b[0;36mevaluate_candidates\u001b[1;34m(candidate_params, cv, more_results)\u001b[0m\n\u001b[0;32m    793\u001b[0m                               n_splits, n_candidates, n_candidates * n_splits))\n\u001b[0;32m    794\u001b[0m \u001b[1;33m\u001b[0m\u001b[0m\n\u001b[1;32m--> 795\u001b[1;33m                 out = parallel(delayed(_fit_and_score)(clone(base_estimator),\n\u001b[0m\u001b[0;32m    796\u001b[0m                                                        \u001b[0mX\u001b[0m\u001b[1;33m,\u001b[0m \u001b[0my\u001b[0m\u001b[1;33m,\u001b[0m\u001b[1;33m\u001b[0m\u001b[1;33m\u001b[0m\u001b[0m\n\u001b[0;32m    797\u001b[0m                                                        \u001b[0mtrain\u001b[0m\u001b[1;33m=\u001b[0m\u001b[0mtrain\u001b[0m\u001b[1;33m,\u001b[0m \u001b[0mtest\u001b[0m\u001b[1;33m=\u001b[0m\u001b[0mtest\u001b[0m\u001b[1;33m,\u001b[0m\u001b[1;33m\u001b[0m\u001b[1;33m\u001b[0m\u001b[0m\n",
      "\u001b[1;32m~\\anaconda3\\lib\\site-packages\\joblib\\parallel.py\u001b[0m in \u001b[0;36m__call__\u001b[1;34m(self, iterable)\u001b[0m\n\u001b[0;32m   1041\u001b[0m             \u001b[1;31m# remaining jobs.\u001b[0m\u001b[1;33m\u001b[0m\u001b[1;33m\u001b[0m\u001b[0m\n\u001b[0;32m   1042\u001b[0m             \u001b[0mself\u001b[0m\u001b[1;33m.\u001b[0m\u001b[0m_iterating\u001b[0m \u001b[1;33m=\u001b[0m \u001b[1;32mFalse\u001b[0m\u001b[1;33m\u001b[0m\u001b[1;33m\u001b[0m\u001b[0m\n\u001b[1;32m-> 1043\u001b[1;33m             \u001b[1;32mif\u001b[0m \u001b[0mself\u001b[0m\u001b[1;33m.\u001b[0m\u001b[0mdispatch_one_batch\u001b[0m\u001b[1;33m(\u001b[0m\u001b[0miterator\u001b[0m\u001b[1;33m)\u001b[0m\u001b[1;33m:\u001b[0m\u001b[1;33m\u001b[0m\u001b[1;33m\u001b[0m\u001b[0m\n\u001b[0m\u001b[0;32m   1044\u001b[0m                 \u001b[0mself\u001b[0m\u001b[1;33m.\u001b[0m\u001b[0m_iterating\u001b[0m \u001b[1;33m=\u001b[0m \u001b[0mself\u001b[0m\u001b[1;33m.\u001b[0m\u001b[0m_original_iterator\u001b[0m \u001b[1;32mis\u001b[0m \u001b[1;32mnot\u001b[0m \u001b[1;32mNone\u001b[0m\u001b[1;33m\u001b[0m\u001b[1;33m\u001b[0m\u001b[0m\n\u001b[0;32m   1045\u001b[0m \u001b[1;33m\u001b[0m\u001b[0m\n",
      "\u001b[1;32m~\\anaconda3\\lib\\site-packages\\joblib\\parallel.py\u001b[0m in \u001b[0;36mdispatch_one_batch\u001b[1;34m(self, iterator)\u001b[0m\n\u001b[0;32m    859\u001b[0m                 \u001b[1;32mreturn\u001b[0m \u001b[1;32mFalse\u001b[0m\u001b[1;33m\u001b[0m\u001b[1;33m\u001b[0m\u001b[0m\n\u001b[0;32m    860\u001b[0m             \u001b[1;32melse\u001b[0m\u001b[1;33m:\u001b[0m\u001b[1;33m\u001b[0m\u001b[1;33m\u001b[0m\u001b[0m\n\u001b[1;32m--> 861\u001b[1;33m                 \u001b[0mself\u001b[0m\u001b[1;33m.\u001b[0m\u001b[0m_dispatch\u001b[0m\u001b[1;33m(\u001b[0m\u001b[0mtasks\u001b[0m\u001b[1;33m)\u001b[0m\u001b[1;33m\u001b[0m\u001b[1;33m\u001b[0m\u001b[0m\n\u001b[0m\u001b[0;32m    862\u001b[0m                 \u001b[1;32mreturn\u001b[0m \u001b[1;32mTrue\u001b[0m\u001b[1;33m\u001b[0m\u001b[1;33m\u001b[0m\u001b[0m\n\u001b[0;32m    863\u001b[0m \u001b[1;33m\u001b[0m\u001b[0m\n",
      "\u001b[1;32m~\\anaconda3\\lib\\site-packages\\joblib\\parallel.py\u001b[0m in \u001b[0;36m_dispatch\u001b[1;34m(self, batch)\u001b[0m\n\u001b[0;32m    777\u001b[0m         \u001b[1;32mwith\u001b[0m \u001b[0mself\u001b[0m\u001b[1;33m.\u001b[0m\u001b[0m_lock\u001b[0m\u001b[1;33m:\u001b[0m\u001b[1;33m\u001b[0m\u001b[1;33m\u001b[0m\u001b[0m\n\u001b[0;32m    778\u001b[0m             \u001b[0mjob_idx\u001b[0m \u001b[1;33m=\u001b[0m \u001b[0mlen\u001b[0m\u001b[1;33m(\u001b[0m\u001b[0mself\u001b[0m\u001b[1;33m.\u001b[0m\u001b[0m_jobs\u001b[0m\u001b[1;33m)\u001b[0m\u001b[1;33m\u001b[0m\u001b[1;33m\u001b[0m\u001b[0m\n\u001b[1;32m--> 779\u001b[1;33m             \u001b[0mjob\u001b[0m \u001b[1;33m=\u001b[0m \u001b[0mself\u001b[0m\u001b[1;33m.\u001b[0m\u001b[0m_backend\u001b[0m\u001b[1;33m.\u001b[0m\u001b[0mapply_async\u001b[0m\u001b[1;33m(\u001b[0m\u001b[0mbatch\u001b[0m\u001b[1;33m,\u001b[0m \u001b[0mcallback\u001b[0m\u001b[1;33m=\u001b[0m\u001b[0mcb\u001b[0m\u001b[1;33m)\u001b[0m\u001b[1;33m\u001b[0m\u001b[1;33m\u001b[0m\u001b[0m\n\u001b[0m\u001b[0;32m    780\u001b[0m             \u001b[1;31m# A job can complete so quickly than its callback is\u001b[0m\u001b[1;33m\u001b[0m\u001b[1;33m\u001b[0m\u001b[0m\n\u001b[0;32m    781\u001b[0m             \u001b[1;31m# called before we get here, causing self._jobs to\u001b[0m\u001b[1;33m\u001b[0m\u001b[1;33m\u001b[0m\u001b[0m\n",
      "\u001b[1;32m~\\anaconda3\\lib\\site-packages\\joblib\\_parallel_backends.py\u001b[0m in \u001b[0;36mapply_async\u001b[1;34m(self, func, callback)\u001b[0m\n\u001b[0;32m    206\u001b[0m     \u001b[1;32mdef\u001b[0m \u001b[0mapply_async\u001b[0m\u001b[1;33m(\u001b[0m\u001b[0mself\u001b[0m\u001b[1;33m,\u001b[0m \u001b[0mfunc\u001b[0m\u001b[1;33m,\u001b[0m \u001b[0mcallback\u001b[0m\u001b[1;33m=\u001b[0m\u001b[1;32mNone\u001b[0m\u001b[1;33m)\u001b[0m\u001b[1;33m:\u001b[0m\u001b[1;33m\u001b[0m\u001b[1;33m\u001b[0m\u001b[0m\n\u001b[0;32m    207\u001b[0m         \u001b[1;34m\"\"\"Schedule a func to be run\"\"\"\u001b[0m\u001b[1;33m\u001b[0m\u001b[1;33m\u001b[0m\u001b[0m\n\u001b[1;32m--> 208\u001b[1;33m         \u001b[0mresult\u001b[0m \u001b[1;33m=\u001b[0m \u001b[0mImmediateResult\u001b[0m\u001b[1;33m(\u001b[0m\u001b[0mfunc\u001b[0m\u001b[1;33m)\u001b[0m\u001b[1;33m\u001b[0m\u001b[1;33m\u001b[0m\u001b[0m\n\u001b[0m\u001b[0;32m    209\u001b[0m         \u001b[1;32mif\u001b[0m \u001b[0mcallback\u001b[0m\u001b[1;33m:\u001b[0m\u001b[1;33m\u001b[0m\u001b[1;33m\u001b[0m\u001b[0m\n\u001b[0;32m    210\u001b[0m             \u001b[0mcallback\u001b[0m\u001b[1;33m(\u001b[0m\u001b[0mresult\u001b[0m\u001b[1;33m)\u001b[0m\u001b[1;33m\u001b[0m\u001b[1;33m\u001b[0m\u001b[0m\n",
      "\u001b[1;32m~\\anaconda3\\lib\\site-packages\\joblib\\_parallel_backends.py\u001b[0m in \u001b[0;36m__init__\u001b[1;34m(self, batch)\u001b[0m\n\u001b[0;32m    570\u001b[0m         \u001b[1;31m# Don't delay the application, to avoid keeping the input\u001b[0m\u001b[1;33m\u001b[0m\u001b[1;33m\u001b[0m\u001b[0m\n\u001b[0;32m    571\u001b[0m         \u001b[1;31m# arguments in memory\u001b[0m\u001b[1;33m\u001b[0m\u001b[1;33m\u001b[0m\u001b[0m\n\u001b[1;32m--> 572\u001b[1;33m         \u001b[0mself\u001b[0m\u001b[1;33m.\u001b[0m\u001b[0mresults\u001b[0m \u001b[1;33m=\u001b[0m \u001b[0mbatch\u001b[0m\u001b[1;33m(\u001b[0m\u001b[1;33m)\u001b[0m\u001b[1;33m\u001b[0m\u001b[1;33m\u001b[0m\u001b[0m\n\u001b[0m\u001b[0;32m    573\u001b[0m \u001b[1;33m\u001b[0m\u001b[0m\n\u001b[0;32m    574\u001b[0m     \u001b[1;32mdef\u001b[0m \u001b[0mget\u001b[0m\u001b[1;33m(\u001b[0m\u001b[0mself\u001b[0m\u001b[1;33m)\u001b[0m\u001b[1;33m:\u001b[0m\u001b[1;33m\u001b[0m\u001b[1;33m\u001b[0m\u001b[0m\n",
      "\u001b[1;32m~\\anaconda3\\lib\\site-packages\\joblib\\parallel.py\u001b[0m in \u001b[0;36m__call__\u001b[1;34m(self)\u001b[0m\n\u001b[0;32m    260\u001b[0m         \u001b[1;31m# change the default number of processes to -1\u001b[0m\u001b[1;33m\u001b[0m\u001b[1;33m\u001b[0m\u001b[0m\n\u001b[0;32m    261\u001b[0m         \u001b[1;32mwith\u001b[0m \u001b[0mparallel_backend\u001b[0m\u001b[1;33m(\u001b[0m\u001b[0mself\u001b[0m\u001b[1;33m.\u001b[0m\u001b[0m_backend\u001b[0m\u001b[1;33m,\u001b[0m \u001b[0mn_jobs\u001b[0m\u001b[1;33m=\u001b[0m\u001b[0mself\u001b[0m\u001b[1;33m.\u001b[0m\u001b[0m_n_jobs\u001b[0m\u001b[1;33m)\u001b[0m\u001b[1;33m:\u001b[0m\u001b[1;33m\u001b[0m\u001b[1;33m\u001b[0m\u001b[0m\n\u001b[1;32m--> 262\u001b[1;33m             return [func(*args, **kwargs)\n\u001b[0m\u001b[0;32m    263\u001b[0m                     for func, args, kwargs in self.items]\n\u001b[0;32m    264\u001b[0m \u001b[1;33m\u001b[0m\u001b[0m\n",
      "\u001b[1;32m~\\anaconda3\\lib\\site-packages\\joblib\\parallel.py\u001b[0m in \u001b[0;36m<listcomp>\u001b[1;34m(.0)\u001b[0m\n\u001b[0;32m    260\u001b[0m         \u001b[1;31m# change the default number of processes to -1\u001b[0m\u001b[1;33m\u001b[0m\u001b[1;33m\u001b[0m\u001b[0m\n\u001b[0;32m    261\u001b[0m         \u001b[1;32mwith\u001b[0m \u001b[0mparallel_backend\u001b[0m\u001b[1;33m(\u001b[0m\u001b[0mself\u001b[0m\u001b[1;33m.\u001b[0m\u001b[0m_backend\u001b[0m\u001b[1;33m,\u001b[0m \u001b[0mn_jobs\u001b[0m\u001b[1;33m=\u001b[0m\u001b[0mself\u001b[0m\u001b[1;33m.\u001b[0m\u001b[0m_n_jobs\u001b[0m\u001b[1;33m)\u001b[0m\u001b[1;33m:\u001b[0m\u001b[1;33m\u001b[0m\u001b[1;33m\u001b[0m\u001b[0m\n\u001b[1;32m--> 262\u001b[1;33m             return [func(*args, **kwargs)\n\u001b[0m\u001b[0;32m    263\u001b[0m                     for func, args, kwargs in self.items]\n\u001b[0;32m    264\u001b[0m \u001b[1;33m\u001b[0m\u001b[0m\n",
      "\u001b[1;32m~\\anaconda3\\lib\\site-packages\\sklearn\\utils\\fixes.py\u001b[0m in \u001b[0;36m__call__\u001b[1;34m(self, *args, **kwargs)\u001b[0m\n\u001b[0;32m    220\u001b[0m     \u001b[1;32mdef\u001b[0m \u001b[0m__call__\u001b[0m\u001b[1;33m(\u001b[0m\u001b[0mself\u001b[0m\u001b[1;33m,\u001b[0m \u001b[1;33m*\u001b[0m\u001b[0margs\u001b[0m\u001b[1;33m,\u001b[0m \u001b[1;33m**\u001b[0m\u001b[0mkwargs\u001b[0m\u001b[1;33m)\u001b[0m\u001b[1;33m:\u001b[0m\u001b[1;33m\u001b[0m\u001b[1;33m\u001b[0m\u001b[0m\n\u001b[0;32m    221\u001b[0m         \u001b[1;32mwith\u001b[0m \u001b[0mconfig_context\u001b[0m\u001b[1;33m(\u001b[0m\u001b[1;33m**\u001b[0m\u001b[0mself\u001b[0m\u001b[1;33m.\u001b[0m\u001b[0mconfig\u001b[0m\u001b[1;33m)\u001b[0m\u001b[1;33m:\u001b[0m\u001b[1;33m\u001b[0m\u001b[1;33m\u001b[0m\u001b[0m\n\u001b[1;32m--> 222\u001b[1;33m             \u001b[1;32mreturn\u001b[0m \u001b[0mself\u001b[0m\u001b[1;33m.\u001b[0m\u001b[0mfunction\u001b[0m\u001b[1;33m(\u001b[0m\u001b[1;33m*\u001b[0m\u001b[0margs\u001b[0m\u001b[1;33m,\u001b[0m \u001b[1;33m**\u001b[0m\u001b[0mkwargs\u001b[0m\u001b[1;33m)\u001b[0m\u001b[1;33m\u001b[0m\u001b[1;33m\u001b[0m\u001b[0m\n\u001b[0m",
      "\u001b[1;32m~\\anaconda3\\lib\\site-packages\\sklearn\\model_selection\\_validation.py\u001b[0m in \u001b[0;36m_fit_and_score\u001b[1;34m(estimator, X, y, scorer, train, test, verbose, parameters, fit_params, return_train_score, return_parameters, return_n_test_samples, return_times, return_estimator, split_progress, candidate_progress, error_score)\u001b[0m\n\u001b[0;32m    584\u001b[0m             \u001b[0mcloned_parameters\u001b[0m\u001b[1;33m[\u001b[0m\u001b[0mk\u001b[0m\u001b[1;33m]\u001b[0m \u001b[1;33m=\u001b[0m \u001b[0mclone\u001b[0m\u001b[1;33m(\u001b[0m\u001b[0mv\u001b[0m\u001b[1;33m,\u001b[0m \u001b[0msafe\u001b[0m\u001b[1;33m=\u001b[0m\u001b[1;32mFalse\u001b[0m\u001b[1;33m)\u001b[0m\u001b[1;33m\u001b[0m\u001b[1;33m\u001b[0m\u001b[0m\n\u001b[0;32m    585\u001b[0m \u001b[1;33m\u001b[0m\u001b[0m\n\u001b[1;32m--> 586\u001b[1;33m         \u001b[0mestimator\u001b[0m \u001b[1;33m=\u001b[0m \u001b[0mestimator\u001b[0m\u001b[1;33m.\u001b[0m\u001b[0mset_params\u001b[0m\u001b[1;33m(\u001b[0m\u001b[1;33m**\u001b[0m\u001b[0mcloned_parameters\u001b[0m\u001b[1;33m)\u001b[0m\u001b[1;33m\u001b[0m\u001b[1;33m\u001b[0m\u001b[0m\n\u001b[0m\u001b[0;32m    587\u001b[0m \u001b[1;33m\u001b[0m\u001b[0m\n\u001b[0;32m    588\u001b[0m     \u001b[0mstart_time\u001b[0m \u001b[1;33m=\u001b[0m \u001b[0mtime\u001b[0m\u001b[1;33m.\u001b[0m\u001b[0mtime\u001b[0m\u001b[1;33m(\u001b[0m\u001b[1;33m)\u001b[0m\u001b[1;33m\u001b[0m\u001b[1;33m\u001b[0m\u001b[0m\n",
      "\u001b[1;32m~\\anaconda3\\lib\\site-packages\\sklearn\\pipeline.py\u001b[0m in \u001b[0;36mset_params\u001b[1;34m(self, **kwargs)\u001b[0m\n\u001b[0;32m    148\u001b[0m         \u001b[0mself\u001b[0m\u001b[1;33m\u001b[0m\u001b[1;33m\u001b[0m\u001b[0m\n\u001b[0;32m    149\u001b[0m         \"\"\"\n\u001b[1;32m--> 150\u001b[1;33m         \u001b[0mself\u001b[0m\u001b[1;33m.\u001b[0m\u001b[0m_set_params\u001b[0m\u001b[1;33m(\u001b[0m\u001b[1;34m'steps'\u001b[0m\u001b[1;33m,\u001b[0m \u001b[1;33m**\u001b[0m\u001b[0mkwargs\u001b[0m\u001b[1;33m)\u001b[0m\u001b[1;33m\u001b[0m\u001b[1;33m\u001b[0m\u001b[0m\n\u001b[0m\u001b[0;32m    151\u001b[0m         \u001b[1;32mreturn\u001b[0m \u001b[0mself\u001b[0m\u001b[1;33m\u001b[0m\u001b[1;33m\u001b[0m\u001b[0m\n\u001b[0;32m    152\u001b[0m \u001b[1;33m\u001b[0m\u001b[0m\n",
      "\u001b[1;32m~\\anaconda3\\lib\\site-packages\\sklearn\\utils\\metaestimators.py\u001b[0m in \u001b[0;36m_set_params\u001b[1;34m(self, attr, **params)\u001b[0m\n\u001b[0;32m     52\u001b[0m                 \u001b[0mself\u001b[0m\u001b[1;33m.\u001b[0m\u001b[0m_replace_estimator\u001b[0m\u001b[1;33m(\u001b[0m\u001b[0mattr\u001b[0m\u001b[1;33m,\u001b[0m \u001b[0mname\u001b[0m\u001b[1;33m,\u001b[0m \u001b[0mparams\u001b[0m\u001b[1;33m.\u001b[0m\u001b[0mpop\u001b[0m\u001b[1;33m(\u001b[0m\u001b[0mname\u001b[0m\u001b[1;33m)\u001b[0m\u001b[1;33m)\u001b[0m\u001b[1;33m\u001b[0m\u001b[1;33m\u001b[0m\u001b[0m\n\u001b[0;32m     53\u001b[0m         \u001b[1;31m# 3. Step parameters and other initialisation arguments\u001b[0m\u001b[1;33m\u001b[0m\u001b[1;33m\u001b[0m\u001b[0m\n\u001b[1;32m---> 54\u001b[1;33m         \u001b[0msuper\u001b[0m\u001b[1;33m(\u001b[0m\u001b[1;33m)\u001b[0m\u001b[1;33m.\u001b[0m\u001b[0mset_params\u001b[0m\u001b[1;33m(\u001b[0m\u001b[1;33m**\u001b[0m\u001b[0mparams\u001b[0m\u001b[1;33m)\u001b[0m\u001b[1;33m\u001b[0m\u001b[1;33m\u001b[0m\u001b[0m\n\u001b[0m\u001b[0;32m     55\u001b[0m         \u001b[1;32mreturn\u001b[0m \u001b[0mself\u001b[0m\u001b[1;33m\u001b[0m\u001b[1;33m\u001b[0m\u001b[0m\n\u001b[0;32m     56\u001b[0m \u001b[1;33m\u001b[0m\u001b[0m\n",
      "\u001b[1;32m~\\anaconda3\\lib\\site-packages\\sklearn\\base.py\u001b[0m in \u001b[0;36mset_params\u001b[1;34m(self, **params)\u001b[0m\n\u001b[0;32m    228\u001b[0m             \u001b[0mkey\u001b[0m\u001b[1;33m,\u001b[0m \u001b[0mdelim\u001b[0m\u001b[1;33m,\u001b[0m \u001b[0msub_key\u001b[0m \u001b[1;33m=\u001b[0m \u001b[0mkey\u001b[0m\u001b[1;33m.\u001b[0m\u001b[0mpartition\u001b[0m\u001b[1;33m(\u001b[0m\u001b[1;34m'__'\u001b[0m\u001b[1;33m)\u001b[0m\u001b[1;33m\u001b[0m\u001b[1;33m\u001b[0m\u001b[0m\n\u001b[0;32m    229\u001b[0m             \u001b[1;32mif\u001b[0m \u001b[0mkey\u001b[0m \u001b[1;32mnot\u001b[0m \u001b[1;32min\u001b[0m \u001b[0mvalid_params\u001b[0m\u001b[1;33m:\u001b[0m\u001b[1;33m\u001b[0m\u001b[1;33m\u001b[0m\u001b[0m\n\u001b[1;32m--> 230\u001b[1;33m                 raise ValueError('Invalid parameter %s for estimator %s. '\n\u001b[0m\u001b[0;32m    231\u001b[0m                                  \u001b[1;34m'Check the list of available parameters '\u001b[0m\u001b[1;33m\u001b[0m\u001b[1;33m\u001b[0m\u001b[0m\n\u001b[0;32m    232\u001b[0m                                  \u001b[1;34m'with `estimator.get_params().keys()`.'\u001b[0m \u001b[1;33m%\u001b[0m\u001b[1;33m\u001b[0m\u001b[1;33m\u001b[0m\u001b[0m\n",
      "\u001b[1;31mValueError\u001b[0m: Invalid parameter kmeans for estimator Pipeline(steps=[('kmean', KMeans(n_clusters=50)), ('lg', LogisticRegression())]). Check the list of available parameters with `estimator.get_params().keys()`."
     ]
    }
   ],
   "source": [
    "#how to choose the value of k in above as we choosen it randomly\n",
    "#Let’s use GridSearchCV to find theoptimal number of clusters:\n",
    "\n",
    "from sklearn.model_selection import GridSearchCV\n",
    "param_grid = dict(kmeans__n_clusters=range(2, 20))\n",
    "grid_clf = GridSearchCV(pp, param_grid, cv=2, verbose=2)\n",
    "grid_clf.fit(X_train, y_train)"
   ]
  },
  {
   "cell_type": "code",
   "execution_count": 188,
   "id": "bcd5e742",
   "metadata": {},
   "outputs": [
    {
     "data": {
      "text/plain": [
       "Pipeline(steps=[('kmeans', KMeans(n_clusters=50, random_state=42)),\n",
       "                ('log_reg',\n",
       "                 LogisticRegression(max_iter=5000, multi_class='ovr',\n",
       "                                    random_state=42))])"
      ]
     },
     "execution_count": 188,
     "metadata": {},
     "output_type": "execute_result"
    }
   ],
   "source": [
    "pipeline = Pipeline([\n",
    "    (\"kmeans\", KMeans(n_clusters=50, random_state=42)),\n",
    "    (\"log_reg\", LogisticRegression(multi_class=\"ovr\", solver=\"lbfgs\", random_state=42)),\n",
    "])\n",
    "pipeline.fit(X_train, y_train)"
   ]
  },
  {
   "cell_type": "code",
   "execution_count": 189,
   "id": "2d6e5d4c",
   "metadata": {},
   "outputs": [
    {
     "data": {
      "text/plain": [
       "0.9822222222222222"
      ]
     },
     "execution_count": 189,
     "metadata": {},
     "output_type": "execute_result"
    }
   ],
   "source": [
    "pipeline_score = pipeline.score(X_test, y_test)\n",
    "pipeline_score"
   ]
  },
  {
   "cell_type": "code",
   "execution_count": 193,
   "id": "05e09640",
   "metadata": {
    "scrolled": true
   },
   "outputs": [
    {
     "name": "stdout",
     "output_type": "stream",
     "text": [
      "Fitting 3 folds for each of 3 candidates, totalling 9 fits\n",
      "[CV] END ..............................kmeans__n_clusters=89; total time=  15.3s\n",
      "[CV] END ..............................kmeans__n_clusters=89; total time=  22.6s\n",
      "[CV] END ..............................kmeans__n_clusters=89; total time=  14.9s\n",
      "[CV] END ..............................kmeans__n_clusters=90; total time=  17.1s\n",
      "[CV] END ..............................kmeans__n_clusters=90; total time=  12.6s\n",
      "[CV] END ..............................kmeans__n_clusters=90; total time=   9.5s\n",
      "[CV] END ..............................kmeans__n_clusters=91; total time=  13.1s\n",
      "[CV] END ..............................kmeans__n_clusters=91; total time=  12.7s\n",
      "[CV] END ..............................kmeans__n_clusters=91; total time=  12.7s\n"
     ]
    },
    {
     "data": {
      "text/plain": [
       "GridSearchCV(cv=3,\n",
       "             estimator=Pipeline(steps=[('kmeans',\n",
       "                                        KMeans(n_clusters=50, random_state=42)),\n",
       "                                       ('log_reg',\n",
       "                                        LogisticRegression(max_iter=5000,\n",
       "                                                           multi_class='ovr',\n",
       "                                                           random_state=42))]),\n",
       "             param_grid={'kmeans__n_clusters': range(89, 92)}, verbose=2)"
      ]
     },
     "execution_count": 193,
     "metadata": {},
     "output_type": "execute_result"
    }
   ],
   "source": [
    "param_grid = dict(kmeans__n_clusters=range(89, 92))\n",
    "grid_clf = GridSearchCV(pipeline, param_grid, cv=3, verbose=2)\n",
    "grid_clf.fit(X_train, y_train)"
   ]
  },
  {
   "cell_type": "code",
   "execution_count": 194,
   "id": "11ee3145",
   "metadata": {},
   "outputs": [
    {
     "data": {
      "text/plain": [
       "{'kmeans__n_clusters': 91}"
      ]
     },
     "execution_count": 194,
     "metadata": {},
     "output_type": "execute_result"
    }
   ],
   "source": [
    "grid_clf.best_params_"
   ]
  },
  {
   "cell_type": "code",
   "execution_count": 195,
   "id": "e1a868e4",
   "metadata": {},
   "outputs": [
    {
     "data": {
      "text/plain": [
       "0.9777777777777777"
      ]
     },
     "execution_count": 195,
     "metadata": {},
     "output_type": "execute_result"
    }
   ],
   "source": [
    "grid_clf.score(X_test, y_test)"
   ]
  },
  {
   "cell_type": "code",
   "execution_count": null,
   "id": "b080bd5a",
   "metadata": {},
   "outputs": [],
   "source": []
  },
  {
   "cell_type": "markdown",
   "id": "954fc1f0",
   "metadata": {},
   "source": [
    "# Using Clustering for Semi-Supervised Learning"
   ]
  },
  {
   "cell_type": "markdown",
   "id": "4519fd00",
   "metadata": {},
   "source": [
    "\n",
    "Another use case for clustering is in semi-supervised learning, when we have plenty of unlabeled instances and very few labeled instances."
   ]
  },
  {
   "cell_type": "code",
   "execution_count": 197,
   "id": "101adca5",
   "metadata": {},
   "outputs": [
    {
     "data": {
      "text/plain": [
       "0.8577777777777778"
      ]
     },
     "execution_count": 197,
     "metadata": {},
     "output_type": "execute_result"
    }
   ],
   "source": [
    "n_labeled = 50\n",
    "log_reg = LogisticRegression(multi_class=\"ovr\", solver=\"lbfgs\", random_state=42)\n",
    "log_reg.fit(X_train[:n_labeled], y_train[:n_labeled])\n",
    "log_reg.score(X_test, y_test)"
   ]
  },
  {
   "cell_type": "code",
   "execution_count": null,
   "id": "fcd72087",
   "metadata": {},
   "outputs": [],
   "source": []
  },
  {
   "cell_type": "markdown",
   "id": "67789d49",
   "metadata": {},
   "source": [
    "It's much less than earlier of course. Let's see how we can do better. First, let's cluster the training set into 50 clusters, then for each cluster let's find the image closest to the centroid. We will call these images the representative images:"
   ]
  },
  {
   "cell_type": "code",
   "execution_count": 206,
   "id": "c748f629",
   "metadata": {},
   "outputs": [],
   "source": [
    "kmeans = KMeans(n_clusters=50, random_state=42)\n",
    "X_digits_dist = kmeans.fit_transform(X_train)\n",
    "representative_digit_idx = np.argmin(X_digits_dist, axis=0)\n",
    "X_representative_digits = X_train[representative_digit_idx]"
   ]
  },
  {
   "cell_type": "code",
   "execution_count": 208,
   "id": "1678c0cf",
   "metadata": {},
   "outputs": [
    {
     "data": {
      "text/plain": [
       "array([[ 0.,  0.,  1., ...,  0.,  0.,  0.],\n",
       "       [ 0.,  0.,  7., ..., 10.,  1.,  0.],\n",
       "       [ 0.,  4., 15., ..., 16.,  9.,  0.],\n",
       "       ...,\n",
       "       [ 0.,  0.,  2., ...,  0.,  0.,  0.],\n",
       "       [ 0.,  0.,  1., ...,  8.,  0.,  0.],\n",
       "       [ 0.,  0.,  0., ...,  5.,  0.,  0.]])"
      ]
     },
     "execution_count": 208,
     "metadata": {},
     "output_type": "execute_result"
    }
   ],
   "source": [
    "X_representative_digits"
   ]
  },
  {
   "cell_type": "code",
   "execution_count": 209,
   "id": "66cb410d",
   "metadata": {},
   "outputs": [
    {
     "data": {
      "text/plain": [
       "array([[ 0.,  0.,  8., ...,  0.,  0.,  0.],\n",
       "       [ 0.,  6., 13., ...,  0.,  0.,  0.],\n",
       "       [ 0.,  0.,  1., ..., 13.,  1.,  0.],\n",
       "       ...,\n",
       "       [ 0.,  0.,  0., ...,  7.,  0.,  0.],\n",
       "       [ 0.,  0.,  0., ...,  4.,  0.,  0.],\n",
       "       [ 0.,  0.,  3., ..., 12.,  0.,  0.]])"
      ]
     },
     "execution_count": 209,
     "metadata": {},
     "output_type": "execute_result"
    }
   ],
   "source": [
    "X_train"
   ]
  },
  {
   "cell_type": "code",
   "execution_count": 210,
   "id": "ba8324e2",
   "metadata": {},
   "outputs": [],
   "source": [
    "#not understood see it later"
   ]
  },
  {
   "cell_type": "markdown",
   "id": "c9af35fa",
   "metadata": {},
   "source": [
    "# DBSCAN\n",
    "This approach allows the algorithm to identify clusters of\n",
    "arbitrary shapes.\n",
    "This algorithm defines clusters as continuous regions of high density\n",
    "\n",
    "ε\u0002neighborhood\n",
    "For each instance, the algorithm counts how many instances are located within a\n",
    "small distance ε (epsilon) from it. This region is called the instance’s ε\u0002neighborhood.\n",
    "\n",
    "\n",
    "core instance\n",
    "• If an instance has at least min_samples instances in its ε-neighborhood (includ‐\n",
    "ing itself), then it is considered a core instance. In other words, core instances are\n",
    "those that are located in dense regions.\n",
    "\n",
    "\n",
    "• All instances in the neighborhood of a core instance belong to the same cluster.\n",
    "This may include other core instances, therefore a long sequence of neighboring\n",
    "core instances forms a single cluster.\n",
    "\n",
    "\n",
    "anomaly\n",
    "• Any instance that is not a core instance and does not have one in its neighbor‐\n",
    "hood is considered an anomaly.\n",
    "\n",
    "\n",
    "This algorithm works well if all the clusters are dense enough, and they are well sepa‐\n",
    "rated by low-density regions\n"
   ]
  },
  {
   "cell_type": "code",
   "execution_count": 212,
   "id": "97c38cac",
   "metadata": {},
   "outputs": [],
   "source": [
    "from sklearn.datasets import make_moons\n",
    "X, y = make_moons(n_samples=1000, noise=0.05, random_state=42)\n",
    "\n",
    "from sklearn.cluster import DBSCAN"
   ]
  },
  {
   "cell_type": "code",
   "execution_count": 214,
   "id": "47bd7435",
   "metadata": {},
   "outputs": [
    {
     "data": {
      "text/plain": [
       "DBSCAN(eps=0.05)"
      ]
     },
     "execution_count": 214,
     "metadata": {},
     "output_type": "execute_result"
    }
   ],
   "source": [
    "db = DBSCAN(eps=0.05, min_samples=5)\n",
    "db.fit(X)"
   ]
  },
  {
   "cell_type": "code",
   "execution_count": 216,
   "id": "7d2cbe5d",
   "metadata": {},
   "outputs": [
    {
     "data": {
      "text/plain": [
       "array([ 0,  2, -1, -1,  1,  0,  0,  0,  2,  5], dtype=int64)"
      ]
     },
     "execution_count": 216,
     "metadata": {},
     "output_type": "execute_result"
    }
   ],
   "source": [
    "db.labels_[:10]"
   ]
  },
  {
   "cell_type": "markdown",
   "id": "9f0b2976",
   "metadata": {},
   "source": [
    "Notice that some instances have a cluster index equal to -1: this means that they are\n",
    "considered as anomalies by the algorithm. T"
   ]
  },
  {
   "cell_type": "markdown",
   "id": "4ecd1c9b",
   "metadata": {},
   "source": [
    "The indices of the core instances are avail‐\n",
    "able in the core_sample_indices_ instance variable, and the core instances them‐\n",
    "selves are available in the components_ instance variable:"
   ]
  },
  {
   "cell_type": "code",
   "execution_count": 219,
   "id": "070a2e7d",
   "metadata": {},
   "outputs": [
    {
     "data": {
      "text/plain": [
       "array([ 0,  4,  5,  6,  7,  8, 10, 11, 12, 13], dtype=int64)"
      ]
     },
     "execution_count": 219,
     "metadata": {},
     "output_type": "execute_result"
    }
   ],
   "source": [
    "db.core_sample_indices_[:10]#indices of the core instances"
   ]
  },
  {
   "cell_type": "code",
   "execution_count": 220,
   "id": "58654f50",
   "metadata": {},
   "outputs": [
    {
     "data": {
      "text/plain": [
       "array([[-0.02137124,  0.40618608],\n",
       "       [-0.84192557,  0.53058695],\n",
       "       [ 0.58930337, -0.32137599],\n",
       "       ...,\n",
       "       [ 1.66258462, -0.3079193 ],\n",
       "       [-0.94355873,  0.3278936 ],\n",
       "       [ 0.79419406,  0.60777171]])"
      ]
     },
     "execution_count": 220,
     "metadata": {},
     "output_type": "execute_result"
    }
   ],
   "source": [
    "db.components_#core instances "
   ]
  },
  {
   "cell_type": "code",
   "execution_count": 222,
   "id": "22982ebf",
   "metadata": {},
   "outputs": [
    {
     "data": {
      "text/plain": [
       "array([-1,  0,  1,  2,  3,  4,  5,  6], dtype=int64)"
      ]
     },
     "execution_count": 222,
     "metadata": {},
     "output_type": "execute_result"
    }
   ],
   "source": [
    "np.unique(db.labels_)"
   ]
  },
  {
   "cell_type": "code",
   "execution_count": 223,
   "id": "58556e97",
   "metadata": {},
   "outputs": [
    {
     "data": {
      "text/plain": [
       "808"
      ]
     },
     "execution_count": 223,
     "metadata": {},
     "output_type": "execute_result"
    }
   ],
   "source": [
    "len(db.core_sample_indices_)"
   ]
  },
  {
   "cell_type": "code",
   "execution_count": 225,
   "id": "51feb5c3",
   "metadata": {},
   "outputs": [
    {
     "data": {
      "text/plain": [
       "<matplotlib.collections.PathCollection at 0x156fcaf30d0>"
      ]
     },
     "execution_count": 225,
     "metadata": {},
     "output_type": "execute_result"
    },
    {
     "data": {
      "image/png": "[encoded data removed]",
      "text/plain": [
       "<Figure size 432x288 with 1 Axes>"
      ]
     },
     "metadata": {
      "needs_background": "light"
     },
     "output_type": "display_data"
    }
   ],
   "source": [
    "plt.scatter(X[:,0],X[:,1])"
   ]
  },
  {
   "cell_type": "code",
   "execution_count": 229,
   "id": "1bd9b33e",
   "metadata": {},
   "outputs": [
    {
     "data": {
      "text/plain": [
       "array([0, 1, 0, 0, 0, 2, 2, 3, 0, 2, 2, 4, 2, 2, 4, 0, 5, 1, 0, 5, 5, 3,\n",
       "       2, 2, 4, 5, 0, 6, 1, 0, 2, 3, 3, 4, 4, 4, 0, 2, 0, 2, 4, 0, 3, 3,\n",
       "       0, 5, 2, 3, 5, 0, 0, 0, 2, 3, 0, 3, 6, 0, 2, 4, 4, 0, 3, 0, 4, 0,\n",
       "       3, 3, 4, 0, 2, 2, 4, 1, 6, 5, 2, 2, 3, 3, 2, 4, 0, 0, 0, 2, 5, 2,\n",
       "       0, 2, 3, 1, 5, 2, 4, 2, 2, 4, 4, 0, 0, 6, 2, 2, 0, 3, 3, 3, 3, 5,\n",
       "       4, 2, 2, 2, 4, 2, 4, 0, 2, 1, 2, 6, 4, 2, 3, 2, 2, 0, 0, 2, 0, 4,\n",
       "       0, 4, 4, 1, 3, 2, 6, 1, 4, 4, 2, 0, 0, 1, 0, 5, 1, 1, 2, 2, 2, 5,\n",
       "       5, 1, 4, 0, 3, 3, 0, 0, 0, 2, 0, 5, 2, 2, 3, 5, 2, 2, 0, 4, 0, 4,\n",
       "       2, 2, 2, 2, 3, 2, 0, 2, 0, 4, 6, 0, 3, 3, 5, 5, 4, 3, 5, 0, 2, 3,\n",
       "       6, 3, 3, 4, 3, 2, 2, 2, 4, 0, 2, 2, 6, 3, 4, 4, 2, 2, 1, 0, 1, 6,\n",
       "       3, 2, 4, 0, 5, 0, 3, 2, 0, 2, 5, 4, 5, 2, 6, 5, 2, 2, 2, 6, 1, 6,\n",
       "       2, 1, 0, 1, 1, 2, 2, 2, 0, 0, 0, 2, 6, 1, 2, 5, 3, 5, 4, 0, 2, 6,\n",
       "       2, 3, 2, 2, 0, 4, 0, 6, 1, 5, 3, 0, 2, 3, 2, 4, 2, 3, 4, 5, 4, 4,\n",
       "       1, 0, 5, 6, 5, 3, 2, 5, 1, 5, 2, 5, 5, 3, 2, 3, 2, 2, 5, 5, 2, 5,\n",
       "       2, 3, 2, 2, 5, 3, 0, 3, 0, 3, 6, 2, 2, 3, 6, 0, 0, 0, 0, 2, 0, 2,\n",
       "       2, 4, 2, 2, 0, 2, 0, 6, 3, 2, 6, 0, 6, 1, 3, 3, 0, 4, 4, 1, 4, 6,\n",
       "       3, 5, 1, 2, 5, 0, 2, 0, 0, 0, 0, 5, 0, 0, 0, 2, 1, 5, 5, 2, 0, 1,\n",
       "       1, 3, 0, 2, 1, 1, 0, 6, 3, 2, 3, 4, 2, 2, 2, 0, 0, 0, 1, 0, 3, 3,\n",
       "       4, 5, 6, 0, 2, 3, 5, 6, 1, 2, 2, 5, 1, 2, 2, 2, 0, 1, 2, 2, 4, 0,\n",
       "       4, 3, 4, 2, 5, 2, 3, 1, 0, 4, 1, 0, 2, 0, 3, 0, 3, 0, 4, 6, 5, 3,\n",
       "       2, 6, 5, 4, 5, 3, 2, 0, 2, 0, 3, 3, 6, 0, 3, 2, 2, 1, 4, 1, 5, 2,\n",
       "       2, 4, 6, 0, 4, 2, 5, 2, 3, 4, 2, 5, 1, 0, 4, 2, 2, 1, 0, 3, 5, 4,\n",
       "       2, 0, 2, 2, 5, 4, 0, 2, 3, 3, 4, 4, 0, 2, 3, 5, 4, 2, 0, 2, 0, 2,\n",
       "       3, 0, 2, 2, 0, 6, 2, 2, 5, 3, 2, 6, 2, 1, 5, 3, 2, 1, 6, 2, 2, 2,\n",
       "       2, 5, 2, 2, 0, 2, 2, 2, 2, 3, 0, 3, 2, 0, 2, 0, 3, 5, 1, 2, 5, 0,\n",
       "       2, 2, 2, 3, 6, 4, 4, 2, 0, 0, 2, 4, 0, 4, 1, 0, 2, 6, 5, 2, 2, 2,\n",
       "       0, 1, 6, 4, 3, 2, 0, 5, 5, 0, 4, 4, 3, 6, 4, 1, 2, 2, 2, 3, 0, 1,\n",
       "       2, 2, 2, 2, 5, 0, 2, 2, 2, 0, 2, 2, 1, 2, 4, 2, 6, 6, 3, 0, 4, 2,\n",
       "       0, 1, 2, 2, 4, 0, 1, 2, 0, 1, 0, 0, 4, 1, 1, 5, 2, 2, 6, 4, 0, 2,\n",
       "       2, 2, 0, 2, 2, 0, 2, 0, 0, 2, 3, 4, 0, 5, 0, 3, 0, 5, 0, 2, 2, 2,\n",
       "       2, 2, 3, 0, 4, 2, 0, 6, 0, 2, 5, 1, 2, 1, 2, 2, 2, 0, 2, 0, 2, 0,\n",
       "       2, 0, 3, 2, 0, 0, 3, 3, 2, 2, 5, 5, 3, 5, 6, 1, 4, 1, 0, 1, 0, 3,\n",
       "       3, 0, 3, 0, 2, 3, 5, 3, 1, 5, 2, 5, 2, 3, 2, 4, 2, 2, 2, 4, 0, 4,\n",
       "       2, 6, 6, 2, 4, 5, 5, 0, 2, 1, 0, 2, 3, 0, 2, 0, 3, 5, 3, 2, 0, 6,\n",
       "       1, 4, 2, 0, 4, 2, 4, 3, 4, 1, 4, 5, 2, 2, 0, 2, 6, 2, 2, 4, 0, 0,\n",
       "       0, 5, 2, 6, 0, 3, 6, 0, 2, 2, 4, 3, 4, 6, 5, 4, 2, 1, 1, 6, 4, 4,\n",
       "       0, 5, 2, 3, 1, 3, 6, 4, 5, 3, 3, 2, 3, 2, 6, 3], dtype=int64)"
      ]
     },
     "execution_count": 229,
     "metadata": {},
     "output_type": "execute_result"
    }
   ],
   "source": [
    "db.labels_[db.core_sample_indices_]"
   ]
  },
  {
   "cell_type": "code",
   "execution_count": 230,
   "id": "4870bb54",
   "metadata": {},
   "outputs": [
    {
     "data": {
      "text/plain": [
       "KNeighborsClassifier(n_neighbors=50)"
      ]
     },
     "execution_count": 230,
     "metadata": {},
     "output_type": "execute_result"
    }
   ],
   "source": [
    "from sklearn.neighbors import KNeighborsClassifier\n",
    "knn = KNeighborsClassifier(n_neighbors=50)\n",
    "knn.fit(dbscan.components_, dbscan.labels_[dbscan.core_sample_indices_])"
   ]
  },
  {
   "cell_type": "markdown",
   "id": "1b356747",
   "metadata": {},
   "source": [
    "# Gaussian Mixtures"
   ]
  },
  {
   "cell_type": "markdown",
   "id": "33953fb7",
   "metadata": {},
   "source": [
    "given the dataset X, you typically want\n",
    "to start by estimating the weights ϕ and all the distribution parameters μ\n",
    "(1) to μ\n",
    "(k)\n",
    " and\n",
    "Σ\n",
    "(1) to Σ\n",
    "(k)\n",
    ". Scikit-Learn’s GaussianMixture class makes this trivial"
   ]
  },
  {
   "cell_type": "code",
   "execution_count": 8,
   "id": "cc954d39",
   "metadata": {},
   "outputs": [],
   "source": [
    "import numpy as np\n",
    "X1, y1 = make_blobs(n_samples=1000, centers=((4, -4), (0, 0)), random_state=42)\n",
    "X1 = X1.dot(np.array([[0.374, 0.95], [0.732, 0.598]]))\n",
    "X2, y2 = make_blobs(n_samples=250, centers=1, random_state=42)\n",
    "X2 = X2 + [6, -8]\n",
    "X = np.r_[X1, X2]\n",
    "y = np.r_[y1, y2]"
   ]
  },
  {
   "cell_type": "code",
   "execution_count": 7,
   "id": "1fdb36eb",
   "metadata": {},
   "outputs": [],
   "source": [
    "from sklearn.mixture import GaussianMixture"
   ]
  },
  {
   "cell_type": "code",
   "execution_count": 9,
   "id": "8232966f",
   "metadata": {},
   "outputs": [
    {
     "data": {
      "text/plain": [
       "GaussianMixture(n_components=3, n_init=10, random_state=42)"
      ]
     },
     "execution_count": 9,
     "metadata": {},
     "output_type": "execute_result"
    }
   ],
   "source": [
    "gm = GaussianMixture(n_components=3, n_init=10, random_state=42)\n",
    "gm.fit(X)"
   ]
  },
  {
   "cell_type": "markdown",
   "id": "a764ccd8",
   "metadata": {},
   "source": [
    "This class relies on the Expectation\u0002Maximization (EM) algorithm, which has many similarities with the K-Means algo‐\n",
    "rithm: it also initializes the cluster parameters randomly, then it repeats two steps\n",
    "until convergence, first assigning instances to clusters (this is called the expectation\n",
    "step) then updating the clusters (this is called the maximization step). Sounds famil‐\n",
    "iar? Indeed, in the context of clustering you can think of EM as a generalization of K\u0002Means which not only finds the cluster centers (μ\n",
    "(1) to μ\n",
    "(k)\n",
    "), but also their size, shape\n",
    "and orientation (Σ\n",
    "(1) to Σ\n",
    "(k)\n",
    "), as well as their relative weights (ϕ\n",
    "(1) to ϕ\n",
    "(k)\n",
    "). Unlike K\u0002Means, EM uses soft cluster assignments rather than hard assignments: for each\n",
    "instance during the expectation step, the algorithm estimates the probability that it\n",
    "belongs to each cluster (based on the current cluster parameters). Then, during the\n",
    "maximization step, each cluster is updated using all the instances in the dataset, with\n",
    "each instance weighted by the estimated probability that it belongs to that cluster.\n",
    "These probabilities are called the responsibilities of the clusters for the instances. "
   ]
  },
  {
   "cell_type": "code",
   "execution_count": 10,
   "id": "48bbf27e",
   "metadata": {},
   "outputs": [
    {
     "data": {
      "text/plain": [
       "array([0.39025715, 0.40007391, 0.20966893])"
      ]
     },
     "execution_count": 10,
     "metadata": {},
     "output_type": "execute_result"
    }
   ],
   "source": [
    "gm.weights_\n"
   ]
  },
  {
   "cell_type": "code",
   "execution_count": 11,
   "id": "cb245f42",
   "metadata": {},
   "outputs": [
    {
     "data": {
      "text/plain": [
       "array([[ 0.05131611,  0.07521837],\n",
       "       [-1.40763156,  1.42708225],\n",
       "       [ 3.39893794,  1.05928897]])"
      ]
     },
     "execution_count": 11,
     "metadata": {},
     "output_type": "execute_result"
    }
   ],
   "source": [
    "gm.means_"
   ]
  },
  {
   "cell_type": "code",
   "execution_count": 12,
   "id": "829cc9a0",
   "metadata": {},
   "outputs": [
    {
     "data": {
      "text/plain": [
       "array([[[ 0.68799922,  0.79606357],\n",
       "        [ 0.79606357,  1.21236106]],\n",
       "\n",
       "       [[ 0.63479409,  0.72970799],\n",
       "        [ 0.72970799,  1.1610351 ]],\n",
       "\n",
       "       [[ 1.14833585, -0.03256179],\n",
       "        [-0.03256179,  0.95490931]]])"
      ]
     },
     "execution_count": 12,
     "metadata": {},
     "output_type": "execute_result"
    }
   ],
   "source": [
    " gm.covariances_\n"
   ]
  },
  {
   "cell_type": "code",
   "execution_count": 13,
   "id": "2c4a07f6",
   "metadata": {},
   "outputs": [
    {
     "data": {
      "text/plain": [
       "True"
      ]
     },
     "execution_count": 13,
     "metadata": {},
     "output_type": "execute_result"
    }
   ],
   "source": [
    "gm.converged_"
   ]
  },
  {
   "cell_type": "code",
   "execution_count": 16,
   "id": "7714b545",
   "metadata": {},
   "outputs": [
    {
     "data": {
      "text/plain": [
       "4"
      ]
     },
     "execution_count": 16,
     "metadata": {},
     "output_type": "execute_result"
    }
   ],
   "source": [
    "gm.n_iter_"
   ]
  },
  {
   "cell_type": "markdown",
   "id": "e4fceb70",
   "metadata": {},
   "source": [
    "1. you have an estimate of the location, size, shape, orientation and rela‐\n",
    "tive weight of each cluster, \n",
    "2. the model can easily assign each instance to the most likely\n",
    "cluster (hard clustering) or estimate the probability that it belongs to a particular\n",
    "cluster (soft clustering). \n",
    "3. For this, just use the predict() method for hard clustering,\n",
    "or the predict_proba() method for soft clustering:"
   ]
  },
  {
   "cell_type": "code",
   "execution_count": 17,
   "id": "e8d81ffc",
   "metadata": {},
   "outputs": [
    {
     "data": {
      "text/plain": [
       "array([0, 0, 1, ..., 2, 2, 2], dtype=int64)"
      ]
     },
     "execution_count": 17,
     "metadata": {},
     "output_type": "execute_result"
    }
   ],
   "source": [
    "gm.predict(X)\n"
   ]
  },
  {
   "cell_type": "code",
   "execution_count": 23,
   "id": "bd441a60",
   "metadata": {},
   "outputs": [
    {
     "data": {
      "text/plain": [
       "array([0, 1, 2], dtype=int64)"
      ]
     },
     "execution_count": 23,
     "metadata": {},
     "output_type": "execute_result"
    }
   ],
   "source": [
    "np.unique(gm.predict(X))"
   ]
  },
  {
   "cell_type": "code",
   "execution_count": 18,
   "id": "100a49fb",
   "metadata": {},
   "outputs": [
    {
     "data": {
      "text/plain": [
       "array([[9.76741808e-01, 6.78581203e-07, 2.32575136e-02],\n",
       "       [9.82832955e-01, 6.76173663e-04, 1.64908714e-02],\n",
       "       [7.46494398e-05, 9.99923327e-01, 2.02398402e-06],\n",
       "       ...,\n",
       "       [4.26050456e-07, 2.15512941e-26, 9.99999574e-01],\n",
       "       [5.04987704e-16, 1.48083217e-41, 1.00000000e+00],\n",
       "       [2.24602826e-15, 8.11457779e-41, 1.00000000e+00]])"
      ]
     },
     "execution_count": 18,
     "metadata": {},
     "output_type": "execute_result"
    }
   ],
   "source": [
    "gm.predict_proba(X)"
   ]
  },
  {
   "cell_type": "code",
   "execution_count": null,
   "id": "cca8949c",
   "metadata": {},
   "outputs": [],
   "source": [
    "It is a generative model, meaning you can actually sample new instances from it (note\n",
    "that they are ordered by cluster index):"
   ]
  },
  {
   "cell_type": "code",
   "execution_count": 20,
   "id": "1a3aa481",
   "metadata": {},
   "outputs": [
    {
     "data": {
      "text/plain": [
       "array([[-0.86944074, -0.32767626],\n",
       "       [ 0.29836051,  0.28297011],\n",
       "       [-2.8014927 , -0.09047309],\n",
       "       [ 3.98203732,  1.49951491],\n",
       "       [ 3.81677148,  0.53095244],\n",
       "       [ 2.84104923, -0.73858639]])"
      ]
     },
     "execution_count": 20,
     "metadata": {},
     "output_type": "execute_result"
    }
   ],
   "source": [
    "X_new, y_new = gm.sample(6)\n",
    "X_new"
   ]
  },
  {
   "cell_type": "code",
   "execution_count": 21,
   "id": "e0008b2e",
   "metadata": {},
   "outputs": [
    {
     "data": {
      "text/plain": [
       "array([0, 0, 1, 2, 2, 2])"
      ]
     },
     "execution_count": 21,
     "metadata": {},
     "output_type": "execute_result"
    }
   ],
   "source": [
    "y_new"
   ]
  },
  {
   "cell_type": "markdown",
   "id": "bd383158",
   "metadata": {},
   "source": [
    "It is also possible to estimate the density of the model at any given location. This is\n",
    "achieved using the score_samples() method: for each instance it is given, this\n",
    "method estimates the log of the probability density function (PDF) at that location.\n",
    "The greater the score, the higher the density:"
   ]
  },
  {
   "cell_type": "code",
   "execution_count": 24,
   "id": "35803f8c",
   "metadata": {},
   "outputs": [
    {
     "data": {
      "text/plain": [
       "array([-2.60768954, -3.57110232, -3.32987086, ..., -3.51347241,\n",
       "       -4.39798588, -3.80746532])"
      ]
     },
     "execution_count": 24,
     "metadata": {},
     "output_type": "execute_result"
    }
   ],
   "source": [
    "gm.score_samples(X)\n"
   ]
  },
  {
   "cell_type": "code",
   "execution_count": null,
   "id": "68c38fba",
   "metadata": {},
   "outputs": [],
   "source": []
  },
  {
   "cell_type": "markdown",
   "id": "f91c5777",
   "metadata": {},
   "source": [
    "# Anomaly Detection Using Gaussian Mixtures\n",
    "Gaussian Mixtures can be used for anomaly detection: instances located in low-density regions can be considered anomalies. You must define what density threshold you want to use. For example, in a manufacturing company that tries to detect defective products, the ratio of defective products is usually well-known. Say it is equal to 4%, then you can set the density threshold to be the value that results in having 4% of the instances located in areas below that threshold density:"
   ]
  },
  {
   "cell_type": "code",
   "execution_count": 25,
   "id": "0811276f",
   "metadata": {},
   "outputs": [],
   "source": [
    "densities = gm.score_samples(X)\n",
    "density_threshold = np.percentile(densities, 4)\n",
    "anomalies = X[densities < density_threshold]"
   ]
  },
  {
   "cell_type": "code",
   "execution_count": 26,
   "id": "56569b76",
   "metadata": {},
   "outputs": [
    {
     "data": {
      "text/plain": [
       "<matplotlib.collections.PathCollection at 0x138a5fb7880>"
      ]
     },
     "execution_count": 26,
     "metadata": {},
     "output_type": "execute_result"
    },
    {
     "data": {
      "image/png": "[encoded data removed]",
      "text/plain": [
       "<Figure size 432x288 with 1 Axes>"
      ]
     },
     "metadata": {
      "needs_background": "light"
     },
     "output_type": "display_data"
    }
   ],
   "source": [
    "plt.scatter(anomalies[:, 0], anomalies[:, 1], color='r', marker='*')"
   ]
  },
  {
   "cell_type": "code",
   "execution_count": null,
   "id": "f1fc4828",
   "metadata": {},
   "outputs": [],
   "source": []
  }
 ],
 "metadata": {
  "kernelspec": {
   "display_name": "Python 3 (ipykernel)",
   "language": "python",
   "name": "python3"
  },
  "language_info": {
   "codemirror_mode": {
    "name": "ipython",
    "version": 3
   },
   "file_extension": ".py",
   "mimetype": "text/x-python",
   "name": "python",
   "nbconvert_exporter": "python",
   "pygments_lexer": "ipython3",
   "version": "3.9.7"
  }
 },
 "nbformat": 4,
 "nbformat_minor": 5
}
