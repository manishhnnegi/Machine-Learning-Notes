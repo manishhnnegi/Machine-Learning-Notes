{
 "cells": [
  {
   "cell_type": "markdown",
   "id": "fca32ab2",
   "metadata": {},
   "source": [
    "# chapter5"
   ]
  },
  {
   "cell_type": "markdown",
   "id": "fc3906a4",
   "metadata": {},
   "source": [
    "# Support Vector Machines"
   ]
  },
  {
   "cell_type": "markdown",
   "id": "156c39dc",
   "metadata": {},
   "source": [
    "capable of performing linear or nonlinear classification, regression, and even\n",
    "outlier detection. "
   ]
  },
  {
   "cell_type": "markdown",
   "id": "bd752c48",
   "metadata": {},
   "source": [
    "# Linear SVM Classication"
   ]
  },
  {
   "cell_type": "markdown",
   "id": "0b1b0fff",
   "metadata": {},
   "source": [
    "\n",
    "\n",
    "The two\n",
    "classes can clearly be separated easily with a straight line (they are linearly separable).\n",
    "\n",
    "the\n",
    "solid line in the plot on the right represents the decision boundary of an SVM classi‐\n",
    "fier; this line not only separates the two classes but also stays as far away from the\n",
    "closest training instances as possible. "
   ]
  },
  {
   "cell_type": "code",
   "execution_count": 13,
   "id": "16bed50b",
   "metadata": {},
   "outputs": [
    {
     "data": {
      "text/plain": [
       "SVC(C=inf, kernel='linear')"
      ]
     },
     "execution_count": 13,
     "metadata": {},
     "output_type": "execute_result"
    }
   ],
   "source": [
    "from sklearn.svm import SVC\n",
    "from sklearn import datasets\n",
    "\n",
    "iris = datasets.load_iris()\n",
    "X = iris[\"data\"][:, (2, 3)]  # petal length, petal width\n",
    "y = iris[\"target\"]\n",
    "\n",
    "setosa_or_versicolor = (y == 0) | (y == 1)\n",
    "X = X[setosa_or_versicolor]\n",
    "y = y[setosa_or_versicolor]\n",
    "\n",
    "# SVM Classifier model\n",
    "svm_clf = SVC(kernel=\"linear\", C=float(\"inf\"))\n",
    "svm_clf.fit(X, y)"
   ]
  },
  {
   "cell_type": "code",
   "execution_count": 14,
   "id": "dffdfd1a",
   "metadata": {},
   "outputs": [],
   "source": []
  },
  {
   "cell_type": "markdown",
   "id": "9ccc9a36",
   "metadata": {},
   "source": [
    "# Soft Margin Classication"
   ]
  },
  {
   "cell_type": "markdown",
   "id": "f9f6c099",
   "metadata": {},
   "source": [
    "If we strictly impose that all instances be off the street and on the right side, this is\n",
    "called hard margin classification. There are two main issues with hard margin classifi‐\n",
    "cation. First, it only works if the data is linearly separable, and second it is quite sensi‐\n",
    "tive to outliers.\n",
    "\n",
    "To avoid these issues it is preferable to use a more flexible model. The objective is to\n",
    "find a good balance between keeping the street as large as possible and limiting the\n",
    "margin violations (i.e., instances that end up in the middle of the street or even on the\n",
    "wrong side). This is called so margin classification"
   ]
  },
  {
   "cell_type": "markdown",
   "id": "8815f26c",
   "metadata": {},
   "source": [
    "In Scikit-Learn’s SVM classes, you can control this balance using the C hyperparame‐\n",
    "ter: a smaller C value leads to a wider street but more margin violations.\n",
    "\n",
    "If your SVM model is overfitting, you can try regularizing it by\n",
    "reducing C.\n",
    "\n",
    "\n",
    "following Scikit-Learn code loads the iris dataset, scales the features, and then\n",
    "trains a linear SVM model (using the LinearSVC class with C = 1 and the hinge loss\n",
    "function, described shortly) to detect Iris-Virginica flowers"
   ]
  },
  {
   "cell_type": "code",
   "execution_count": 9,
   "id": "49d32188",
   "metadata": {},
   "outputs": [],
   "source": [
    "import numpy as np\n",
    "from sklearn import datasets\n",
    "from sklearn.pipeline import Pipeline\n",
    "from sklearn.preprocessing import StandardScaler\n",
    "from sklearn.svm import LinearSVC\n",
    "from sklearn.svm import SVC"
   ]
  },
  {
   "cell_type": "code",
   "execution_count": 4,
   "id": "ca0008a9",
   "metadata": {},
   "outputs": [],
   "source": [
    "iris = datasets.load_iris()\n",
    "X = iris[\"data\"][:, (2, 3)] # petal length, petal width\n",
    "y = (iris[\"target\"] == 2).astype('float64') # Iris-Virginica"
   ]
  },
  {
   "cell_type": "code",
   "execution_count": 7,
   "id": "0baea7ed",
   "metadata": {},
   "outputs": [
    {
     "data": {
      "text/plain": [
       "Pipeline(steps=[('scaler', StandardScaler()),\n",
       "                ('linear_svc', LinearSVC(C=1, loss='hinge'))])"
      ]
     },
     "execution_count": 7,
     "metadata": {},
     "output_type": "execute_result"
    }
   ],
   "source": [
    "pp = Pipeline([\n",
    "    ('scaler', StandardScaler()),\n",
    "    ('linear_svc', LinearSVC(C=1,loss=\"hinge\"))\n",
    "])\n",
    "\n",
    "pp.fit(X,y)"
   ]
  },
  {
   "cell_type": "code",
   "execution_count": 8,
   "id": "1b7eefd3",
   "metadata": {},
   "outputs": [
    {
     "data": {
      "text/plain": [
       "array([1.])"
      ]
     },
     "execution_count": 8,
     "metadata": {},
     "output_type": "execute_result"
    }
   ],
   "source": [
    "pp.predict([[5.5, 1.7]])"
   ]
  },
  {
   "cell_type": "code",
   "execution_count": 33,
   "id": "dd1dcb51",
   "metadata": {},
   "outputs": [
    {
     "data": {
      "text/plain": [
       "array([0])"
      ]
     },
     "execution_count": 33,
     "metadata": {},
     "output_type": "execute_result"
    }
   ],
   "source": [
    "pp.predict([[1.7, 0.4]])"
   ]
  },
  {
   "cell_type": "markdown",
   "id": "17f73f65",
   "metadata": {},
   "source": [
    "1. The LinearSVC class regularizes the bias term, so you should center\n",
    "the training set first by subtracting its mean. This is automatic if\n",
    "you scale the data using the StandardScaler. \n",
    "2. Moreover, make sure\n",
    "you set the loss hyperparameter to \"hinge\", as it is not the default\n",
    "value. \n",
    "3. Finally, for better performance you should set the dual\n",
    "hyperparameter to False, unless there are more features than\n",
    "training instances (we will discuss duality later in the chapter)"
   ]
  },
  {
   "cell_type": "markdown",
   "id": "ef597237",
   "metadata": {},
   "source": [
    "Unlike Logistic Regression classifiers, SVM classifiers do not out‐\n",
    "put probabilities for each class."
   ]
  },
  {
   "cell_type": "markdown",
   "id": "aa059343",
   "metadata": {},
   "source": [
    "Alternatively, you could use the SVC class, using SVC(kernel=\"linear\", C=1), but it\n",
    "is much slower, especially with large training sets, so it is not recommended. Another\n",
    "\n",
    "\n",
    "option is to use the SGDClassifier class, with SGDClassifier(loss=\"hinge\",\n",
    "alpha=1/(m*C)). This applies regular Stochastic Gradient Descent (see Chapter 4) to\n",
    "train a linear SVM classifier. It does not converge as fast as the LinearSVC class, but it\n",
    "can be useful to handle huge datasets that do not fit in memory (out-of-core train‐\n",
    "ing), or to handle online classification tasks"
   ]
  },
  {
   "cell_type": "code",
   "execution_count": 34,
   "id": "724fe40a",
   "metadata": {},
   "outputs": [
    {
     "data": {
      "text/plain": [
       "array([0])"
      ]
     },
     "execution_count": 34,
     "metadata": {},
     "output_type": "execute_result"
    }
   ],
   "source": [
    "s = SVC(kernel=\"linear\", C=1)\n",
    "s.fit(X,y)\n",
    "s.predict([[1.7, 0.4]])"
   ]
  },
  {
   "cell_type": "code",
   "execution_count": 35,
   "id": "2218eeb6",
   "metadata": {},
   "outputs": [
    {
     "data": {
      "text/plain": [
       "array([0])"
      ]
     },
     "execution_count": 35,
     "metadata": {},
     "output_type": "execute_result"
    }
   ],
   "source": [
    "pp = Pipeline([\n",
    "    ('scaler', StandardScaler()),\n",
    "    ('svc',SVC(kernel=\"linear\", C=1) )\n",
    "])\n",
    "\n",
    "pp.fit(X,y)\n",
    "pp.predict([[1.7, 0.4]])"
   ]
  },
  {
   "cell_type": "code",
   "execution_count": 36,
   "id": "b53e89ce",
   "metadata": {},
   "outputs": [
    {
     "data": {
      "text/plain": [
       "array([0])"
      ]
     },
     "execution_count": 36,
     "metadata": {},
     "output_type": "execute_result"
    }
   ],
   "source": [
    "from sklearn.linear_model import SGDClassifier\n",
    "sg = SGDClassifier(loss=\"hinge\",alpha=1/(150*1))\n",
    "sg.fit(X,y)\n",
    "sg.predict([[1.7, 0.4]])"
   ]
  },
  {
   "cell_type": "code",
   "execution_count": 37,
   "id": "7fd19449",
   "metadata": {},
   "outputs": [
    {
     "data": {
      "text/plain": [
       "array([0])"
      ]
     },
     "execution_count": 37,
     "metadata": {},
     "output_type": "execute_result"
    }
   ],
   "source": [
    "pp = Pipeline([\n",
    "    ('scaler', StandardScaler()),\n",
    "    ('sgd',SGDClassifier(loss=\"hinge\",alpha=1/(150*1)) )\n",
    "])\n",
    "\n",
    "pp.fit(X,y)\n",
    "pp.predict([[1.7, 0.4]])"
   ]
  },
  {
   "cell_type": "code",
   "execution_count": null,
   "id": "0649c2ab",
   "metadata": {},
   "outputs": [],
   "source": []
  },
  {
   "cell_type": "markdown",
   "id": "c899af0f",
   "metadata": {},
   "source": [
    "# Nonlinear SVM Classication\n"
   ]
  },
  {
   "cell_type": "markdown",
   "id": "38fc706c",
   "metadata": {},
   "source": [
    "Although linear SVM classifiers are efficient and work surprisingly well in many\n",
    "cases, many datasets are not even close to being linearly separable. One approach to\n",
    "handling nonlinear datasets is to add more features, such as polynomial features in some cases this can result in a linearly separable dataset.\n",
    "\n",
    "\n",
    "To implement this idea using Scikit-Learn, you can create a Pipeline containing a\n",
    "PolynomialFeatures transformer (discussed in “Polynomial Regression” on page\n",
    "130), followed by a StandardScaler and a LinearSVC."
   ]
  },
  {
   "cell_type": "markdown",
   "id": "5f8a4e3a",
   "metadata": {},
   "source": [
    "Let’s test this on the moons\n",
    "dataset: this is a toy dataset for binary classification in which the data points are sha‐\n",
    "ped as two interleaving half circles"
   ]
  },
  {
   "cell_type": "code",
   "execution_count": 38,
   "id": "34d52318",
   "metadata": {},
   "outputs": [
    {
     "data": {
      "image/png": "[encoded data removed]",
      "text/plain": [
       "<Figure size 432x288 with 1 Axes>"
      ]
     },
     "metadata": {
      "needs_background": "light"
     },
     "output_type": "display_data"
    }
   ],
   "source": [
    "from sklearn.datasets import make_moons\n",
    "from sklearn.pipeline import Pipeline\n",
    "from sklearn.preprocessing import PolynomialFeatures\n",
    "\n",
    "X, y = make_moons(n_samples=100, noise=0.15, random_state=42)\n",
    "def plot_dataset(X, y, axes):\n",
    "    plt.plot(X[:, 0][y==0], X[:, 1][y==0], \"bs\")\n",
    "    plt.plot(X[:, 0][y==1], X[:, 1][y==1], \"g^\")\n",
    "    plt.axis(axes)\n",
    "    plt.grid(True, which='both')\n",
    "    plt.xlabel(r\"$x_1$\", fontsize=20)\n",
    "    plt.ylabel(r\"$x_2$\", fontsize=20, rotation=0)\n",
    "\n",
    "plot_dataset(X, y, [-1.5, 2.5, -1, 1.5])\n",
    "plt.show()\n",
    "\n"
   ]
  },
  {
   "cell_type": "code",
   "execution_count": 39,
   "id": "343aabea",
   "metadata": {},
   "outputs": [
    {
     "name": "stderr",
     "output_type": "stream",
     "text": [
      "C:\\Users\\USER\\anaconda3\\lib\\site-packages\\sklearn\\svm\\_base.py:985: ConvergenceWarning: Liblinear failed to converge, increase the number of iterations.\n",
      "  warnings.warn(\"Liblinear failed to converge, increase \"\n"
     ]
    },
    {
     "data": {
      "text/plain": [
       "Pipeline(steps=[('poly_features', PolynomialFeatures(degree=3)),\n",
       "                ('scaler', StandardScaler()),\n",
       "                ('svm_clf', LinearSVC(C=10, loss='hinge'))])"
      ]
     },
     "execution_count": 39,
     "metadata": {},
     "output_type": "execute_result"
    }
   ],
   "source": [
    "polynomial_svm_clf = Pipeline([\n",
    " (\"poly_features\", PolynomialFeatures(degree=3)),\n",
    " (\"scaler\", StandardScaler()),\n",
    " (\"svm_clf\", LinearSVC(C=10, loss=\"hinge\"))\n",
    " ])\n",
    "polynomial_svm_clf.fit(X, y)"
   ]
  },
  {
   "cell_type": "code",
   "execution_count": 41,
   "id": "2e5f7990",
   "metadata": {},
   "outputs": [
    {
     "data": {
      "image/png": "[encoded data removed]",
      "text/plain": [
       "<Figure size 432x288 with 1 Axes>"
      ]
     },
     "metadata": {
      "needs_background": "light"
     },
     "output_type": "display_data"
    }
   ],
   "source": [
    "def plot_predictions(clf, axes):\n",
    "    x0s = np.linspace(axes[0], axes[1], 100)\n",
    "    x1s = np.linspace(axes[2], axes[3], 100)\n",
    "    x0, x1 = np.meshgrid(x0s, x1s)\n",
    "    X = np.c_[x0.ravel(), x1.ravel()]\n",
    "    y_pred = clf.predict(X).reshape(x0.shape)\n",
    "    y_decision = clf.decision_function(X).reshape(x0.shape)\n",
    "    plt.contourf(x0, x1, y_pred, cmap=plt.cm.brg, alpha=0.2)\n",
    "    plt.contourf(x0, x1, y_decision, cmap=plt.cm.brg, alpha=0.1)\n",
    "\n",
    "plot_predictions(polynomial_svm_clf, [-1.5, 2.5, -1, 1.5])\n",
    "plot_dataset(X, y, [-1.5, 2.5, -1, 1.5])\n",
    "\n",
    "\n",
    "plt.show()"
   ]
  },
  {
   "cell_type": "markdown",
   "id": "2a00150b",
   "metadata": {},
   "source": [
    "# Polynomial Kernel"
   ]
  },
  {
   "cell_type": "markdown",
   "id": "7bf9c27f",
   "metadata": {},
   "source": [
    "1. Adding polynomial features is simple to implement and can work great with all sorts\n",
    "of Machine Learning algorithms (not just SVMs), but at a low polynomial degree it\n",
    "cannot deal with very complex datasets, and with a high polynomial degree it creates\n",
    "a huge number of features, making the model too slow.\n",
    "2. Fortunately, when using SVMs you can apply an almost miraculous mathematical\n",
    "technique called the kernel trick (it is explained in a moment). It makes it possible to\n",
    "get the same result as if you added many polynomial features, even with very high\u0002degree polynomials, without actually having to add them. So there is no combinato‐\n",
    "rial explosion of the number of features since you don’t actually add any features. This\n",
    "trick is implemented by the SVC class. Let’s test it on the moons dataset:"
   ]
  },
  {
   "cell_type": "code",
   "execution_count": 43,
   "id": "080e04bb",
   "metadata": {},
   "outputs": [
    {
     "data": {
      "text/plain": [
       "Pipeline(steps=[('scaler', StandardScaler()),\n",
       "                ('svc', SVC(C=5, coef0=1, kernel='poly'))])"
      ]
     },
     "execution_count": 43,
     "metadata": {},
     "output_type": "execute_result"
    }
   ],
   "source": [
    "from sklearn.svm import SVC \n",
    "pp = Pipeline([\n",
    "    (\"scaler\", StandardScaler()),\n",
    "    ('svc', SVC(kernel=\"poly\", degree=3, coef0=1, C=5))\n",
    "])\n",
    "pp.fit(X,y)"
   ]
  },
  {
   "cell_type": "markdown",
   "id": "eaf93b7a",
   "metadata": {},
   "source": [
    "The hyperparameter coef0 controls how much the model is influenced by high\u0002degree polynomials versus low-degree polynomi\n",
    "\n",
    "A common approach to find the right hyperparameter values is to\n",
    "use grid search (see Chapter 2). It is often faster to first do a very\n",
    "coarse grid search, then a finer grid search around the best values\n",
    "found. Having a good sense of what each hyperparameter actually\n",
    "does can also help you search in the right part of the hyperparame‐\n",
    "ter space."
   ]
  },
  {
   "cell_type": "code",
   "execution_count": null,
   "id": "e232c0fb",
   "metadata": {},
   "outputs": [],
   "source": []
  },
  {
   "cell_type": "markdown",
   "id": "707620cf",
   "metadata": {},
   "source": [
    "SVC()\n",
    "C-Support Vector Classification.\n",
    "\n",
    "The implementation is based on libsvm. The fit time scales at least\n",
    "quadratically with the number of samples and may be impractical\n",
    "beyond tens of thousands of samples. For large datasets\n",
    "consider using :class:`~sklearn.svm.LinearSVC` or\n",
    ":class:`~sklearn.linear_model.SGDClassifier` instead, possibly after a\n",
    ":class:`~sklearn.kernel_approximation.Nystroem` transformer.\n",
    "\n",
    "The multiclass support is handled according to a one-vs-one scheme.\n",
    "\n",
    "C : float, default=1.0\n",
    "    Regularization parameter. The strength of the regularization is\n",
    "    inversely proportional to C. Must be strictly positive. The penalty\n",
    "    is a squared l2 penalty.\n",
    "\n",
    "kernel : {'linear', 'poly', 'rbf', 'sigmoid', 'precomputed'}, default='rbf'\n",
    "    Specifies the kernel type to be used in the algorithm.\n",
    "    It must be one of 'linear', 'poly', 'rbf', 'sigmoid', 'precomputed' or\n",
    "    a callable.\n",
    "    If none is given, 'rbf' will be used."
   ]
  },
  {
   "cell_type": "code",
   "execution_count": null,
   "id": "e1f414b8",
   "metadata": {},
   "outputs": [],
   "source": []
  },
  {
   "cell_type": "markdown",
   "id": "b294c9a6",
   "metadata": {},
   "source": [
    "LinearSVC()\n",
    "Linear Support Vector Classification.\n",
    "\n",
    "Similar to SVC with parameter kernel='linear', but implemented in terms of\n",
    "liblinear rather than libsvm, so it has more flexibility in the choice of\n",
    "penalties and loss functions and should scale better to large numbers of\n",
    "samples.\n",
    "\n",
    "This class supports both dense and sparse input and the multiclass support\n",
    "is handled according to a one-vs-the-rest scheme."
   ]
  },
  {
   "cell_type": "markdown",
   "id": "18ee02e7",
   "metadata": {},
   "source": [
    "# Adding Similarity Features"
   ]
  },
  {
   "cell_type": "code",
   "execution_count": null,
   "id": "ca87b4e5",
   "metadata": {},
   "outputs": [],
   "source": [
    "Another technique to tackle nonlinear problems is to add features computed using a\n",
    "similarity function that measures how much each instance resembles a particular\n",
    "landmark.\n",
    "\n",
    "define the similarity function to be the Gaussian Radial Basis Function (RBF)\n",
    "with γ = 0.3\n",
    "\n",
    "It is a bell-shaped function varying from 0 (very far away from the landmark) to 1 (at\n",
    "the landmark).\n",
    "\n",
    "If your training set is very large, you end up with an\n",
    "equally large number of features."
   ]
  },
  {
   "cell_type": "markdown",
   "id": "eb1cfd43",
   "metadata": {},
   "source": [
    "#### Gaussian RBF Kernel\n"
   ]
  },
  {
   "cell_type": "markdown",
   "id": "dca214ee",
   "metadata": {},
   "source": [
    "Just like the polynomial features method, the similarity features method can be useful\n",
    "with any Machine Learning algorithm, but it may be computationally expensive to\n",
    "compute all the additional features, especially on large training sets. However, once\n",
    "again the kernel trick does its SVM magic: it makes it possible to obtain a similar\n",
    "result as if you had added many similarity features, without actually having to add\n",
    "them. Let’s try the Gaussian RBF kernel using the SVC class:"
   ]
  },
  {
   "cell_type": "code",
   "execution_count": 46,
   "id": "6c556742",
   "metadata": {},
   "outputs": [
    {
     "data": {
      "text/plain": [
       "Pipeline(steps=[('scaler', StandardScaler()),\n",
       "                ('svm_clf', SVC(C=0.001, gamma=5))])"
      ]
     },
     "execution_count": 46,
     "metadata": {},
     "output_type": "execute_result"
    }
   ],
   "source": [
    "rbf_kernel_svm_clf = Pipeline([\n",
    "        (\"scaler\", StandardScaler()),\n",
    "        (\"svm_clf\", SVC(kernel=\"rbf\", gamma=5, C=0.001))\n",
    "    ])\n",
    "rbf_kernel_svm_clf.fit(X, y)"
   ]
  },
  {
   "cell_type": "markdown",
   "id": "dde13f0c",
   "metadata": {},
   "source": [
    " 1. Increasing\n",
    "gamma makes the bell-shape curve narrower (see the left plot of Figure 5-8), and as a\n",
    "result each instance’s range of influence is smaller: the decision boundary ends up\n",
    "being more irregular, wiggling around individual instances. \n",
    "\n",
    "2. a small gamma\n",
    "value makes the bell-shaped curve wider, so instances have a larger range of influ‐\n",
    "ence, and the decision boundary ends up smoother. \n",
    "3. So γ acts like a regularization\n",
    "hyperparameter: \n",
    "4. if your model is overfitting, you should reduce it, and \n",
    "5. if it is under‐\n",
    "fitting, you should increase it (similar to the C hyperparameter)"
   ]
  },
  {
   "cell_type": "markdown",
   "id": "57972c2b",
   "metadata": {},
   "source": [
    "conclusion\n",
    "\n",
    "1. With so many kernels to choose from, how can you decide which\n",
    "one to use? As a rule of thumb, \n",
    "2. you should always try the linear\n",
    "kernel first (remember that LinearSVC is much faster than SVC(ker\n",
    "nel=\"linear\")), especially if the training set is very large or if it\n",
    "has plenty of features. \n",
    "3. If the training set is not too large, you should\n",
    "try the Gaussian RBF kernel as well; it works well in most cases."
   ]
  },
  {
   "cell_type": "markdown",
   "id": "0c6b2cc8",
   "metadata": {},
   "source": [
    "# computational comparision"
   ]
  },
  {
   "cell_type": "markdown",
   "id": "696e6f62",
   "metadata": {},
   "source": [
    "1. The LinearSVC class is based on the liblinear library, which implements an optimized\n",
    "algorithm for linear SVMs.1\n",
    "2. It does not support the kernel trick, but it scales almost linearly with the number of training instances and the number of features: its training\n",
    "time complexity is roughly O(m × n).\n",
    "3. The algorithm takes longer if you require a very high precision. This is controlled by\n",
    "the tolerance hyperparameter ϵ (called tol in Scikit-Learn). In most classification\n",
    "tasks, the default tolerance is fine.\n",
    "\n",
    "\n",
    "1. The SVC class is based on the libsvm library, which implements an algorithm that sup‐\n",
    "ports the kernel trick.2\n",
    " The training time complexity is usually between O(m2\n",
    " × n)\n",
    "and O(m3\n",
    " × n). \n",
    "2. Unfortunately, this means that it gets dreadfully slow when the num‐\n",
    "ber of training instances gets large (e.g., hundreds of thousands of instances). This\n",
    "3. algorithm is perfect for complex but small or medium training sets. \n",
    "4. However, it scales\n",
    "well with the number of features, especially with sparse features (i.e., when each\n",
    "instance has few nonzero features)."
   ]
  },
  {
   "cell_type": "markdown",
   "id": "8b447b77",
   "metadata": {},
   "source": [
    "# SVM Regression"
   ]
  },
  {
   "cell_type": "markdown",
   "id": "5f23a8d3",
   "metadata": {},
   "source": [
    "1. SVM algorithm is quite versatile: not only does it sup‐\n",
    "port linear and nonlinear classification, but it also supports linear and nonlinear\n",
    "regression. \n",
    "2. The trick is to reverse the objective: instead of trying to fit the largest pos‐\n",
    "sible street between two classes while limiting margin violations, SVM Regression\n",
    "tries to fit as many instances as possible on the street while limiting margin violations\n",
    "(i.e., instances o the street). \n",
    "3. The width of the street is controlled by a hyperparame‐\n",
    "ter ϵ\n",
    "4. Adding more training instances within the margin does not affect the model’s predic‐\n",
    "tions; thus, the model is said to be ϵ-insensitive.\n",
    "\n",
    "\n",
    " Scikit-Learn’s LinearSVR class to perform linear SVM Regression"
   ]
  },
  {
   "cell_type": "code",
   "execution_count": 48,
   "id": "18253b0e",
   "metadata": {},
   "outputs": [
    {
     "data": {
      "text/plain": [
       "LinearSVR(epsilon=1.5)"
      ]
     },
     "execution_count": 48,
     "metadata": {},
     "output_type": "execute_result"
    }
   ],
   "source": [
    "from sklearn.svm import LinearSVR\n",
    "svm_reg = LinearSVR(epsilon=1.5)\n",
    "svm_reg.fit(X, y)\n"
   ]
  },
  {
   "cell_type": "markdown",
   "id": "997b99f9",
   "metadata": {},
   "source": [
    "1. To tackle nonlinear regression tasks, you can use a kernelized SVM model.\n",
    "2. The following code produces the model represented on the left of Figure 5-11 using\n",
    "Scikit-Learn’s SVR class (which supports the kernel trick). \n",
    "3. The SVR class is the regres‐\n",
    "sion equivalent of the SVC class, and \n",
    "4. the LinearSVR class is the regression equivalent\n",
    "of the LinearSVC class. \n",
    "5. The LinearSVR class scales linearly with the size of the train‐\n",
    "ing set (just like the LinearSVC class), \n",
    "6. while the SVR class gets much too slow when\n",
    "the training set grows large (just like the SVC class)."
   ]
  },
  {
   "cell_type": "code",
   "execution_count": null,
   "id": "8ca407c2",
   "metadata": {},
   "outputs": [],
   "source": [
    "from sklearn.svm import SVR\n",
    "svm_poly_reg = SVR(kernel=\"poly\", degree=2, C=100, epsilon=0.1)\n",
    "svm_poly_reg.fit(X, y)"
   ]
  },
  {
   "cell_type": "markdown",
   "id": "5231c3a5",
   "metadata": {},
   "source": [
    "SVMs can also be used for outlier detection"
   ]
  },
  {
   "cell_type": "code",
   "execution_count": null,
   "id": "ce0a1181",
   "metadata": {},
   "outputs": [],
   "source": [
    "# chapter5\n",
    "\n",
    "# Support Vector Machines\n",
    "\n",
    "capable of performing linear or nonlinear classification, regression, and even\n",
    "outlier detection. \n",
    "\n",
    "# Linear SVM Classication\n",
    "\n",
    "\n",
    "\n",
    "The two\n",
    "classes can clearly be separated easily with a straight line (they are linearly separable).\n",
    "\n",
    "the\n",
    "solid line in the plot on the right represents the decision boundary of an SVM classi‐\n",
    "fier; this line not only separates the two classes but also stays as far away from the\n",
    "closest training instances as possible. \n",
    "\n",
    "from sklearn.svm import SVC\n",
    "from sklearn import datasets\n",
    "\n",
    "iris = datasets.load_iris()\n",
    "X = iris[\"data\"][:, (2, 3)]  # petal length, petal width\n",
    "y = iris[\"target\"]\n",
    "\n",
    "setosa_or_versicolor = (y == 0) | (y == 1)\n",
    "X = X[setosa_or_versicolor]\n",
    "y = y[setosa_or_versicolor]\n",
    "\n",
    "# SVM Classifier model\n",
    "svm_clf = SVC(kernel=\"linear\", C=float(\"inf\"))\n",
    "svm_clf.fit(X, y)\n",
    "\n",
    "\n",
    "\n",
    "# Soft Margin Classication\n",
    "\n",
    "If we strictly impose that all instances be off the street and on the right side, this is\n",
    "called hard margin classification. There are two main issues with hard margin classifi‐\n",
    "cation. First, it only works if the data is linearly separable, and second it is quite sensi‐\n",
    "tive to outliers.\n",
    "\n",
    "To avoid these issues it is preferable to use a more flexible model. The objective is to\n",
    "find a good balance between keeping the street as large as possible and limiting the\n",
    "margin violations (i.e., instances that end up in the middle of the street or even on the\n",
    "wrong side). This is called so margin classification\n",
    "\n",
    "In Scikit-Learn’s SVM classes, you can control this balance using the C hyperparame‐\n",
    "ter: a smaller C value leads to a wider street but more margin violations.\n",
    "\n",
    "If your SVM model is overfitting, you can try regularizing it by\n",
    "reducing C.\n",
    "\n",
    "\n",
    "following Scikit-Learn code loads the iris dataset, scales the features, and then\n",
    "trains a linear SVM model (using the LinearSVC class with C = 1 and the hinge loss\n",
    "function, described shortly) to detect Iris-Virginica flowers\n",
    "\n",
    "import numpy as np\n",
    "from sklearn import datasets\n",
    "from sklearn.pipeline import Pipeline\n",
    "from sklearn.preprocessing import StandardScaler\n",
    "from sklearn.svm import LinearSVC\n",
    "from sklearn.svm import SVC\n",
    "\n",
    "iris = datasets.load_iris()\n",
    "X = iris[\"data\"][:, (2, 3)] # petal length, petal width\n",
    "y = (iris[\"target\"] == 2).astype('float64') # Iris-Virginica\n",
    "\n",
    "pp = Pipeline([\n",
    "    ('scaler', StandardScaler()),\n",
    "    ('linear_svc', LinearSVC(C=1,loss=\"hinge\"))\n",
    "])\n",
    "\n",
    "pp.fit(X,y)\n",
    "\n",
    "pp.predict([[5.5, 1.7]])\n",
    "\n",
    "pp.predict([[1.7, 0.4]])\n",
    "\n",
    "1. The LinearSVC class regularizes the bias term, so you should center\n",
    "the training set first by subtracting its mean. This is automatic if\n",
    "you scale the data using the StandardScaler. \n",
    "2. Moreover, make sure\n",
    "you set the loss hyperparameter to \"hinge\", as it is not the default\n",
    "value. \n",
    "3. Finally, for better performance you should set the dual\n",
    "hyperparameter to False, unless there are more features than\n",
    "training instances (we will discuss duality later in the chapter)\n",
    "\n",
    "Unlike Logistic Regression classifiers, SVM classifiers do not out‐\n",
    "put probabilities for each class.\n",
    "\n",
    "Alternatively, you could use the SVC class, using SVC(kernel=\"linear\", C=1), but it\n",
    "is much slower, especially with large training sets, so it is not recommended. Another\n",
    "\n",
    "\n",
    "option is to use the SGDClassifier class, with SGDClassifier(loss=\"hinge\",\n",
    "alpha=1/(m*C)). This applies regular Stochastic Gradient Descent (see Chapter 4) to\n",
    "train a linear SVM classifier. It does not converge as fast as the LinearSVC class, but it\n",
    "can be useful to handle huge datasets that do not fit in memory (out-of-core train‐\n",
    "ing), or to handle online classification tasks\n",
    "\n",
    "s = SVC(kernel=\"linear\", C=1)\n",
    "s.fit(X,y)\n",
    "s.predict([[1.7, 0.4]])\n",
    "\n",
    "pp = Pipeline([\n",
    "    ('scaler', StandardScaler()),\n",
    "    ('svc',SVC(kernel=\"linear\", C=1) )\n",
    "])\n",
    "\n",
    "pp.fit(X,y)\n",
    "pp.predict([[1.7, 0.4]])\n",
    "\n",
    "from sklearn.linear_model import SGDClassifier\n",
    "sg = SGDClassifier(loss=\"hinge\",alpha=1/(150*1))\n",
    "sg.fit(X,y)\n",
    "sg.predict([[1.7, 0.4]])\n",
    "\n",
    "pp = Pipeline([\n",
    "    ('scaler', StandardScaler()),\n",
    "    ('sgd',SGDClassifier(loss=\"hinge\",alpha=1/(150*1)) )\n",
    "])\n",
    "\n",
    "pp.fit(X,y)\n",
    "pp.predict([[1.7, 0.4]])\n",
    "\n",
    "\n",
    "\n",
    "# Nonlinear SVM Classication\n",
    "\n",
    "\n",
    "Although linear SVM classifiers are efficient and work surprisingly well in many\n",
    "cases, many datasets are not even close to being linearly separable. One approach to\n",
    "handling nonlinear datasets is to add more features, such as polynomial features in some cases this can result in a linearly separable dataset.\n",
    "\n",
    "\n",
    "To implement this idea using Scikit-Learn, you can create a Pipeline containing a\n",
    "PolynomialFeatures transformer (discussed in “Polynomial Regression” on page\n",
    "130), followed by a StandardScaler and a LinearSVC.\n",
    "\n",
    "Let’s test this on the moons\n",
    "dataset: this is a toy dataset for binary classification in which the data points are sha‐\n",
    "ped as two interleaving half circles\n",
    "\n",
    "from sklearn.datasets import make_moons\n",
    "from sklearn.pipeline import Pipeline\n",
    "from sklearn.preprocessing import PolynomialFeatures\n",
    "\n",
    "X, y = make_moons(n_samples=100, noise=0.15, random_state=42)\n",
    "def plot_dataset(X, y, axes):\n",
    "    plt.plot(X[:, 0][y==0], X[:, 1][y==0], \"bs\")\n",
    "    plt.plot(X[:, 0][y==1], X[:, 1][y==1], \"g^\")\n",
    "    plt.axis(axes)\n",
    "    plt.grid(True, which='both')\n",
    "    plt.xlabel(r\"$x_1$\", fontsize=20)\n",
    "    plt.ylabel(r\"$x_2$\", fontsize=20, rotation=0)\n",
    "\n",
    "plot_dataset(X, y, [-1.5, 2.5, -1, 1.5])\n",
    "plt.show()\n",
    "\n",
    "\n",
    "\n",
    "polynomial_svm_clf = Pipeline([\n",
    " (\"poly_features\", PolynomialFeatures(degree=3)),\n",
    " (\"scaler\", StandardScaler()),\n",
    " (\"svm_clf\", LinearSVC(C=10, loss=\"hinge\"))\n",
    " ])\n",
    "polynomial_svm_clf.fit(X, y)\n",
    "\n",
    "def plot_predictions(clf, axes):\n",
    "    x0s = np.linspace(axes[0], axes[1], 100)\n",
    "    x1s = np.linspace(axes[2], axes[3], 100)\n",
    "    x0, x1 = np.meshgrid(x0s, x1s)\n",
    "    X = np.c_[x0.ravel(), x1.ravel()]\n",
    "    y_pred = clf.predict(X).reshape(x0.shape)\n",
    "    y_decision = clf.decision_function(X).reshape(x0.shape)\n",
    "    plt.contourf(x0, x1, y_pred, cmap=plt.cm.brg, alpha=0.2)\n",
    "    plt.contourf(x0, x1, y_decision, cmap=plt.cm.brg, alpha=0.1)\n",
    "\n",
    "plot_predictions(polynomial_svm_clf, [-1.5, 2.5, -1, 1.5])\n",
    "plot_dataset(X, y, [-1.5, 2.5, -1, 1.5])\n",
    "\n",
    "\n",
    "plt.show()\n",
    "\n",
    "# Polynomial Kernel\n",
    "\n",
    "1. Adding polynomial features is simple to implement and can work great with all sorts\n",
    "of Machine Learning algorithms (not just SVMs), but at a low polynomial degree it\n",
    "cannot deal with very complex datasets, and with a high polynomial degree it creates\n",
    "a huge number of features, making the model too slow.\n",
    "2. Fortunately, when using SVMs you can apply an almost miraculous mathematical\n",
    "technique called the kernel trick (it is explained in a moment). It makes it possible to\n",
    "get the same result as if you added many polynomial features, even with very high\u0002degree polynomials, without actually having to add them. So there is no combinato‐\n",
    "rial explosion of the number of features since you don’t actually add any features. This\n",
    "trick is implemented by the SVC class. Let’s test it on the moons dataset:\n",
    "\n",
    "from sklearn.svm import SVC \n",
    "pp = Pipeline([\n",
    "    (\"scaler\", StandardScaler()),\n",
    "    ('svc', SVC(kernel=\"poly\", degree=3, coef0=1, C=5))\n",
    "])\n",
    "pp.fit(X,y)\n",
    "\n",
    "The hyperparameter coef0 controls how much the model is influenced by high\u0002degree polynomials versus low-degree polynomi\n",
    "\n",
    "A common approach to find the right hyperparameter values is to\n",
    "use grid search (see Chapter 2). It is often faster to first do a very\n",
    "coarse grid search, then a finer grid search around the best values\n",
    "found. Having a good sense of what each hyperparameter actually\n",
    "does can also help you search in the right part of the hyperparame‐\n",
    "ter space.\n",
    "\n",
    "\n",
    "\n",
    "SVC()\n",
    "C-Support Vector Classification.\n",
    "\n",
    "The implementation is based on libsvm. The fit time scales at least\n",
    "quadratically with the number of samples and may be impractical\n",
    "beyond tens of thousands of samples. For large datasets\n",
    "consider using :class:`~sklearn.svm.LinearSVC` or\n",
    ":class:`~sklearn.linear_model.SGDClassifier` instead, possibly after a\n",
    ":class:`~sklearn.kernel_approximation.Nystroem` transformer.\n",
    "\n",
    "The multiclass support is handled according to a one-vs-one scheme.\n",
    "\n",
    "C : float, default=1.0\n",
    "    Regularization parameter. The strength of the regularization is\n",
    "    inversely proportional to C. Must be strictly positive. The penalty\n",
    "    is a squared l2 penalty.\n",
    "\n",
    "kernel : {'linear', 'poly', 'rbf', 'sigmoid', 'precomputed'}, default='rbf'\n",
    "    Specifies the kernel type to be used in the algorithm.\n",
    "    It must be one of 'linear', 'poly', 'rbf', 'sigmoid', 'precomputed' or\n",
    "    a callable.\n",
    "    If none is given, 'rbf' will be used.\n",
    "\n",
    "\n",
    "\n",
    "LinearSVC()\n",
    "Linear Support Vector Classification.\n",
    "\n",
    "Similar to SVC with parameter kernel='linear', but implemented in terms of\n",
    "liblinear rather than libsvm, so it has more flexibility in the choice of\n",
    "penalties and loss functions and should scale better to large numbers of\n",
    "samples.\n",
    "\n",
    "This class supports both dense and sparse input and the multiclass support\n",
    "is handled according to a one-vs-the-rest scheme.\n",
    "\n",
    "# Adding Similarity Features\n",
    "\n",
    "Another technique to tackle nonlinear problems is to add features computed using a\n",
    "similarity function that measures how much each instance resembles a particular\n",
    "landmark.\n",
    "\n",
    "define the similarity function to be the Gaussian Radial Basis Function (RBF)\n",
    "with γ = 0.3\n",
    "\n",
    "It is a bell-shaped function varying from 0 (very far away from the landmark) to 1 (at\n",
    "the landmark).\n",
    "\n",
    "If your training set is very large, you end up with an\n",
    "equally large number of features.\n",
    "\n",
    "#### Gaussian RBF Kernel\n",
    "\n",
    "\n",
    "Just like the polynomial features method, the similarity features method can be useful\n",
    "with any Machine Learning algorithm, but it may be computationally expensive to\n",
    "compute all the additional features, especially on large training sets. However, once\n",
    "again the kernel trick does its SVM magic: it makes it possible to obtain a similar\n",
    "result as if you had added many similarity features, without actually having to add\n",
    "them. Let’s try the Gaussian RBF kernel using the SVC class:\n",
    "\n",
    "rbf_kernel_svm_clf = Pipeline([\n",
    "        (\"scaler\", StandardScaler()),\n",
    "        (\"svm_clf\", SVC(kernel=\"rbf\", gamma=5, C=0.001))\n",
    "    ])\n",
    "rbf_kernel_svm_clf.fit(X, y)\n",
    "\n",
    " 1. Increasing\n",
    "gamma makes the bell-shape curve narrower (see the left plot of Figure 5-8), and as a\n",
    "result each instance’s range of influence is smaller: the decision boundary ends up\n",
    "being more irregular, wiggling around individual instances. \n",
    "\n",
    "2. a small gamma\n",
    "value makes the bell-shaped curve wider, so instances have a larger range of influ‐\n",
    "ence, and the decision boundary ends up smoother. \n",
    "3. So γ acts like a regularization\n",
    "hyperparameter: \n",
    "4. if your model is overfitting, you should reduce it, and \n",
    "5. if it is under‐\n",
    "fitting, you should increase it (similar to the C hyperparameter)\n",
    "\n",
    "conclusion\n",
    "\n",
    "1. With so many kernels to choose from, how can you decide which\n",
    "one to use? As a rule of thumb, \n",
    "2. you should always try the linear\n",
    "kernel first (remember that LinearSVC is much faster than SVC(ker\n",
    "nel=\"linear\")), especially if the training set is very large or if it\n",
    "has plenty of features. \n",
    "3. If the training set is not too large, you should\n",
    "try the Gaussian RBF kernel as well; it works well in most cases.\n",
    "\n",
    "# computational comparision\n",
    "\n",
    "1. The LinearSVC class is based on the liblinear library, which implements an optimized\n",
    "algorithm for linear SVMs.1\n",
    "2. It does not support the kernel trick, but it scales almost linearly with the number of training instances and the number of features: its training\n",
    "time complexity is roughly O(m × n).\n",
    "3. The algorithm takes longer if you require a very high precision. This is controlled by\n",
    "the tolerance hyperparameter ϵ (called tol in Scikit-Learn). In most classification\n",
    "tasks, the default tolerance is fine.\n",
    "\n",
    "\n",
    "1. The SVC class is based on the libsvm library, which implements an algorithm that sup‐\n",
    "ports the kernel trick.2\n",
    " The training time complexity is usually between O(m2\n",
    " × n)\n",
    "and O(m3\n",
    " × n). \n",
    "2. Unfortunately, this means that it gets dreadfully slow when the num‐\n",
    "ber of training instances gets large (e.g., hundreds of thousands of instances). This\n",
    "3. algorithm is perfect for complex but small or medium training sets. \n",
    "4. However, it scales\n",
    "well with the number of features, especially with sparse features (i.e., when each\n",
    "instance has few nonzero features).\n",
    "\n",
    "# SVM Regression\n",
    "\n",
    "1. SVM algorithm is quite versatile: not only does it sup‐\n",
    "port linear and nonlinear classification, but it also supports linear and nonlinear\n",
    "regression. \n",
    "2. The trick is to reverse the objective: instead of trying to fit the largest pos‐\n",
    "sible street between two classes while limiting margin violations, SVM Regression\n",
    "tries to fit as many instances as possible on the street while limiting margin violations\n",
    "(i.e., instances o the street). \n",
    "3. The width of the street is controlled by a hyperparame‐\n",
    "ter ϵ\n",
    "4. Adding more training instances within the margin does not affect the model’s predic‐\n",
    "tions; thus, the model is said to be ϵ-insensitive.\n",
    "\n",
    "\n",
    " Scikit-Learn’s LinearSVR class to perform linear SVM Regression\n",
    "\n",
    "from sklearn.svm import LinearSVR\n",
    "svm_reg = LinearSVR(epsilon=1.5)\n",
    "svm_reg.fit(X, y)\n",
    "\n",
    "\n",
    "1. To tackle nonlinear regression tasks, you can use a kernelized SVM model.\n",
    "2. The following code produces the model represented on the left of Figure 5-11 using\n",
    "Scikit-Learn’s SVR class (which supports the kernel trick). \n",
    "3. The SVR class is the regres‐\n",
    "sion equivalent of the SVC class, and \n",
    "4. the LinearSVR class is the regression equivalent\n",
    "of the LinearSVC class. \n",
    "5. The LinearSVR class scales linearly with the size of the train‐\n",
    "ing set (just like the LinearSVC class), \n",
    "6. while the SVR class gets much too slow when\n",
    "the training set grows large (just like the SVC class).\n",
    "\n",
    "from sklearn.svm import SVR\n",
    "svm_poly_reg = SVR(kernel=\"poly\", degree=2, C=100, epsilon=0.1)\n",
    "svm_poly_reg.fit(X, y)\n",
    "\n",
    "SVMs can also be used for outlier detection"
   ]
  }
 ],
 "metadata": {
  "kernelspec": {
   "display_name": "Python 3 (ipykernel)",
   "language": "python",
   "name": "python3"
  },
  "language_info": {
   "codemirror_mode": {
    "name": "ipython",
    "version": 3
   },
   "file_extension": ".py",
   "mimetype": "text/x-python",
   "name": "python",
   "nbconvert_exporter": "python",
   "pygments_lexer": "ipython3",
   "version": "3.9.7"
  }
 },
 "nbformat": 4,
 "nbformat_minor": 5
}
