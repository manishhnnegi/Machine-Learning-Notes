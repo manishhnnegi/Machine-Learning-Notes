{
 "cells": [
  {
   "cell_type": "markdown",
   "id": "9faa8ff6",
   "metadata": {},
   "source": [
    "# Regression"
   ]
  },
  {
   "cell_type": "code",
   "execution_count": 3,
   "id": "a0f79944",
   "metadata": {},
   "outputs": [],
   "source": [
    "import pandas as pd\n",
    "import numpy as np\n",
    "from sklearn.model_selection import train_test_split\n",
    "from sklearn.compose import ColumnTransformer\n",
    "from sklearn.pipeline import Pipeline\n",
    "from sklearn.impute import SimpleImputer\n",
    "from sklearn.preprocessing import OneHotEncoder, RobustScaler\n",
    "from sklearn.tree import DecisionTreeClassifier\n",
    "\n"
   ]
  },
  {
   "cell_type": "code",
   "execution_count": 4,
   "id": "db6e0672",
   "metadata": {},
   "outputs": [],
   "source": [
    "%matplotlib inline\n",
    "import matplotlib as mpl\n",
    "import matplotlib.pyplot as plt\n",
    "mpl.rc('axes', labelsize=14)\n",
    "mpl.rc('xtick', labelsize=12)\n",
    "mpl.rc('ytick', labelsize=12)"
   ]
  },
  {
   "cell_type": "markdown",
   "id": "ff485b50",
   "metadata": {},
   "source": [
    "Linear Regression model, one of the\n",
    "simplest models there is. We will discuss two very different ways to train it\n",
    "\n",
    "\n",
    "1.Using a direct “closed-form” equation that directly computes the model parame‐\n",
    "ters that best fit the model to the training set\n",
    "\n",
    "2. Using an iterative optimization approach, called Gradient Descent (GD), that\n",
    "gradually tweaks the model parameters to minimize the cost function over the\n",
    "training set, eventually converging to the same set of parameters as the first\n",
    "method\n",
    "Batch GD, Mini-batch GD,\n",
    "and Stochastic GD."
   ]
  },
  {
   "cell_type": "markdown",
   "id": "151bc7b5",
   "metadata": {},
   "source": [
    "# The Normal Equation\n"
   ]
  },
  {
   "cell_type": "markdown",
   "id": "43e79d45",
   "metadata": {},
   "source": [
    "y = θ0+ θ1x1+ θ2x2+ ⋯ + θnxn\n",
    "\n",
    "• θ is the value of θ that minimizes the cost function.\n",
    "• y is the vector of target values containing y(1) to y(m)"
   ]
  },
  {
   "cell_type": "code",
   "execution_count": 5,
   "id": "5a555165",
   "metadata": {},
   "outputs": [
    {
     "data": {
      "text/plain": [
       "array([ 1.23144633, -0.25492299, -0.70657283, -0.01139425,  0.51848707,\n",
       "        2.02849558,  0.2974688 , -0.52234278, -0.40508607, -0.61808384])"
      ]
     },
     "execution_count": 5,
     "metadata": {},
     "output_type": "execute_result"
    }
   ],
   "source": [
    "import numpy as np\n",
    "np.random.rand(10)  #uniform distributionover ``[0, 1)\n",
    "np.random.randn(10)  #gussian distribution\n",
    " "
   ]
  },
  {
   "cell_type": "code",
   "execution_count": 3,
   "id": "7b98edda",
   "metadata": {},
   "outputs": [],
   "source": [
    "X = 2 * np.random.rand(100, 1)\n",
    "y = 4 + 3 * X + np.random.randn(100, 1)"
   ]
  },
  {
   "cell_type": "code",
   "execution_count": 10,
   "id": "b86fb21c",
   "metadata": {},
   "outputs": [
    {
     "name": "stdout",
     "output_type": "stream",
     "text": [
      "<class 'numpy.ndarray'>\n"
     ]
    },
    {
     "data": {
      "text/plain": [
       "(100, 1)"
      ]
     },
     "execution_count": 10,
     "metadata": {},
     "output_type": "execute_result"
    }
   ],
   "source": [
    "X.shape  #2D array ==matrix"
   ]
  },
  {
   "cell_type": "code",
   "execution_count": 9,
   "id": "6338f3a3",
   "metadata": {},
   "outputs": [
    {
     "data": {
      "text/plain": [
       "(100, 1)"
      ]
     },
     "execution_count": 9,
     "metadata": {},
     "output_type": "execute_result"
    }
   ],
   "source": [
    "y.shape   #2D array ==matrix"
   ]
  },
  {
   "cell_type": "code",
   "execution_count": 18,
   "id": "7ffd0e43",
   "metadata": {},
   "outputs": [
    {
     "data": {
      "text/html": [
       "<div>\n",
       "<style scoped>\n",
       "    .dataframe tbody tr th:only-of-type {\n",
       "        vertical-align: middle;\n",
       "    }\n",
       "\n",
       "    .dataframe tbody tr th {\n",
       "        vertical-align: top;\n",
       "    }\n",
       "\n",
       "    .dataframe thead th {\n",
       "        text-align: right;\n",
       "    }\n",
       "</style>\n",
       "<table border=\"1\" class=\"dataframe\">\n",
       "  <thead>\n",
       "    <tr style=\"text-align: right;\">\n",
       "      <th></th>\n",
       "      <th>x</th>\n",
       "      <th>y</th>\n",
       "    </tr>\n",
       "  </thead>\n",
       "  <tbody>\n",
       "    <tr>\n",
       "      <th>0</th>\n",
       "      <td>0.175891</td>\n",
       "      <td>4.244200</td>\n",
       "    </tr>\n",
       "    <tr>\n",
       "      <th>1</th>\n",
       "      <td>0.802592</td>\n",
       "      <td>5.893405</td>\n",
       "    </tr>\n",
       "    <tr>\n",
       "      <th>2</th>\n",
       "      <td>0.273343</td>\n",
       "      <td>4.269700</td>\n",
       "    </tr>\n",
       "    <tr>\n",
       "      <th>3</th>\n",
       "      <td>0.289003</td>\n",
       "      <td>4.788317</td>\n",
       "    </tr>\n",
       "    <tr>\n",
       "      <th>4</th>\n",
       "      <td>0.319933</td>\n",
       "      <td>3.861024</td>\n",
       "    </tr>\n",
       "    <tr>\n",
       "      <th>...</th>\n",
       "      <td>...</td>\n",
       "      <td>...</td>\n",
       "    </tr>\n",
       "    <tr>\n",
       "      <th>95</th>\n",
       "      <td>1.809698</td>\n",
       "      <td>9.061125</td>\n",
       "    </tr>\n",
       "    <tr>\n",
       "      <th>96</th>\n",
       "      <td>0.098617</td>\n",
       "      <td>4.953495</td>\n",
       "    </tr>\n",
       "    <tr>\n",
       "      <th>97</th>\n",
       "      <td>1.336331</td>\n",
       "      <td>10.112424</td>\n",
       "    </tr>\n",
       "    <tr>\n",
       "      <th>98</th>\n",
       "      <td>0.999630</td>\n",
       "      <td>6.721271</td>\n",
       "    </tr>\n",
       "    <tr>\n",
       "      <th>99</th>\n",
       "      <td>0.230211</td>\n",
       "      <td>6.593008</td>\n",
       "    </tr>\n",
       "  </tbody>\n",
       "</table>\n",
       "<p>100 rows × 2 columns</p>\n",
       "</div>"
      ],
      "text/plain": [
       "           x          y\n",
       "0   0.175891   4.244200\n",
       "1   0.802592   5.893405\n",
       "2   0.273343   4.269700\n",
       "3   0.289003   4.788317\n",
       "4   0.319933   3.861024\n",
       "..       ...        ...\n",
       "95  1.809698   9.061125\n",
       "96  0.098617   4.953495\n",
       "97  1.336331  10.112424\n",
       "98  0.999630   6.721271\n",
       "99  0.230211   6.593008\n",
       "\n",
       "[100 rows x 2 columns]"
      ]
     },
     "execution_count": 18,
     "metadata": {},
     "output_type": "execute_result"
    }
   ],
   "source": [
    "df = pd.DataFrame(X, columns=['x'])\n",
    "df['y'] = y\n",
    "df"
   ]
  },
  {
   "cell_type": "code",
   "execution_count": 133,
   "id": "e7630cf1",
   "metadata": {},
   "outputs": [
    {
     "name": "stdout",
     "output_type": "stream",
     "text": [
      "[[4.24419961]\n",
      " [5.89340458]\n",
      " [4.26970045]\n",
      " [4.78831742]]\n",
      "(100, 1)\n",
      "[[0.17589064]\n",
      " [0.80259161]\n",
      " [0.2733431 ]\n",
      " [0.2890028 ]]\n",
      "(100, 1)\n"
     ]
    }
   ],
   "source": [
    "print(y[:4])   #2Darray -- matrix form\n",
    "print(y.shape)\n",
    "print(X[:4])   #2Darry-- matrix form\n",
    "print(X.shape)\n"
   ]
  },
  {
   "cell_type": "code",
   "execution_count": 28,
   "id": "b38424fb",
   "metadata": {},
   "outputs": [
    {
     "data": {
      "image/png": "[encoded data removed]",
      "text/plain": [
       "<Figure size 432x288 with 1 Axes>"
      ]
     },
     "metadata": {
      "needs_background": "light"
     },
     "output_type": "display_data"
    }
   ],
   "source": [
    "#realrtion\n",
    "\n",
    "plt.scatter(X,y)\n",
    "plt.show()"
   ]
  },
  {
   "cell_type": "markdown",
   "id": "583e8110",
   "metadata": {},
   "source": [
    "Randomly generated linear dataset"
   ]
  },
  {
   "cell_type": "code",
   "execution_count": 6,
   "id": "0e791a00",
   "metadata": {},
   "outputs": [],
   "source": [
    "from numpy import linalg as la"
   ]
  },
  {
   "cell_type": "markdown",
   "id": "89a874f4",
   "metadata": {},
   "source": [
    "### Normal equation"
   ]
  },
  {
   "cell_type": "markdown",
   "id": "da5f337c",
   "metadata": {},
   "source": [
    "#Now let’s compute θ using the Normal Equation. \n",
    "θ = (XT X)−1 XT y\n"
   ]
  },
  {
   "cell_type": "code",
   "execution_count": 7,
   "id": "6589d73b",
   "metadata": {
    "scrolled": true
   },
   "outputs": [
    {
     "data": {
      "text/plain": [
       "array([[5.98929489]])"
      ]
     },
     "execution_count": 7,
     "metadata": {},
     "output_type": "execute_result"
    }
   ],
   "source": [
    "np.dot((np.dot((la.inv(np.dot(X.T,X))),X.T)),y)"
   ]
  },
  {
   "cell_type": "code",
   "execution_count": 8,
   "id": "e7c2af58",
   "metadata": {},
   "outputs": [],
   "source": [
    "#BEFOR APPLYING THE EQUETION \n",
    "#WE HAVE TO ADD THE 1 TO ADJUST THE INTERCEPTS COFFICIENT IN X "
   ]
  },
  {
   "cell_type": "code",
   "execution_count": 9,
   "id": "b3aa04c8",
   "metadata": {},
   "outputs": [],
   "source": [
    "#generate ones\n",
    "ones = np.ones((100,1))#2D columnvector --matrixform()"
   ]
  },
  {
   "cell_type": "code",
   "execution_count": 10,
   "id": "be27bd50",
   "metadata": {},
   "outputs": [
    {
     "name": "stdout",
     "output_type": "stream",
     "text": [
      "[[4.05580952]\n",
      " [2.96260327]]\n",
      "(2, 1)\n",
      "intercept\n",
      " [4.05580952]\n",
      "cofficent of x\n",
      " [2.96260327]\n"
     ]
    }
   ],
   "source": [
    "#add these ones in X\n",
    "X_new = np.c_[ones, X]\n",
    "#np.concatenate([ones, X], axis=1) optional\n",
    "\n",
    "best_theta = np.dot((np.dot((la.inv(np.dot(X_new.T,X_new))),X_new.T)),y)\n",
    "print(best_theta)\n",
    "print(best_theta.shape)\n",
    "print('intercept\\n', best_theta[0])   #c\n",
    "print('cofficent of x\\n', best_theta[1])  #m   in y =mx + c"
   ]
  },
  {
   "cell_type": "markdown",
   "id": "7098da52",
   "metadata": {},
   "source": [
    "We would have hoped for θ0 = 4 and θ1 = 3 instead of θ0 = 4.04 and θ1 = 3.11.\n",
    " Close\n",
    "enough, but the noise made it impossible to recover the exact parameters of the origi‐\n",
    "nal function.\n",
    "\n",
    "X = 2 * np.random.rand(100, 1)\n",
    "\n",
    "\n",
    "y = 4 + 3 * X + np.random.randn(100, 1)\n"
   ]
  },
  {
   "cell_type": "markdown",
   "id": "6ece06c1",
   "metadata": {},
   "source": [
    "Now you can make predictions using θ\n",
    "\n",
    "prediction is: y = θT x\n",
    "\n",
    "\n",
    "y = hθx = θ · x"
   ]
  },
  {
   "cell_type": "code",
   "execution_count": null,
   "id": "ad91703e",
   "metadata": {},
   "outputs": [],
   "source": [
    "print(best_theta.shape)  #best theta matrix\n",
    "x = X_new[0]    # X MATRIX\n",
    "print(x.shape)      # x vector 1D array\n",
    "x"
   ]
  },
  {
   "cell_type": "code",
   "execution_count": 228,
   "id": "7abdbfb2",
   "metadata": {
    "scrolled": true
   },
   "outputs": [
    {
     "name": "stdout",
     "output_type": "stream",
     "text": [
      "(2, 1)\n",
      "(2,)\n"
     ]
    },
    {
     "data": {
      "text/plain": [
       "array([1.        , 0.17589064])"
      ]
     },
     "execution_count": 228,
     "metadata": {},
     "output_type": "execute_result"
    }
   ],
   "source": [
    "print(best_theta.shape)  #best theta matrix\n",
    "x = X_new[0]    # X MATRIX\n",
    "print(x.shape)      # x vector 1D array\n",
    "x"
   ]
  },
  {
   "cell_type": "code",
   "execution_count": 211,
   "id": "42753cb8",
   "metadata": {},
   "outputs": [
    {
     "data": {
      "text/plain": [
       "array([4.59797716])"
      ]
     },
     "execution_count": 211,
     "metadata": {},
     "output_type": "execute_result"
    }
   ],
   "source": [
    "#pridection\n",
    "y_pred = np.dot(best_theta.T, X_new[0])\n",
    "y_pred"
   ]
  },
  {
   "cell_type": "code",
   "execution_count": 223,
   "id": "727c1e02",
   "metadata": {},
   "outputs": [
    {
     "data": {
      "text/plain": [
       "array([4.24419961])"
      ]
     },
     "execution_count": 223,
     "metadata": {},
     "output_type": "execute_result"
    }
   ],
   "source": [
    "y[0]  #actual y"
   ]
  },
  {
   "cell_type": "code",
   "execution_count": 230,
   "id": "34d13508",
   "metadata": {},
   "outputs": [
    {
     "data": {
      "text/plain": [
       "array([1, 2])"
      ]
     },
     "execution_count": 230,
     "metadata": {},
     "output_type": "execute_result"
    }
   ],
   "source": [
    "#lets try new point\n",
    "\n",
    "nw = np.array([1,2])\n",
    "nw.shape"
   ]
  },
  {
   "cell_type": "code",
   "execution_count": 231,
   "id": "b3a0a11f",
   "metadata": {},
   "outputs": [
    {
     "data": {
      "text/plain": [
       "array([10.28705513])"
      ]
     },
     "execution_count": 231,
     "metadata": {},
     "output_type": "execute_result"
    }
   ],
   "source": [
    "y_pred = np.dot(best_theta.T, nw)\n",
    "y_pred"
   ]
  },
  {
   "cell_type": "code",
   "execution_count": 238,
   "id": "5257c526",
   "metadata": {},
   "outputs": [
    {
     "data": {
      "text/plain": [
       "(2, 2)"
      ]
     },
     "execution_count": 238,
     "metadata": {},
     "output_type": "execute_result"
    }
   ],
   "source": [
    "#lets take 2 points\n",
    "nw = np.array([[1,0],[1,2]])\n",
    "nw.shape\n"
   ]
  },
  {
   "cell_type": "code",
   "execution_count": 237,
   "id": "2bb2e862",
   "metadata": {},
   "outputs": [
    {
     "data": {
      "text/plain": [
       "(1, 2)"
      ]
     },
     "execution_count": 237,
     "metadata": {},
     "output_type": "execute_result"
    }
   ],
   "source": [
    "y_pred = np.dot(best_theta.T, nw)\n",
    "y_pred.shape"
   ]
  },
  {
   "cell_type": "code",
   "execution_count": null,
   "id": "289bf48b",
   "metadata": {},
   "outputs": [],
   "source": []
  },
  {
   "cell_type": "code",
   "execution_count": 253,
   "id": "7a100e45",
   "metadata": {},
   "outputs": [
    {
     "name": "stdout",
     "output_type": "stream",
     "text": [
      "(2, 2)\n",
      "(2, 1)\n",
      "[[ 4.04940502]\n",
      " [10.28705513]]\n"
     ]
    }
   ],
   "source": [
    "X_new = np.array([[0], [2]])\n",
    "o = np.ones((2,1))\n",
    "Xb = np.c_[o,X_new]\n",
    "print(Xb.shape)\n",
    "print(best_theta.shape)\n",
    "y_pd = Xb.dot(best_theta)\n",
    "print(y_pd)"
   ]
  },
  {
   "cell_type": "code",
   "execution_count": 254,
   "id": "1b0f3758",
   "metadata": {},
   "outputs": [
    {
     "data": {
      "text/plain": [
       "array([[ 4.04940502],\n",
       "       [10.28705513]])"
      ]
     },
     "execution_count": 254,
     "metadata": {},
     "output_type": "execute_result"
    }
   ],
   "source": [
    "X_new = np.array([[0], [2]])\n",
    "X_new_b = np.c_[np.ones((2, 1)), X_new] # add x0 = 1 to each instance\n",
    "y_predict = X_new_b.dot(best_theta)\n",
    "y_predict"
   ]
  },
  {
   "cell_type": "code",
   "execution_count": 262,
   "id": "a8120e7c",
   "metadata": {},
   "outputs": [
    {
     "data": {
      "image/png": "[encoded data removed]",
      "text/plain": [
       "<Figure size 432x288 with 1 Axes>"
      ]
     },
     "metadata": {
      "needs_background": "light"
     },
     "output_type": "display_data"
    }
   ],
   "source": [
    "plt.plot(X_new, y_predict, \"r-\")\n",
    "plt.plot(X, y, \"b.\")\n",
    "plt.axis([0, 2, 0, 15])\n",
    "plt.show()"
   ]
  },
  {
   "cell_type": "code",
   "execution_count": 266,
   "id": "5c9aba42",
   "metadata": {},
   "outputs": [
    {
     "name": "stdout",
     "output_type": "stream",
     "text": [
      "[4.04940502]\n",
      "[[3.11882506]]\n"
     ]
    }
   ],
   "source": [
    "#from sklean\n",
    "from sklearn.linear_model import LinearRegression\n",
    "lr = LinearRegression()\n",
    "lr.fit(X,y)\n",
    "print(lr.intercept_)\n",
    "print(lr.coef_)"
   ]
  },
  {
   "cell_type": "code",
   "execution_count": 267,
   "id": "d85e402f",
   "metadata": {},
   "outputs": [
    {
     "name": "stdout",
     "output_type": "stream",
     "text": [
      "[[4.04940502]\n",
      " [3.11882506]]\n"
     ]
    }
   ],
   "source": [
    "print(best_theta)"
   ]
  },
  {
   "cell_type": "markdown",
   "id": "29b5e958",
   "metadata": {},
   "source": [
    "### Singular Value Decomposition (SVD) "
   ]
  },
  {
   "cell_type": "markdown",
   "id": "487ffdfe",
   "metadata": {},
   "source": [
    "The LinearRegression class is based on the scipy.linalg.lstsq() function (the\n",
    "name stands for “least squares”), which you could call directly:"
   ]
  },
  {
   "cell_type": "code",
   "execution_count": 270,
   "id": "e640fb54",
   "metadata": {},
   "outputs": [
    {
     "data": {
      "text/plain": [
       "array([[4.04940502],\n",
       "       [3.11882506]])"
      ]
     },
     "execution_count": 270,
     "metadata": {},
     "output_type": "execute_result"
    }
   ],
   "source": [
    " theta_best_svd, residuals, rank, s = np.linalg.lstsq(X_new, y, rcond=1e-6)\n",
    ">>> theta_best_svd"
   ]
  },
  {
   "cell_type": "markdown",
   "id": "e5aca3ea",
   "metadata": {},
   "source": [
    "This function computes θ = X\n",
    "+\n",
    "y, where ᅚ\n",
    "+\n",
    " is the pseudoinverse of X (specifically the\n",
    "Moore-Penrose inverse). You can use np.linalg.pinv() to compute the pseudoin‐\n",
    "verse directly:"
   ]
  },
  {
   "cell_type": "code",
   "execution_count": 271,
   "id": "e9af8ad7",
   "metadata": {},
   "outputs": [
    {
     "data": {
      "text/plain": [
       "array([[4.04940502],\n",
       "       [3.11882506]])"
      ]
     },
     "execution_count": 271,
     "metadata": {},
     "output_type": "execute_result"
    }
   ],
   "source": [
    "#pinv is pseudoinverse\n",
    "np.linalg.pinv(X_new).dot(y)\n"
   ]
  },
  {
   "cell_type": "markdown",
   "id": "66648589",
   "metadata": {},
   "source": [
    "# Batch Gradient Descent"
   ]
  },
  {
   "cell_type": "code",
   "execution_count": 11,
   "id": "2f86f6d5",
   "metadata": {},
   "outputs": [],
   "source": [
    "#add these ones in X\n",
    "X_new = np.c_[ones, X]\n",
    "#np.concatenate([ones, X], axis=1) optional\n",
    "\n",
    "best_theta = np.dot((np.dot((la.inv(np.dot(X_new.T,X_new))),X_new.T)),y)"
   ]
  },
  {
   "cell_type": "code",
   "execution_count": 12,
   "id": "3d37c79a",
   "metadata": {},
   "outputs": [],
   "source": [
    "eta = 0.02\n",
    "n_it = 2\n",
    "m= 100   #no of instances in data set\n",
    "\n",
    "theta = np.random.randn(2,1) #random initialization with m,c values\n",
    "for i in range(n_it):\n",
    "    grads = 2/m* np.dot(X_new.T, (np.dot(X_new, theta) - y))\n",
    "    theta = theta - eta* grads\n",
    "    "
   ]
  },
  {
   "cell_type": "code",
   "execution_count": 13,
   "id": "b956bfd6",
   "metadata": {},
   "outputs": [
    {
     "data": {
      "text/plain": [
       "array([[-10.80278399],\n",
       "       [-11.81902999]])"
      ]
     },
     "execution_count": 13,
     "metadata": {},
     "output_type": "execute_result"
    }
   ],
   "source": [
    "grads"
   ]
  },
  {
   "cell_type": "code",
   "execution_count": 299,
   "id": "07c10e5a",
   "metadata": {},
   "outputs": [
    {
     "data": {
      "text/plain": [
       "array([[0.55763173],\n",
       "       [1.8910691 ]])"
      ]
     },
     "execution_count": 299,
     "metadata": {},
     "output_type": "execute_result"
    }
   ],
   "source": [
    "theta"
   ]
  },
  {
   "cell_type": "code",
   "execution_count": 287,
   "id": "3fedd233",
   "metadata": {
    "scrolled": true
   },
   "outputs": [
    {
     "data": {
      "text/plain": [
       "array([[4.69066147],\n",
       "       [2.48996127]])"
      ]
     },
     "execution_count": 287,
     "metadata": {},
     "output_type": "execute_result"
    }
   ],
   "source": [
    "theta"
   ]
  },
  {
   "cell_type": "code",
   "execution_count": 277,
   "id": "f9b18564",
   "metadata": {},
   "outputs": [
    {
     "data": {
      "text/plain": [
       "array([[-0.30209919],\n",
       "       [-0.66734156]])"
      ]
     },
     "execution_count": 277,
     "metadata": {},
     "output_type": "execute_result"
    }
   ],
   "source": [
    "np.random.randn(2,1)"
   ]
  },
  {
   "cell_type": "code",
   "execution_count": 303,
   "id": "2ad42a07",
   "metadata": {},
   "outputs": [
    {
     "data": {
      "text/plain": [
       "array([[1.        , 0.80259161]])"
      ]
     },
     "execution_count": 303,
     "metadata": {},
     "output_type": "execute_result"
    }
   ],
   "source": [
    "X_new[1:2]"
   ]
  },
  {
   "cell_type": "code",
   "execution_count": 313,
   "id": "b0d10e6a",
   "metadata": {},
   "outputs": [
    {
     "data": {
      "text/plain": [
       "array([], dtype=int32)"
      ]
     },
     "execution_count": 313,
     "metadata": {},
     "output_type": "execute_result"
    }
   ],
   "source": [
    "np.arange(20,5,2)"
   ]
  },
  {
   "cell_type": "code",
   "execution_count": 318,
   "id": "14937fa4",
   "metadata": {},
   "outputs": [
    {
     "data": {
      "text/plain": [
       "(100, 1)"
      ]
     },
     "execution_count": 318,
     "metadata": {},
     "output_type": "execute_result"
    }
   ],
   "source": [
    "y.shape"
   ]
  },
  {
   "cell_type": "code",
   "execution_count": 319,
   "id": "faf3a6ba",
   "metadata": {},
   "outputs": [
    {
     "ename": "SyntaxError",
     "evalue": "invalid syntax (Temp/ipykernel_12228/2369413804.py, line 1)",
     "output_type": "error",
     "traceback": [
      "\u001b[1;36m  File \u001b[1;32m\"C:\\Users\\USER\\AppData\\Local\\Temp/ipykernel_12228/2369413804.py\"\u001b[1;36m, line \u001b[1;32m1\u001b[0m\n\u001b[1;33m    (np.dot(X_new, theta) - y)y\u001b[0m\n\u001b[1;37m                              ^\u001b[0m\n\u001b[1;31mSyntaxError\u001b[0m\u001b[1;31m:\u001b[0m invalid syntax\n"
     ]
    }
   ],
   "source": [
    "(np.dot(X_new, theta) - y)y"
   ]
  },
  {
   "cell_type": "code",
   "execution_count": 321,
   "id": "09509c0b",
   "metadata": {},
   "outputs": [
    {
     "data": {
      "text/plain": [
       "array([[ 4.24419961,  5.89340458,  4.26970045,  4.78831742,  3.86102412,\n",
       "         4.08603143,  8.74366468,  5.76302236,  4.70612199,  5.54349357,\n",
       "         6.0454515 ,  9.91519549,  4.74698981,  6.40099605, 10.8358942 ,\n",
       "         6.89879535,  6.04969431, 10.62920601, 10.02034559,  2.97616905,\n",
       "         4.10082834,  5.04771445,  7.1762215 ,  9.07588488, 10.60208996,\n",
       "         5.74360514,  8.55640761, 10.27763142,  3.92996506,  6.65428946,\n",
       "         7.49089803,  5.70223822, 11.20759414,  3.95911373,  9.55517815,\n",
       "        10.10574065,  5.67624728,  8.50715877,  6.49817635,  4.41170885,\n",
       "         9.41463067,  9.67630031, 11.55856733,  6.44313548,  8.96803465,\n",
       "         9.49809477,  7.14806323,  5.60051973,  5.86636858,  8.85792355,\n",
       "         7.24418377,  8.81313272,  7.31490828,  4.21648266,  7.26448978,\n",
       "         5.00876176,  4.91668351, 10.10724974,  9.9193467 ,  3.69494829,\n",
       "         5.26703153,  6.73900705,  5.8461406 ,  7.74228533,  7.30699866,\n",
       "        10.58404562,  9.39083323,  7.21534307,  6.26897038,  8.98452072,\n",
       "         5.7079642 ,  5.38395218,  5.09742121,  9.18800818,  7.95703916,\n",
       "         7.57600995,  7.77958617,  7.3511116 ,  8.76435111,  8.50704268,\n",
       "         3.73740142,  5.70187998,  4.69333635,  4.93554862,  5.6396032 ,\n",
       "         8.94320799,  8.22043584,  3.24719343,  7.30059652,  7.74273702,\n",
       "         7.9668233 , 10.18400336,  7.138678  ,  8.27368286,  3.77006333,\n",
       "         9.06112456,  4.95349544, 10.11242436,  6.72127052,  6.59300796]])"
      ]
     },
     "execution_count": 321,
     "metadata": {},
     "output_type": "execute_result"
    }
   ],
   "source": [
    "y.T"
   ]
  },
  {
   "cell_type": "markdown",
   "id": "1476200e",
   "metadata": {},
   "source": [
    "# Stochastic Gradient Descent\n"
   ]
  },
  {
   "cell_type": "markdown",
   "id": "47a6366f",
   "metadata": {},
   "source": [
    "1. Batch Gradient Descent is the fact that it uses the whole\n",
    "training set to compute the gradients at every step, which makes it very slow when\n",
    "the training set is large. \n",
    "2. At the opposite extreme, Stochastic Gradient Descent just\n",
    "picks a random instance in the training set at every step and computes the gradients\n",
    "based only on that single instance\n",
    "3.  this makes the algorithm much faster\n",
    "since it has very little data to manipulate at every iteration. It also makes it possible to\n",
    "train on huge training sets, since only one instance needs to be in memory at each\n",
    "iteration\n",
    "4. stochastic (i.e., random) nature, this algorithm is much\n",
    "less regular than Batch Gradient Descent: instead of gently decreasing until it reaches\n",
    "the minimum, the cost function will bounce up and down, decreasing only on aver‐\n",
    "age\n",
    "5. Over time it will end up very close to the minimum, but once it gets there it will\n",
    "continue to bounce around, never settling down\n",
    "6. When the cost function is very irregular , this can actually help the\n",
    "algorithm jump out of local minima, \n",
    "7. so Stochastic Gradient Descent has a better\n",
    "chance of finding the global minimum than Batch Gradient Descent does\n",
    "8. Therefore randomness is good to escape from local optima, but bad because it means\n",
    "that the algorithm can never settle at the minimum. One solution to this dilemma is\n",
    "to gradually reduce the learning rate"
   ]
  },
  {
   "cell_type": "code",
   "execution_count": 33,
   "id": "0fa30b2f",
   "metadata": {},
   "outputs": [],
   "source": [
    "n_epoch = 50\n",
    "t0,t1 = 5,50\n",
    "m =100 #no of instances\n",
    "def learning_schedule(t):\n",
    "    return t0/(t+t1)\n",
    "#eta = learning_schedule(n_ep*m +i)\n",
    "\n",
    "\n",
    "theta = np.random.randn(2,1) #random initialization with m,c values\n",
    "for i in range(n_epoch):\n",
    "    for j in range(m):\n",
    "        random_indx = np.random.randint(m)\n",
    "        xi = X_new[random_indx:random_indx+1]\n",
    "        yi = y[random_indx:random_indx+1]\n",
    "        grads = 2* np.dot(xi.T, (np.dot(xi, theta) - yi))\n",
    "        eta = learning_schedule(n_ep*m +i)\n",
    "        theta = theta - eta* grads\n",
    "        "
   ]
  },
  {
   "cell_type": "markdown",
   "id": "85c6e317",
   "metadata": {},
   "source": [
    "By convention we iterate by rounds of m iterations; each round is called an epoch. \n",
    "While the Batch Gradient Descent code iterated 1,000 times through the whole train‐\n",
    "ing set, this code goes through the training set only 50 times and reaches a fairly good\n",
    "solution:"
   ]
  },
  {
   "cell_type": "code",
   "execution_count": 34,
   "id": "081e1afe",
   "metadata": {},
   "outputs": [
    {
     "data": {
      "text/plain": [
       "array([[3.83058595],\n",
       "       [3.12587913]])"
      ]
     },
     "execution_count": 34,
     "metadata": {},
     "output_type": "execute_result"
    }
   ],
   "source": [
    "theta"
   ]
  },
  {
   "cell_type": "markdown",
   "id": "ee5ea1c0",
   "metadata": {},
   "source": [
    "1. Note that since instances are picked randomly, some instances may be picked several\n",
    "times per epoch while others may not be picked at all. \n",
    "2. If you want to be sure that the\n",
    "algorithm goes through every instance at each epoch, another approach is to shuffle\n",
    "the training set \n",
    "3. , then\n",
    "go through it instance by instance, then shuffle it again, and so on. However, this gen‐\n",
    "erally converges more slowly."
   ]
  },
  {
   "cell_type": "code",
   "execution_count": 37,
   "id": "cd4ee292",
   "metadata": {},
   "outputs": [
    {
     "data": {
      "text/plain": [
       "SGDRegressor(eta0=0.1, penalty=None)"
      ]
     },
     "execution_count": 37,
     "metadata": {},
     "output_type": "execute_result"
    }
   ],
   "source": [
    "from sklearn.linear_model import SGDRegressor\n",
    "sgd_reg = SGDRegressor(max_iter=1000, tol=1e-3, penalty=None, eta0=0.1)\n",
    "sgd_reg.fit(X, y.ravel())\n"
   ]
  },
  {
   "cell_type": "markdown",
   "id": "752a5f10",
   "metadata": {},
   "source": [
    "To perform Linear Regression using SGD with Scikit-Learn, you can use the SGDRe\n",
    "gressor class, which defaults to optimizing the squared error cost function. The fol‐\n",
    "lowing code runs for maximum 1000 epochs (max_iter=1000) or until the loss drops\n",
    "by less than 1e-3 during one epoch (tol=1e-3), starting with a learning rate of 0.1\n",
    "(eta0=0.1), using the default learning schedule "
   ]
  },
  {
   "cell_type": "code",
   "execution_count": 38,
   "id": "99da5ee0",
   "metadata": {},
   "outputs": [
    {
     "data": {
      "text/plain": [
       "(array([4.10548307]), array([3.0639919]))"
      ]
     },
     "execution_count": 38,
     "metadata": {},
     "output_type": "execute_result"
    }
   ],
   "source": [
    "sgd_reg.intercept_, sgd_reg.coef_\n"
   ]
  },
  {
   "cell_type": "markdown",
   "id": "a2e6cbdd",
   "metadata": {},
   "source": [
    "# Mini-batch Gradient Descent"
   ]
  },
  {
   "cell_type": "markdown",
   "id": "25f506b1",
   "metadata": {},
   "source": [
    "1. at each step, instead of computing the gradients based on the full train‐\n",
    "ing set (as in Batch GD) or based on just one instance (as in Stochastic GD), Mini\u0002batch GD computes the gradients on small random sets of instances called mini\u0002batches\n",
    "2.  main advantage of Mini-batch GD over Stochastic GD is that you can\n",
    "get a performance boost from hardware optimization of matrix operations, especially\n",
    "when using GPUs.\n",
    "3.  Mini-batch GD will end up walking\n",
    "around a bit closer to the minimum than SGD. But, on the other hand, it may be\n",
    "harder for it to escape from local minima\n",
    "\n",
    "4. However, don’t forget that Batch GD takes a lot of time to take each step, and Stochas‐\n",
    "tic GD and Mini-batch GD would also reach the minimum if you used a good learn‐\n",
    "ing schedule.\n",
    "\n"
   ]
  },
  {
   "cell_type": "code",
   "execution_count": 63,
   "id": "931c4d29",
   "metadata": {},
   "outputs": [
    {
     "data": {
      "text/plain": [
       "array([[4.15718928],\n",
       "       [3.08182362]])"
      ]
     },
     "execution_count": 63,
     "metadata": {},
     "output_type": "execute_result"
    }
   ],
   "source": [
    "n_iterations = 50\n",
    "minibatch_size = 20\n",
    "\n",
    "np.random.seed(42)  #fix the output of next code\n",
    "theta = np.random.randn(2,1)  # random initialization\n",
    "\n",
    "t0, t1 = 200, 1000\n",
    "def learning_schedule(t):\n",
    "    return t0 / (t + t1)\n",
    "\n",
    "t = 0\n",
    "for i in range(n_iterations):\n",
    "    shuffled_indices = np.random.permutation(m)\n",
    "    X_b_shuffled = X_new[shuffled_indices]\n",
    "    y_shuffled = y[shuffled_indices]\n",
    "    \n",
    "    for i in range(0, m, minibatch_size):\n",
    "        t = t + 1     # t += 1\n",
    "        xi = X_b_shuffled[i:i+minibatch_size]\n",
    "        yi = y_shuffled[i:i+minibatch_size]\n",
    "        grads = 2/minibatch_size * np.dot(xi.T, (np.dot(xi, theta) - yi))\n",
    "        #gradients = 2/minibatch_size * xi.T.dot(xi.dot(theta) - yi)\n",
    "        eta = learning_schedule(t)\n",
    "        theta = theta - eta * grads\n",
    "\n",
    "theta     "
   ]
  },
  {
   "cell_type": "markdown",
   "id": "f85b6e4a",
   "metadata": {},
   "source": [
    "conclusion\n",
    "\n",
    "There is almost no difference after training: all these algorithms\n",
    "end up with very similar models and make predictions in exactly \n",
    "the same way."
   ]
  },
  {
   "cell_type": "markdown",
   "id": "6abe451b",
   "metadata": {},
   "source": [
    "# Polynomial Regression"
   ]
  },
  {
   "cell_type": "markdown",
   "id": "bbc53137",
   "metadata": {},
   "source": [
    "1. if your data is actually more complex than a simple straight line? \n",
    "2. you can actually use a linear model to fit nonlinear data. \n",
    "3. A simple way to do this is to\n",
    "add powers of each feature as new features, then train a linear model on this extended\n",
    "set of features. \n",
    "4. This technique is called Polynomial Regression.\n",
    "\n",
    "First, let’s generate some nonlinear data, based on a simple\n",
    "quadratic equation9\n",
    " (plus some noise"
   ]
  },
  {
   "cell_type": "code",
   "execution_count": 64,
   "id": "31a3149c",
   "metadata": {},
   "outputs": [],
   "source": [
    "m = 100\n",
    "X = 6 * np.random.rand(m, 1) - 3\n",
    "y = 0.5 * X**2 + X + 2 + np.random.randn(m, 1)#gaussian noise\n"
   ]
  },
  {
   "cell_type": "code",
   "execution_count": 65,
   "id": "f5f5a9eb",
   "metadata": {},
   "outputs": [
    {
     "data": {
      "text/plain": [
       "<matplotlib.collections.PathCollection at 0x2100dad3790>"
      ]
     },
     "execution_count": 65,
     "metadata": {},
     "output_type": "execute_result"
    },
    {
     "data": {
      "image/png": "[encoded data removed]",
      "text/plain": [
       "<Figure size 432x288 with 1 Axes>"
      ]
     },
     "metadata": {
      "needs_background": "light"
     },
     "output_type": "display_data"
    }
   ],
   "source": [
    "plt.scatter(X,y)"
   ]
  },
  {
   "cell_type": "markdown",
   "id": "6773d9c7",
   "metadata": {},
   "source": [
    "Clearly, a straight line will never fit this data properly. So let’s use Scikit-Learn’s Poly\n",
    "nomialFeatures class to transform our training data, adding the square (2nd-degree\n",
    "polynomial) of each feature in the training set as new features"
   ]
  },
  {
   "cell_type": "code",
   "execution_count": 66,
   "id": "d5e3e018",
   "metadata": {},
   "outputs": [],
   "source": [
    "from sklearn.preprocessing import PolynomialFeatures\n",
    "pf = PolynomialFeatures(degree=2, include_bias=False)\n",
    "X_poly = pf.fit_transform(X)"
   ]
  },
  {
   "cell_type": "code",
   "execution_count": 86,
   "id": "a8073441",
   "metadata": {
    "scrolled": true
   },
   "outputs": [
    {
     "data": {
      "text/plain": [
       "array([[ 2.38942838e+00,  5.70936800e+00],\n",
       "       [ 1.66081999e+00,  2.75832305e+00],\n",
       "       [-2.54112027e+00,  6.45729221e+00],\n",
       "       [ 2.92037461e+00,  8.52858786e+00],\n",
       "       [-1.37180422e+00,  1.88184681e+00],\n",
       "       [-2.40850244e+00,  5.80088399e+00],\n",
       "       [ 1.97588540e+00,  3.90412313e+00],\n",
       "       [ 1.24005320e+00,  1.53773194e+00],\n",
       "       [ 7.03312835e-01,  4.94648944e-01],\n",
       "       [-2.06411482e+00,  4.26056998e+00],\n",
       "       [-1.29023302e-01,  1.66470126e-02],\n",
       "       [ 1.68333616e+00,  2.83362063e+00],\n",
       "       [-1.17825637e+00,  1.38828808e+00],\n",
       "       [-1.12986103e+00,  1.27658594e+00],\n",
       "       [-2.98115456e+00,  8.88728253e+00],\n",
       "       [-1.95453959e+00,  3.82022501e+00],\n",
       "       [ 2.25243375e+00,  5.07345780e+00],\n",
       "       [-3.49521050e-01,  1.22164965e-01],\n",
       "       [ 2.90540700e+00,  8.44138981e+00],\n",
       "       [-6.25752219e-01,  3.91565839e-01],\n",
       "       [ 1.29111873e+00,  1.66698757e+00],\n",
       "       [-1.30848574e+00,  1.71213494e+00],\n",
       "       [-8.17142153e-01,  6.67721298e-01],\n",
       "       [-1.85564407e+00,  3.44341493e+00],\n",
       "       [-9.17625789e-01,  8.42037089e-01],\n",
       "       [ 2.83425123e-01,  8.03298001e-02],\n",
       "       [ 2.95063729e+00,  8.70626039e+00],\n",
       "       [ 9.85210278e-01,  9.70639293e-01],\n",
       "       [-1.80452427e+00,  3.25630785e+00],\n",
       "       [-2.73023135e+00,  7.45416323e+00],\n",
       "       [-2.24186111e+00,  5.02594125e+00],\n",
       "       [ 3.75331208e-01,  1.40873515e-01],\n",
       "       [ 1.59096197e+00,  2.53116000e+00],\n",
       "       [ 2.64251524e+00,  6.98288681e+00],\n",
       "       [-2.90506097e+00,  8.43937923e+00],\n",
       "       [ 1.36560849e-01,  1.86488656e-02],\n",
       "       [-1.74795863e-01,  3.05535936e-02],\n",
       "       [ 9.36330132e-01,  8.76714116e-01],\n",
       "       [ 3.57473127e-01,  1.27787036e-01],\n",
       "       [ 1.12223490e+00,  1.25941118e+00],\n",
       "       [ 9.48495508e-01,  8.99643730e-01],\n",
       "       [-2.29792965e+00,  5.28048068e+00],\n",
       "       [ 1.79830748e+00,  3.23390980e+00],\n",
       "       [-2.26060455e+00,  5.11033291e+00],\n",
       "       [ 1.19118375e+00,  1.41891873e+00],\n",
       "       [-5.03127794e-01,  2.53137577e-01],\n",
       "       [ 8.31044075e-02,  6.90634254e-03],\n",
       "       [ 2.41978809e+00,  5.85537438e+00],\n",
       "       [ 2.33930236e+00,  5.47233553e+00],\n",
       "       [ 1.90713783e+00,  3.63717472e+00],\n",
       "       [ 6.08902827e-02,  3.70762653e-03],\n",
       "       [ 1.41743886e+00,  2.00913292e+00],\n",
       "       [ 7.73823331e-02,  5.98802548e-03],\n",
       "       [ 2.21763649e+00,  4.91791162e+00],\n",
       "       [-5.83345001e-01,  3.40291390e-01],\n",
       "       [ 2.82141207e+00,  7.96036605e+00],\n",
       "       [ 2.59393655e+00,  6.72850682e+00],\n",
       "       [ 1.44961572e+00,  2.10138573e+00],\n",
       "       [-1.32350469e+00,  1.75166468e+00],\n",
       "       [-2.21007847e+00,  4.88444683e+00],\n",
       "       [ 2.12822070e+00,  4.52932335e+00],\n",
       "       [-2.00818628e+00,  4.03281215e+00],\n",
       "       [ 2.12556473e+00,  4.51802544e+00],\n",
       "       [-5.54099597e-02,  3.07026364e-03],\n",
       "       [-5.60659297e-01,  3.14338847e-01],\n",
       "       [ 2.41914467e+00,  5.85226095e+00],\n",
       "       [ 6.23105895e-01,  3.88260957e-01],\n",
       "       [ 4.59684043e-01,  2.11309419e-01],\n",
       "       [ 3.52595668e-01,  1.24323705e-01],\n",
       "       [-7.72982904e-01,  5.97502570e-01],\n",
       "       [ 1.71385862e+00,  2.93731137e+00],\n",
       "       [-1.48320934e+00,  2.19990993e+00],\n",
       "       [ 2.63336976e+00,  6.93463629e+00],\n",
       "       [ 2.36391123e+00,  5.58807630e+00],\n",
       "       [-9.75118046e-01,  9.50855204e-01],\n",
       "       [ 1.37678262e+00,  1.89553038e+00],\n",
       "       [ 4.39339167e-01,  1.93018903e-01],\n",
       "       [-9.74104188e-01,  9.48878969e-01],\n",
       "       [ 2.93112989e+00,  8.59152242e+00],\n",
       "       [-2.84857592e+00,  8.11438480e+00],\n",
       "       [-1.48412382e+00,  2.20262350e+00],\n",
       "       [ 1.20444367e-01,  1.45068455e-02],\n",
       "       [ 1.31718021e-01,  1.73496370e-02],\n",
       "       [ 5.33598450e-01,  2.84727305e-01],\n",
       "       [ 1.51005703e+00,  2.28027224e+00],\n",
       "       [ 7.40866983e-01,  5.48883887e-01],\n",
       "       [ 6.01688763e-01,  3.62029368e-01],\n",
       "       [-2.67891322e+00,  7.17657605e+00],\n",
       "       [-7.40818273e-01,  5.48811714e-01],\n",
       "       [-1.60766556e+00,  2.58458856e+00],\n",
       "       [-1.40777933e+00,  1.98184264e+00],\n",
       "       [ 3.26024846e-01,  1.06292200e-01],\n",
       "       [-1.80296811e+00,  3.25069401e+00],\n",
       "       [-1.23630539e+00,  1.52845103e+00],\n",
       "       [-1.57749175e+00,  2.48848022e+00],\n",
       "       [ 2.69101766e+00,  7.24157604e+00],\n",
       "       [ 2.66799439e+00,  7.11819408e+00],\n",
       "       [ 6.59649352e-01,  4.35137267e-01],\n",
       "       [ 2.54713481e+00,  6.48789575e+00],\n",
       "       [ 1.71487587e+00,  2.94079926e+00]])"
      ]
     },
     "execution_count": 86,
     "metadata": {},
     "output_type": "execute_result"
    }
   ],
   "source": [
    "X_poly"
   ]
  },
  {
   "cell_type": "code",
   "execution_count": 69,
   "id": "81db3062",
   "metadata": {},
   "outputs": [
    {
     "data": {
      "text/plain": [
       "['x0', 'x0^2']"
      ]
     },
     "execution_count": 69,
     "metadata": {},
     "output_type": "execute_result"
    }
   ],
   "source": [
    "pf.get_feature_names()"
   ]
  },
  {
   "cell_type": "code",
   "execution_count": 87,
   "id": "fafee57e",
   "metadata": {},
   "outputs": [
    {
     "data": {
      "text/html": [
       "<div>\n",
       "<style scoped>\n",
       "    .dataframe tbody tr th:only-of-type {\n",
       "        vertical-align: middle;\n",
       "    }\n",
       "\n",
       "    .dataframe tbody tr th {\n",
       "        vertical-align: top;\n",
       "    }\n",
       "\n",
       "    .dataframe thead th {\n",
       "        text-align: right;\n",
       "    }\n",
       "</style>\n",
       "<table border=\"1\" class=\"dataframe\">\n",
       "  <thead>\n",
       "    <tr style=\"text-align: right;\">\n",
       "      <th></th>\n",
       "      <th>x0</th>\n",
       "      <th>x0^2</th>\n",
       "      <th>y</th>\n",
       "    </tr>\n",
       "  </thead>\n",
       "  <tbody>\n",
       "    <tr>\n",
       "      <th>0</th>\n",
       "      <td>2.389428</td>\n",
       "      <td>5.709368</td>\n",
       "      <td>7.986265</td>\n",
       "    </tr>\n",
       "    <tr>\n",
       "      <th>1</th>\n",
       "      <td>1.660820</td>\n",
       "      <td>2.758323</td>\n",
       "      <td>6.038798</td>\n",
       "    </tr>\n",
       "    <tr>\n",
       "      <th>2</th>\n",
       "      <td>-2.541120</td>\n",
       "      <td>6.457292</td>\n",
       "      <td>4.059643</td>\n",
       "    </tr>\n",
       "    <tr>\n",
       "      <th>3</th>\n",
       "      <td>2.920375</td>\n",
       "      <td>8.528588</td>\n",
       "      <td>9.791914</td>\n",
       "    </tr>\n",
       "    <tr>\n",
       "      <th>4</th>\n",
       "      <td>-1.371804</td>\n",
       "      <td>1.881847</td>\n",
       "      <td>3.456455</td>\n",
       "    </tr>\n",
       "  </tbody>\n",
       "</table>\n",
       "</div>"
      ],
      "text/plain": [
       "         x0      x0^2         y\n",
       "0  2.389428  5.709368  7.986265\n",
       "1  1.660820  2.758323  6.038798\n",
       "2 -2.541120  6.457292  4.059643\n",
       "3  2.920375  8.528588  9.791914\n",
       "4 -1.371804  1.881847  3.456455"
      ]
     },
     "execution_count": 87,
     "metadata": {},
     "output_type": "execute_result"
    }
   ],
   "source": [
    "df = pd.DataFrame(X_poly,  columns=pf.get_feature_names())\n",
    "df['y'] =y\n",
    "df.head()"
   ]
  },
  {
   "cell_type": "code",
   "execution_count": 91,
   "id": "dd31ed6e",
   "metadata": {},
   "outputs": [
    {
     "data": {
      "text/plain": [
       "(array([1.9735233]), array([[0.95038538, 0.52577032]]))"
      ]
     },
     "execution_count": 91,
     "metadata": {},
     "output_type": "execute_result"
    }
   ],
   "source": [
    "#apply linear regression on it\n",
    "from sklearn.linear_model import LinearRegression\n",
    "lr = LinearRegression()\n",
    "lr.fit(X_poly, y)\n",
    "lr.intercept_, lr.coef_"
   ]
  },
  {
   "cell_type": "markdown",
   "id": "5d15123a",
   "metadata": {},
   "source": [
    "Not bad: the model estimates y = 0 . 56x12+ 0 . 93x1+ 1 . 78 when in fact the originalfunction was y = 0 . 5x12+ 1 . 0x1 + 2 . 0 + Gaussian noise."
   ]
  },
  {
   "cell_type": "code",
   "execution_count": 95,
   "id": "2266cb15",
   "metadata": {
    "collapsed": true
   },
   "outputs": [
    {
     "data": {
      "text/plain": [
       "array([-3.        , -2.93939394, -2.87878788, -2.81818182, -2.75757576,\n",
       "       -2.6969697 , -2.63636364, -2.57575758, -2.51515152, -2.45454545,\n",
       "       -2.39393939, -2.33333333, -2.27272727, -2.21212121, -2.15151515,\n",
       "       -2.09090909, -2.03030303, -1.96969697, -1.90909091, -1.84848485,\n",
       "       -1.78787879, -1.72727273, -1.66666667, -1.60606061, -1.54545455,\n",
       "       -1.48484848, -1.42424242, -1.36363636, -1.3030303 , -1.24242424,\n",
       "       -1.18181818, -1.12121212, -1.06060606, -1.        , -0.93939394,\n",
       "       -0.87878788, -0.81818182, -0.75757576, -0.6969697 , -0.63636364,\n",
       "       -0.57575758, -0.51515152, -0.45454545, -0.39393939, -0.33333333,\n",
       "       -0.27272727, -0.21212121, -0.15151515, -0.09090909, -0.03030303,\n",
       "        0.03030303,  0.09090909,  0.15151515,  0.21212121,  0.27272727,\n",
       "        0.33333333,  0.39393939,  0.45454545,  0.51515152,  0.57575758,\n",
       "        0.63636364,  0.6969697 ,  0.75757576,  0.81818182,  0.87878788,\n",
       "        0.93939394,  1.        ,  1.06060606,  1.12121212,  1.18181818,\n",
       "        1.24242424,  1.3030303 ,  1.36363636,  1.42424242,  1.48484848,\n",
       "        1.54545455,  1.60606061,  1.66666667,  1.72727273,  1.78787879,\n",
       "        1.84848485,  1.90909091,  1.96969697,  2.03030303,  2.09090909,\n",
       "        2.15151515,  2.21212121,  2.27272727,  2.33333333,  2.39393939,\n",
       "        2.45454545,  2.51515152,  2.57575758,  2.63636364,  2.6969697 ,\n",
       "        2.75757576,  2.81818182,  2.87878788,  2.93939394,  3.        ])"
      ]
     },
     "execution_count": 95,
     "metadata": {},
     "output_type": "execute_result"
    }
   ],
   "source": [
    "np.linspace(-3, 3, 100)#Return evenly spaced numbers over a specified interval"
   ]
  },
  {
   "cell_type": "code",
   "execution_count": 100,
   "id": "4437578f",
   "metadata": {
    "scrolled": true
   },
   "outputs": [],
   "source": [
    "X_test = np.linspace(-3, 3, 100).reshape(100,1)\n",
    "X_test_poly = pf.transform(X_test)\n",
    "y_pred = lr.predict(X_test_poly)"
   ]
  },
  {
   "cell_type": "code",
   "execution_count": 105,
   "id": "879415bd",
   "metadata": {},
   "outputs": [
    {
     "data": {
      "image/png": "[encoded data removed]",
      "text/plain": [
       "<Figure size 432x288 with 1 Axes>"
      ]
     },
     "metadata": {
      "needs_background": "light"
     },
     "output_type": "display_data"
    }
   ],
   "source": [
    "plt.plot(X, y, \"b.\")\n",
    "plt.plot(X_test, y_pred, \"r-\", linewidth=2, label=\"Predictions\")\n",
    "plt.legend(loc=\"upper left\", fontsize=14)\n",
    "\n",
    "plt.xlabel(\"$x_1$\", fontsize=18)\n",
    "plt.ylabel(\"$y$\", rotation=0, fontsize=18)\n",
    "plt.show()"
   ]
  },
  {
   "cell_type": "markdown",
   "id": "821d4461",
   "metadata": {},
   "source": [
    "1. when there are multiple features, Polynomial Regression is capable of find‐\n",
    "ing relationships between features (which is something a plain Linear Regression\n",
    "model cannot do). \n",
    "2. This is made possible by the fact that PolynomialFeatures also\n",
    "adds all combinations of features up to the given degree. \n",
    "3. For example, if there were\n",
    "two features a and b, PolynomialFeatures with degree=3 would not only add the\n",
    "features a\n",
    "2\n",
    ", a\n",
    "3\n",
    ", b\n",
    "2\n",
    ", and b\n",
    "3\n",
    ", but also the combinations ab, a\n",
    "2b, and ab2\n",
    ".\n"
   ]
  },
  {
   "cell_type": "code",
   "execution_count": 111,
   "id": "361cb94e",
   "metadata": {},
   "outputs": [
    {
     "data": {
      "image/png": "[encoded data removed]",
      "text/plain": [
       "<Figure size 432x288 with 1 Axes>"
      ]
     },
     "metadata": {
      "needs_background": "light"
     },
     "output_type": "display_data"
    }
   ],
   "source": [
    "from sklearn.preprocessing import StandardScaler\n",
    "from sklearn.pipeline import Pipeline\n",
    "\n",
    "for style, width, degree in ((\"g-\", 1, 300), (\"b--\", 2, 2), (\"r-+\", 2, 1)):\n",
    "    polybig_features = PolynomialFeatures(degree=degree, include_bias=False)\n",
    "    std_scaler = StandardScaler()\n",
    "    lin_reg = LinearRegression()\n",
    "    polynomial_regression = Pipeline([\n",
    "            (\"poly_features\", polybig_features),\n",
    "            (\"std_scaler\", std_scaler),\n",
    "            (\"lin_reg\", lin_reg),\n",
    "        ])\n",
    "    polynomial_regression.fit(X, y)\n",
    "    y_newbig = polynomial_regression.predict(X_test)\n",
    "    plt.plot(X_test, y_newbig, style, label=str(degree), linewidth=width)\n",
    "\n",
    "plt.plot(X, y, \"b.\", linewidth=3)\n",
    "plt.legend(loc=\"upper left\")\n",
    "plt.xlabel(\"$x_1$\", fontsize=18)\n",
    "plt.ylabel(\"$y$\", rotation=0, fontsize=18)\n",
    "plt.axis([-3, 3, 0, 10])\n",
    "\n",
    "plt.show()"
   ]
  },
  {
   "cell_type": "code",
   "execution_count": null,
   "id": "494a87a3",
   "metadata": {},
   "outputs": [],
   "source": [
    " this high-degree Polynomial Regression model is severely overfitting the\n",
    "training data, while the linear model is underfitting it. The model that will generalize\n",
    "best in this case is the quadratic model. "
   ]
  },
  {
   "cell_type": "markdown",
   "id": "2d8c3957",
   "metadata": {},
   "source": [
    "# Regularized Linear Models"
   ]
  },
  {
   "cell_type": "code",
   "execution_count": null,
   "id": "bb63e21f",
   "metadata": {},
   "outputs": [],
   "source": [
    "1. a good way to reduce overfitting is to regularize the\n",
    "model (i.e., to constrain it): the fewer degrees of freedom it has, the harder it will be\n",
    "for it to overfit the data. \n",
    "2. For a linear model, regularization is typically achieved by constraining the weights of\n",
    "the model."
   ]
  },
  {
   "cell_type": "markdown",
   "id": "562e7d70",
   "metadata": {},
   "source": [
    "### Ridge Regression"
   ]
  },
  {
   "cell_type": "markdown",
   "id": "997d711c",
   "metadata": {},
   "source": [
    "1. Ridge Regression (also called Tikhonov regularization) is a regularized version of Lin‐\n",
    "ear Regression: a regularization term equal to α∑i = 1\n",
    "n\n",
    "θi\n",
    "2\n",
    "is added to the cost function. \n",
    "2. This forces the learning algorithm to not only fit the data but also keep the model\n",
    "weights as small as possible. \n",
    "3. Note that the regularization term should only be added\n",
    "to the cost function during training. Once the model is trained, you want to evaluate\n",
    "the model’s performance using the unregularized performance measure.\n",
    "\n",
    "4. α = 0\n",
    "then Ridge Regression is just Linear Regression. \n",
    "5. If α is very large, then all weights end\n",
    "up very close to zero and the result is a flat line going through the data’s mean."
   ]
  },
  {
   "cell_type": "code",
   "execution_count": null,
   "id": "c76bf1f7",
   "metadata": {},
   "outputs": [],
   "source": []
  },
  {
   "cell_type": "markdown",
   "id": "e364f215",
   "metadata": {},
   "source": [
    "# Logistic Regression"
   ]
  },
  {
   "cell_type": "markdown",
   "id": "4dd5d65b",
   "metadata": {},
   "source": [
    "Decision Boundaries"
   ]
  },
  {
   "cell_type": "markdown",
   "id": "21fae9af",
   "metadata": {},
   "source": [
    " dataset that\n",
    "contains the sepal and petal length and width of 150 iris flowers of three different\n",
    "species: Iris-Setosa, Iris-Versicolor, and Iris-Virginica"
   ]
  },
  {
   "cell_type": "code",
   "execution_count": 38,
   "id": "748cbb10",
   "metadata": {},
   "outputs": [
    {
     "data": {
      "text/plain": [
       "dict_keys(['data', 'target', 'frame', 'target_names', 'DESCR', 'feature_names', 'filename'])"
      ]
     },
     "execution_count": 38,
     "metadata": {},
     "output_type": "execute_result"
    }
   ],
   "source": [
    "from sklearn import datasets\n",
    "iris = datasets.load_iris()\n",
    "iris.keys()"
   ]
  },
  {
   "cell_type": "code",
   "execution_count": 39,
   "id": "083d9da9",
   "metadata": {},
   "outputs": [
    {
     "data": {
      "text/plain": [
       "array(['setosa', 'versicolor', 'virginica'], dtype='<U10')"
      ]
     },
     "execution_count": 39,
     "metadata": {},
     "output_type": "execute_result"
    }
   ],
   "source": [
    "iris.target_names"
   ]
  },
  {
   "cell_type": "code",
   "execution_count": 40,
   "id": "91fb0d05",
   "metadata": {},
   "outputs": [
    {
     "data": {
      "text/html": [
       "<div>\n",
       "<style scoped>\n",
       "    .dataframe tbody tr th:only-of-type {\n",
       "        vertical-align: middle;\n",
       "    }\n",
       "\n",
       "    .dataframe tbody tr th {\n",
       "        vertical-align: top;\n",
       "    }\n",
       "\n",
       "    .dataframe thead th {\n",
       "        text-align: right;\n",
       "    }\n",
       "</style>\n",
       "<table border=\"1\" class=\"dataframe\">\n",
       "  <thead>\n",
       "    <tr style=\"text-align: right;\">\n",
       "      <th></th>\n",
       "      <th>sepal length (cm)</th>\n",
       "      <th>sepal width (cm)</th>\n",
       "      <th>petal length (cm)</th>\n",
       "      <th>petal width (cm)</th>\n",
       "      <th>species</th>\n",
       "    </tr>\n",
       "  </thead>\n",
       "  <tbody>\n",
       "    <tr>\n",
       "      <th>0</th>\n",
       "      <td>5.1</td>\n",
       "      <td>3.5</td>\n",
       "      <td>1.4</td>\n",
       "      <td>0.2</td>\n",
       "      <td>0</td>\n",
       "    </tr>\n",
       "    <tr>\n",
       "      <th>1</th>\n",
       "      <td>4.9</td>\n",
       "      <td>3.0</td>\n",
       "      <td>1.4</td>\n",
       "      <td>0.2</td>\n",
       "      <td>0</td>\n",
       "    </tr>\n",
       "    <tr>\n",
       "      <th>2</th>\n",
       "      <td>4.7</td>\n",
       "      <td>3.2</td>\n",
       "      <td>1.3</td>\n",
       "      <td>0.2</td>\n",
       "      <td>0</td>\n",
       "    </tr>\n",
       "    <tr>\n",
       "      <th>3</th>\n",
       "      <td>4.6</td>\n",
       "      <td>3.1</td>\n",
       "      <td>1.5</td>\n",
       "      <td>0.2</td>\n",
       "      <td>0</td>\n",
       "    </tr>\n",
       "    <tr>\n",
       "      <th>4</th>\n",
       "      <td>5.0</td>\n",
       "      <td>3.6</td>\n",
       "      <td>1.4</td>\n",
       "      <td>0.2</td>\n",
       "      <td>0</td>\n",
       "    </tr>\n",
       "  </tbody>\n",
       "</table>\n",
       "</div>"
      ],
      "text/plain": [
       "   sepal length (cm)  sepal width (cm)  petal length (cm)  petal width (cm)  \\\n",
       "0                5.1               3.5                1.4               0.2   \n",
       "1                4.9               3.0                1.4               0.2   \n",
       "2                4.7               3.2                1.3               0.2   \n",
       "3                4.6               3.1                1.5               0.2   \n",
       "4                5.0               3.6                1.4               0.2   \n",
       "\n",
       "   species  \n",
       "0        0  \n",
       "1        0  \n",
       "2        0  \n",
       "3        0  \n",
       "4        0  "
      ]
     },
     "execution_count": 40,
     "metadata": {},
     "output_type": "execute_result"
    }
   ],
   "source": [
    "df = pd.DataFrame(iris.data, columns= iris.feature_names)\n",
    "df['species'] = iris.target\n",
    "df.head()"
   ]
  },
  {
   "cell_type": "code",
   "execution_count": 41,
   "id": "816ca74b",
   "metadata": {},
   "outputs": [
    {
     "name": "stdout",
     "output_type": "stream",
     "text": [
      "<class 'pandas.core.frame.DataFrame'>\n",
      "RangeIndex: 150 entries, 0 to 149\n",
      "Data columns (total 5 columns):\n",
      " #   Column             Non-Null Count  Dtype  \n",
      "---  ------             --------------  -----  \n",
      " 0   sepal length (cm)  150 non-null    float64\n",
      " 1   sepal width (cm)   150 non-null    float64\n",
      " 2   petal length (cm)  150 non-null    float64\n",
      " 3   petal width (cm)   150 non-null    float64\n",
      " 4   species            150 non-null    int32  \n",
      "dtypes: float64(4), int32(1)\n",
      "memory usage: 5.4 KB\n"
     ]
    }
   ],
   "source": [
    "df.info()"
   ]
  },
  {
   "cell_type": "markdown",
   "id": "8b9d2702",
   "metadata": {},
   "source": [
    "Let’s try to build a classifier to detect the Iris-Virginica type based only on the petal\n",
    "width feature"
   ]
  },
  {
   "cell_type": "code",
   "execution_count": 42,
   "id": "44b496ce",
   "metadata": {},
   "outputs": [],
   "source": [
    "X = iris[\"data\"][:, 3:] # petal width\n",
    "y = (iris[\"target\"] == 2) # 1 if Iris-Virginica, else 0"
   ]
  },
  {
   "cell_type": "code",
   "execution_count": 46,
   "id": "83b3cf6b",
   "metadata": {},
   "outputs": [
    {
     "data": {
      "text/plain": [
       "array([False, False, False, False, False, False, False, False, False,\n",
       "       False, False, False, False, False, False, False, False, False,\n",
       "       False, False, False, False, False, False, False, False, False,\n",
       "       False, False, False, False, False, False, False, False, False,\n",
       "       False, False, False, False, False, False, False, False, False,\n",
       "       False, False, False, False, False, False, False, False, False,\n",
       "       False, False, False, False, False, False, False, False, False,\n",
       "       False, False, False, False, False, False, False, False, False,\n",
       "       False, False, False, False, False, False, False, False, False,\n",
       "       False, False, False, False, False, False, False, False, False,\n",
       "       False, False, False, False, False, False, False, False, False,\n",
       "       False,  True,  True,  True,  True,  True,  True,  True,  True,\n",
       "        True,  True,  True,  True,  True,  True,  True,  True,  True,\n",
       "        True,  True,  True,  True,  True,  True,  True,  True,  True,\n",
       "        True,  True,  True,  True,  True,  True,  True,  True,  True,\n",
       "        True,  True,  True,  True,  True,  True,  True,  True,  True,\n",
       "        True,  True,  True,  True,  True,  True])"
      ]
     },
     "execution_count": 46,
     "metadata": {},
     "output_type": "execute_result"
    }
   ],
   "source": [
    "y"
   ]
  },
  {
   "cell_type": "code",
   "execution_count": 49,
   "id": "8cf6f36b",
   "metadata": {},
   "outputs": [],
   "source": [
    "y = y.astype('int')"
   ]
  },
  {
   "cell_type": "code",
   "execution_count": 74,
   "id": "00999769",
   "metadata": {},
   "outputs": [
    {
     "data": {
      "text/html": [
       "<div>\n",
       "<style scoped>\n",
       "    .dataframe tbody tr th:only-of-type {\n",
       "        vertical-align: middle;\n",
       "    }\n",
       "\n",
       "    .dataframe tbody tr th {\n",
       "        vertical-align: top;\n",
       "    }\n",
       "\n",
       "    .dataframe thead th {\n",
       "        text-align: right;\n",
       "    }\n",
       "</style>\n",
       "<table border=\"1\" class=\"dataframe\">\n",
       "  <thead>\n",
       "    <tr style=\"text-align: right;\">\n",
       "      <th></th>\n",
       "      <th>petal width</th>\n",
       "      <th>species</th>\n",
       "    </tr>\n",
       "  </thead>\n",
       "  <tbody>\n",
       "    <tr>\n",
       "      <th>0</th>\n",
       "      <td>0.2</td>\n",
       "      <td>0</td>\n",
       "    </tr>\n",
       "    <tr>\n",
       "      <th>1</th>\n",
       "      <td>0.2</td>\n",
       "      <td>0</td>\n",
       "    </tr>\n",
       "    <tr>\n",
       "      <th>2</th>\n",
       "      <td>0.2</td>\n",
       "      <td>0</td>\n",
       "    </tr>\n",
       "    <tr>\n",
       "      <th>3</th>\n",
       "      <td>0.2</td>\n",
       "      <td>0</td>\n",
       "    </tr>\n",
       "    <tr>\n",
       "      <th>4</th>\n",
       "      <td>0.2</td>\n",
       "      <td>0</td>\n",
       "    </tr>\n",
       "  </tbody>\n",
       "</table>\n",
       "</div>"
      ],
      "text/plain": [
       "   petal width  species\n",
       "0          0.2        0\n",
       "1          0.2        0\n",
       "2          0.2        0\n",
       "3          0.2        0\n",
       "4          0.2        0"
      ]
     },
     "execution_count": 74,
     "metadata": {},
     "output_type": "execute_result"
    }
   ],
   "source": [
    "df = pd.DataFrame(X, columns= ['petal width'])\n",
    "df['species'] = y\n",
    "df.head()"
   ]
  },
  {
   "cell_type": "code",
   "execution_count": 52,
   "id": "765932c5",
   "metadata": {},
   "outputs": [
    {
     "data": {
      "text/plain": [
       "LogisticRegression()"
      ]
     },
     "execution_count": 52,
     "metadata": {},
     "output_type": "execute_result"
    }
   ],
   "source": [
    "#logistic model \n",
    "\n",
    "from sklearn.linear_model import LogisticRegression\n",
    "lg = LogisticRegression()\n",
    "lg.fit(X,y)"
   ]
  },
  {
   "cell_type": "markdown",
   "id": "0d30a55a",
   "metadata": {},
   "source": [
    "Let’s look at the model’s estimated probabilities for flowers with petal widths varying\n",
    "from 0 to 3 cm"
   ]
  },
  {
   "cell_type": "code",
   "execution_count": null,
   "id": "74aef09c",
   "metadata": {},
   "outputs": [],
   "source": [
    "#test the model"
   ]
  },
  {
   "cell_type": "code",
   "execution_count": 125,
   "id": "252a6631",
   "metadata": {},
   "outputs": [
    {
     "data": {
      "text/plain": [
       "array([ 0.        ,  1.11111111,  2.22222222,  3.33333333,  4.44444444,\n",
       "        5.55555556,  6.66666667,  7.77777778,  8.88888889, 10.        ])"
      ]
     },
     "execution_count": 125,
     "metadata": {},
     "output_type": "execute_result"
    }
   ],
   "source": [
    "np.linspace(0, 10, 10)"
   ]
  },
  {
   "cell_type": "code",
   "execution_count": 62,
   "id": "62eef320",
   "metadata": {
    "scrolled": true
   },
   "outputs": [
    {
     "data": {
      "text/plain": [
       "array([[9.99250016e-01, 7.49984089e-04],\n",
       "       [9.99240201e-01, 7.59799387e-04],\n",
       "       [9.99230257e-01, 7.69743043e-04],\n",
       "       ...,\n",
       "       [3.08374822e-03, 9.96916252e-01],\n",
       "       [3.04400296e-03, 9.96955997e-01],\n",
       "       [3.00476842e-03, 9.96995232e-01]])"
      ]
     },
     "execution_count": 62,
     "metadata": {},
     "output_type": "execute_result"
    }
   ],
   "source": [
    "X_new = np.linspace(0, 3, 1000).reshape(1000, 1)  #same as reshape(-1,1)\n",
    "#Return evenly spaced numbers over a specified interval.and reshapeit to 2D column vector\n",
    "y_bproba = lg.predict_proba(X_new)\n",
    "y_proba   #prob in neg ,positive class"
   ]
  },
  {
   "cell_type": "code",
   "execution_count": 118,
   "id": "18db09e3",
   "metadata": {},
   "outputs": [
    {
     "data": {
      "text/html": [
       "<div>\n",
       "<style scoped>\n",
       "    .dataframe tbody tr th:only-of-type {\n",
       "        vertical-align: middle;\n",
       "    }\n",
       "\n",
       "    .dataframe tbody tr th {\n",
       "        vertical-align: top;\n",
       "    }\n",
       "\n",
       "    .dataframe thead th {\n",
       "        text-align: right;\n",
       "    }\n",
       "</style>\n",
       "<table border=\"1\" class=\"dataframe\">\n",
       "  <thead>\n",
       "    <tr style=\"text-align: right;\">\n",
       "      <th></th>\n",
       "      <th>petal_width</th>\n",
       "      <th>prob</th>\n",
       "      <th>species</th>\n",
       "    </tr>\n",
       "  </thead>\n",
       "  <tbody>\n",
       "    <tr>\n",
       "      <th>0</th>\n",
       "      <td>0.000000</td>\n",
       "      <td>0.001</td>\n",
       "      <td>0</td>\n",
       "    </tr>\n",
       "    <tr>\n",
       "      <th>1</th>\n",
       "      <td>0.003003</td>\n",
       "      <td>0.001</td>\n",
       "      <td>0</td>\n",
       "    </tr>\n",
       "    <tr>\n",
       "      <th>2</th>\n",
       "      <td>0.006006</td>\n",
       "      <td>0.001</td>\n",
       "      <td>0</td>\n",
       "    </tr>\n",
       "    <tr>\n",
       "      <th>3</th>\n",
       "      <td>0.009009</td>\n",
       "      <td>0.001</td>\n",
       "      <td>0</td>\n",
       "    </tr>\n",
       "    <tr>\n",
       "      <th>4</th>\n",
       "      <td>0.012012</td>\n",
       "      <td>0.001</td>\n",
       "      <td>0</td>\n",
       "    </tr>\n",
       "  </tbody>\n",
       "</table>\n",
       "</div>"
      ],
      "text/plain": [
       "   petal_width   prob  species\n",
       "0     0.000000  0.001        0\n",
       "1     0.003003  0.001        0\n",
       "2     0.006006  0.001        0\n",
       "3     0.009009  0.001        0\n",
       "4     0.012012  0.001        0"
      ]
     },
     "execution_count": 118,
     "metadata": {},
     "output_type": "execute_result"
    }
   ],
   "source": [
    "dfx = pd.DataFrame(X_new, columns=['petal_width'])\n",
    "dfx['prob'] = np.round(y_proba[:, 1],decimals=3)\n",
    "\n",
    "\n",
    "dfx['species'] = lg.predict(X_new)# on test data\n",
    "dfx.head()"
   ]
  },
  {
   "cell_type": "code",
   "execution_count": 122,
   "id": "6d1901e5",
   "metadata": {},
   "outputs": [
    {
     "data": {
      "text/plain": [
       "[<matplotlib.lines.Line2D at 0x195ee1d9d00>]"
      ]
     },
     "execution_count": 122,
     "metadata": {},
     "output_type": "execute_result"
    },
    {
     "data": {
      "image/png": "[encoded data removed]",
      "text/plain": [
       "<Figure size 432x288 with 1 Axes>"
      ]
     },
     "metadata": {
      "needs_background": "light"
     },
     "output_type": "display_data"
    }
   ],
   "source": [
    "#plot\n",
    "plt.scatter(x = 'petal_width', y ='species', data=dfx)\n",
    "plt.plot(X_new, y_proba[:, 1], \"g-\", label=\"Iris-Virginica\")\n",
    "plt.plot(X_new, y_proba[:, 0], \"b--\", label=\"Not Iris-Virginica\")"
   ]
  },
  {
   "cell_type": "code",
   "execution_count": 138,
   "id": "c75103a4",
   "metadata": {},
   "outputs": [
    {
     "data": {
      "text/html": [
       "<div>\n",
       "<style scoped>\n",
       "    .dataframe tbody tr th:only-of-type {\n",
       "        vertical-align: middle;\n",
       "    }\n",
       "\n",
       "    .dataframe tbody tr th {\n",
       "        vertical-align: top;\n",
       "    }\n",
       "\n",
       "    .dataframe thead th {\n",
       "        text-align: right;\n",
       "    }\n",
       "</style>\n",
       "<table border=\"1\" class=\"dataframe\">\n",
       "  <thead>\n",
       "    <tr style=\"text-align: right;\">\n",
       "      <th></th>\n",
       "      <th>petal width</th>\n",
       "      <th>species</th>\n",
       "      <th>+prob</th>\n",
       "      <th>-prob</th>\n",
       "      <th>y_pred</th>\n",
       "    </tr>\n",
       "  </thead>\n",
       "  <tbody>\n",
       "    <tr>\n",
       "      <th>0</th>\n",
       "      <td>0.2</td>\n",
       "      <td>0</td>\n",
       "      <td>0.001782</td>\n",
       "      <td>0.998218</td>\n",
       "      <td>0</td>\n",
       "    </tr>\n",
       "    <tr>\n",
       "      <th>1</th>\n",
       "      <td>0.2</td>\n",
       "      <td>0</td>\n",
       "      <td>0.001782</td>\n",
       "      <td>0.998218</td>\n",
       "      <td>0</td>\n",
       "    </tr>\n",
       "    <tr>\n",
       "      <th>2</th>\n",
       "      <td>0.2</td>\n",
       "      <td>0</td>\n",
       "      <td>0.001782</td>\n",
       "      <td>0.998218</td>\n",
       "      <td>0</td>\n",
       "    </tr>\n",
       "    <tr>\n",
       "      <th>3</th>\n",
       "      <td>0.2</td>\n",
       "      <td>0</td>\n",
       "      <td>0.001782</td>\n",
       "      <td>0.998218</td>\n",
       "      <td>0</td>\n",
       "    </tr>\n",
       "    <tr>\n",
       "      <th>4</th>\n",
       "      <td>0.2</td>\n",
       "      <td>0</td>\n",
       "      <td>0.001782</td>\n",
       "      <td>0.998218</td>\n",
       "      <td>0</td>\n",
       "    </tr>\n",
       "  </tbody>\n",
       "</table>\n",
       "</div>"
      ],
      "text/plain": [
       "   petal width  species     +prob     -prob  y_pred\n",
       "0          0.2        0  0.001782  0.998218       0\n",
       "1          0.2        0  0.001782  0.998218       0\n",
       "2          0.2        0  0.001782  0.998218       0\n",
       "3          0.2        0  0.001782  0.998218       0\n",
       "4          0.2        0  0.001782  0.998218       0"
      ]
     },
     "execution_count": 138,
     "metadata": {},
     "output_type": "execute_result"
    }
   ],
   "source": [
    "y_prob = lg.predict_proba(X)  #on trainig data\n",
    "df['+prob'] = y_prob[:,1]\n",
    "df['-prob'] = y_prob[:,:1]\n",
    "df['y_pred'] = lg.predict(X)\n",
    "\n",
    "df.head()"
   ]
  },
  {
   "cell_type": "code",
   "execution_count": 126,
   "id": "38bcee92",
   "metadata": {},
   "outputs": [
    {
     "data": {
      "text/plain": [
       "[<matplotlib.lines.Line2D at 0x195ee221f70>]"
      ]
     },
     "execution_count": 126,
     "metadata": {},
     "output_type": "execute_result"
    },
    {
     "data": {
      "image/png": "[encoded data removed]",
      "text/plain": [
       "<Figure size 432x288 with 1 Axes>"
      ]
     },
     "metadata": {
      "needs_background": "light"
     },
     "output_type": "display_data"
    }
   ],
   "source": [
    "plt.scatter(x = 'petal width', y ='species', data=df)  #training set\n",
    "plt.plot(X_new, y_proba[:, 1], \"g-\", label=\"Iris-Virginica\")   #test set\n",
    "plt.plot(X_new, y_proba[:, 0], \"b--\", label=\"Not Iris-Virginica\")"
   ]
  },
  {
   "cell_type": "code",
   "execution_count": 111,
   "id": "c44a12c7",
   "metadata": {},
   "outputs": [
    {
     "data": {
      "text/plain": [
       "[<matplotlib.lines.Line2D at 0x195ed033d30>]"
      ]
     },
     "execution_count": 111,
     "metadata": {},
     "output_type": "execute_result"
    },
    {
     "data": {
      "image/png": "[encoded data removed]",
      "text/plain": [
       "<Figure size 432x288 with 1 Axes>"
      ]
     },
     "metadata": {
      "needs_background": "light"
     },
     "output_type": "display_data"
    }
   ],
   "source": [
    "plt.scatter(x = 'petal width', y ='species', data=df)\n",
    "plt.plot(X, y_prob[:, 1], \"g-\", label=\"Iris-Virginica\")\n",
    "#plt.plot(X, y_prob[:, 0], \"b--\", label=\"Not Iris-Virginica\")"
   ]
  },
  {
   "cell_type": "code",
   "execution_count": 140,
   "id": "8013d724",
   "metadata": {},
   "outputs": [
    {
     "data": {
      "text/plain": [
       "<matplotlib.collections.PathCollection at 0x195ee3737c0>"
      ]
     },
     "execution_count": 140,
     "metadata": {},
     "output_type": "execute_result"
    },
    {
     "data": {
      "image/png": "[encoded data removed]",
      "text/plain": [
       "<Figure size 432x288 with 1 Axes>"
      ]
     },
     "metadata": {
      "needs_background": "light"
     },
     "output_type": "display_data"
    }
   ],
   "source": [
    "plt.scatter(x = 'petal width', y ='species', data=df)  #training set"
   ]
  },
  {
   "cell_type": "markdown",
   "id": "ee69dfb1",
   "metadata": {},
   "source": [
    "1. Above about 2 cm the classifier is highly confident that the flower is an Iris\u0002Virginica (it outputs a high probability to that class), \n",
    "2. while below 1 cm it is highly\n",
    "confident that it is not an Iris-Virginica (high probability for the “Not Iris-Virginica”\n",
    "class). \n",
    "3. In between these extremes, the classifier is unsure. \n",
    "4. However, if you ask it to\n",
    "predict the class (using the predict() method rather than the predict_proba()\n",
    "method), it will return whichever class is the most likely. \n",
    "5. Therefore, there is a decision\n",
    "boundary at around 1.6 cm where both probabilities are equal to 50%: \n",
    "6. if the petal\n",
    "width is higher than 1.6 cm, the classifier will predict that the flower is an Iris\u0002Virginica, or else it will predict that it is not (even if it is not very confident"
   ]
  },
  {
   "cell_type": "code",
   "execution_count": 141,
   "id": "92ced225",
   "metadata": {
    "scrolled": true
   },
   "outputs": [
    {
     "data": {
      "text/plain": [
       "<matplotlib.collections.PathCollection at 0x195ee3d0fa0>"
      ]
     },
     "execution_count": 141,
     "metadata": {},
     "output_type": "execute_result"
    },
    {
     "data": {
      "image/png": "[encoded data removed]",
      "text/plain": [
       "<Figure size 432x288 with 1 Axes>"
      ]
     },
     "metadata": {
      "needs_background": "light"
     },
     "output_type": "display_data"
    }
   ],
   "source": [
    "plt.scatter(x = 'petal width', y ='y_pred', data=df)  #training set"
   ]
  },
  {
   "cell_type": "markdown",
   "id": "869abeab",
   "metadata": {},
   "source": []
  },
  {
   "cell_type": "code",
   "execution_count": 143,
   "id": "09a35cd6",
   "metadata": {},
   "outputs": [
    {
     "data": {
      "text/plain": [
       "<matplotlib.collections.PathCollection at 0x195ee43dfa0>"
      ]
     },
     "execution_count": 143,
     "metadata": {},
     "output_type": "execute_result"
    },
    {
     "data": {
      "image/png": "[encoded data removed]",
      "text/plain": [
       "<Figure size 432x288 with 1 Axes>"
      ]
     },
     "metadata": {
      "needs_background": "light"
     },
     "output_type": "display_data"
    }
   ],
   "source": [
    "plt.scatter(x = 'petal width', y ='species', data=df)  #training set\n",
    "plt.scatter(x = 'petal width', y ='y_pred', data=df)  #training set"
   ]
  },
  {
   "cell_type": "markdown",
   "id": "8a56a90a",
   "metadata": {},
   "source": [
    "there is a decision\n",
    "boundary at around 1.6 cm where both probabilities are equal to 50%"
   ]
  },
  {
   "cell_type": "code",
   "execution_count": 147,
   "id": "049804d4",
   "metadata": {},
   "outputs": [
    {
     "data": {
      "text/plain": [
       "array([1, 0])"
      ]
     },
     "execution_count": 147,
     "metadata": {},
     "output_type": "execute_result"
    }
   ],
   "source": [
    "lg.predict([[1.7], [1.5]])"
   ]
  },
  {
   "cell_type": "code",
   "execution_count": 158,
   "id": "f903dcb3",
   "metadata": {},
   "outputs": [
    {
     "data": {
      "text/plain": [
       "51     0\n",
       "52     0\n",
       "54     0\n",
       "61     0\n",
       "66     0\n",
       "68     0\n",
       "72     0\n",
       "78     0\n",
       "84     0\n",
       "86     0\n",
       "119    1\n",
       "133    1\n",
       "Name: species, dtype: int32"
      ]
     },
     "execution_count": 158,
     "metadata": {},
     "output_type": "execute_result"
    }
   ],
   "source": [
    "df.species[df['petal width']== 1.5]"
   ]
  },
  {
   "cell_type": "code",
   "execution_count": 156,
   "id": "f21b2a6b",
   "metadata": {},
   "outputs": [
    {
     "data": {
      "text/plain": [
       "51     0\n",
       "52     0\n",
       "54     0\n",
       "61     0\n",
       "66     0\n",
       "68     0\n",
       "72     0\n",
       "78     0\n",
       "84     0\n",
       "86     0\n",
       "119    0\n",
       "133    0\n",
       "Name: y_pred, dtype: int32"
      ]
     },
     "execution_count": 156,
     "metadata": {},
     "output_type": "execute_result"
    }
   ],
   "source": [
    "df.y_pred[df['petal width']== 1.5]"
   ]
  },
  {
   "cell_type": "code",
   "execution_count": 131,
   "id": "42f2c110",
   "metadata": {
    "collapsed": true
   },
   "outputs": [
    {
     "data": {
      "text/plain": [
       "0.1     5\n",
       "0.2    29\n",
       "0.3     7\n",
       "0.4     7\n",
       "0.5     1\n",
       "0.6     1\n",
       "1.0     7\n",
       "1.1     3\n",
       "1.2     5\n",
       "1.3    13\n",
       "1.4     8\n",
       "1.5    12\n",
       "1.6     4\n",
       "1.7     2\n",
       "1.8    12\n",
       "1.9     5\n",
       "2.0     6\n",
       "2.1     6\n",
       "2.2     3\n",
       "2.3     8\n",
       "2.4     3\n",
       "2.5     3\n",
       "Name: petal width, dtype: int64"
      ]
     },
     "execution_count": 131,
     "metadata": {},
     "output_type": "execute_result"
    }
   ],
   "source": [
    "df['petal width'].value_counts().sort_index()# 1 if Iris-Virginica, else 0"
   ]
  },
  {
   "cell_type": "code",
   "execution_count": 135,
   "id": "877c16db",
   "metadata": {},
   "outputs": [
    {
     "data": {
      "text/plain": [
       "species\n",
       "0    100\n",
       "1     50\n",
       "Name: petal width, dtype: int64"
      ]
     },
     "execution_count": 135,
     "metadata": {},
     "output_type": "execute_result"
    }
   ],
   "source": [
    "df.groupby('species')['petal width'].count()# 1 if Iris-Virginica, else 0"
   ]
  },
  {
   "cell_type": "markdown",
   "id": "93ced512",
   "metadata": {},
   "source": [
    "1. petal width of Iris-Virginica flowers (represented by triangles) ranges from 1.4\n",
    "cm to 2.5 cm, \n",
    "2. while the other iris flowers (represented by squares) generally have a\n",
    "smaller petal width, ranging from 0.1 cm to 1.8 cm."
   ]
  },
  {
   "cell_type": "code",
   "execution_count": 136,
   "id": "00d65168",
   "metadata": {},
   "outputs": [
    {
     "data": {
      "text/plain": [
       "<matplotlib.collections.PathCollection at 0x195ee261a60>"
      ]
     },
     "execution_count": 136,
     "metadata": {},
     "output_type": "execute_result"
    },
    {
     "data": {
      "image/png": "[encoded data removed]",
      "text/plain": [
       "<Figure size 432x288 with 1 Axes>"
      ]
     },
     "metadata": {
      "needs_background": "light"
     },
     "output_type": "display_data"
    }
   ],
   "source": [
    "plt.scatter(x = 'petal width', y ='species', data=df)  #training set"
   ]
  },
  {
   "cell_type": "markdown",
   "id": "b1cddcd5",
   "metadata": {},
   "source": [
    "The hyperparameter controlling the regularization strength of a\n",
    "Scikit-Learn LogisticRegression model is not alpha (as in other\n",
    "linear models), but its inverse: C. The higher the value of C, the less\n",
    "the model is regularized."
   ]
  },
  {
   "cell_type": "markdown",
   "id": "ef8a083b",
   "metadata": {},
   "source": [
    "# Softmax Regression"
   ]
  },
  {
   "cell_type": "markdown",
   "id": "dfc54ab6",
   "metadata": {},
   "source": [
    " Logistic Regression model can be generalized to support multiple classes directly,"
   ]
  },
  {
   "cell_type": "code",
   "execution_count": 159,
   "id": "fb0380e0",
   "metadata": {},
   "outputs": [],
   "source": [
    "X = iris[\"data\"][:, (2, 3)] # petal length, petal width\n",
    "y = iris[\"target\"]\n"
   ]
  },
  {
   "cell_type": "code",
   "execution_count": 165,
   "id": "c9a4ee84",
   "metadata": {},
   "outputs": [
    {
     "data": {
      "text/plain": [
       "LogisticRegression(C=10, multi_class='multinomial')"
      ]
     },
     "execution_count": 165,
     "metadata": {},
     "output_type": "execute_result"
    }
   ],
   "source": [
    "lg = LogisticRegression(multi_class=\"multinomial\",solver=\"lbfgs\", C=10)\n",
    "lg.fit(X,y)"
   ]
  },
  {
   "cell_type": "markdown",
   "id": "c7545253",
   "metadata": {},
   "source": [
    "1. Scikit\u0002Learn’s LogisticRegression uses one-versus-all by default when you train it on more\n",
    "than two classes, \n",
    "2. but you can set the multi_class hyperparameter to \"multinomial\"\n",
    "to switch it to Softmax Regression instead. \n",
    "3. You must also specify a solver that sup‐\n",
    "ports Softmax Regression, such as the \"lbfgs\" solver (see Scikit-Learn’s documenta‐\n",
    "tion for more details). \n",
    "4. It also applies ℓ2\n",
    " regularization by default, which you can\n",
    "control using the hyperparameter C.\n"
   ]
  },
  {
   "cell_type": "code",
   "execution_count": 166,
   "id": "cd990310",
   "metadata": {},
   "outputs": [
    {
     "data": {
      "text/plain": [
       "array([2])"
      ]
     },
     "execution_count": 166,
     "metadata": {},
     "output_type": "execute_result"
    }
   ],
   "source": [
    "lg.predict([[5, 2]])\n"
   ]
  },
  {
   "cell_type": "code",
   "execution_count": 167,
   "id": "2795309e",
   "metadata": {},
   "outputs": [
    {
     "data": {
      "text/plain": [
       "array([[6.38014896e-07, 5.74929995e-02, 9.42506362e-01]])"
      ]
     },
     "execution_count": 167,
     "metadata": {},
     "output_type": "execute_result"
    }
   ],
   "source": [
    " lg.predict_proba([[5, 2]])\n"
   ]
  },
  {
   "cell_type": "code",
   "execution_count": null,
   "id": "abb0751d",
   "metadata": {},
   "outputs": [],
   "source": []
  }
 ],
 "metadata": {
  "kernelspec": {
   "display_name": "Python 3 (ipykernel)",
   "language": "python",
   "name": "python3"
  },
  "language_info": {
   "codemirror_mode": {
    "name": "ipython",
    "version": 3
   },
   "file_extension": ".py",
   "mimetype": "text/x-python",
   "name": "python",
   "nbconvert_exporter": "python",
   "pygments_lexer": "ipython3",
   "version": "3.9.7"
  }
 },
 "nbformat": 4,
 "nbformat_minor": 5
}
