{
 "cells": [
  {
   "cell_type": "code",
   "execution_count": 1,
   "id": "3a3f5958",
   "metadata": {},
   "outputs": [],
   "source": [
    "%matplotlib inline\n",
    "import matplotlib as mpl\n",
    "import matplotlib.pyplot as plt\n",
    "mpl.rc('axes', labelsize=14)\n",
    "mpl.rc('xtick', labelsize=12)\n",
    "mpl.rc('ytick', labelsize=12)\n",
    "\n",
    "import numpy as np\n",
    "import pandas as pd\n"
   ]
  },
  {
   "cell_type": "markdown",
   "id": "daf407aa",
   "metadata": {},
   "source": [
    "# PCA\n",
    "1. Principal Component Analysis (PCA) is by far the most popular dimensionality reduc‐\n",
    "tion algorithm. First it identifies the hyperplane that lies closest to the data, and then\n",
    "it projects the data onto it\n",
    "2. It seems reasonable to select the axis that preserves the maximum amount of var‐\n",
    "iance, as it will most likely lose less information than the other projections. \n",
    "3. Another\n",
    "way to justify this choice is that it is the axis that minimizes the mean squared dis‐\n",
    "tance between the original dataset and its projection onto that axis. This is the rather\n",
    "simple idea behind PCA.\n",
    "4"
   ]
  },
  {
   "cell_type": "markdown",
   "id": "d611430f",
   "metadata": {},
   "source": [
    "# Principal Components\n",
    "1. PCA identifies the axis that accounts for the largest amount of variance in the train‐\n",
    "ing set.\n",
    "2. for higher-dimensional data‐\n",
    "set, PCA would also find a second axis orthogonal to  previous axes similarly third axis, orthogonal to both previous axes, and a fourth,\n",
    "a fifth, and so on—as many axes as the number of dimensions in the dataset.\n",
    "1. The unit vector that defines the ith axis is called the ith principal component (PC).\n",
    "2. So how can you find the principal components of a training set? \n",
    "3. Luckily, there is a\n",
    "standard matrix factorization technique called Singular Value Decomposition (SVD)\n",
    "that can decompose the training set matrix X into the matrix multiplication of three\n",
    "matrices U Σ VT\n",
    ", where V contains all the principal components "
   ]
  },
  {
   "cell_type": "code",
   "execution_count": null,
   "id": "7fa12b73",
   "metadata": {},
   "outputs": [],
   "source": [
    "#Let's build a simple 3D dataset:"
   ]
  },
  {
   "cell_type": "code",
   "execution_count": 2,
   "id": "fc5e430a",
   "metadata": {},
   "outputs": [],
   "source": [
    "np.random.seed(4)\n",
    "m = 60\n",
    "w1, w2 = 0.1, 0.3\n",
    "noise = 0.1\n",
    "\n",
    "angles = np.random.rand(m) * 3 * np.pi / 2 - 0.5\n",
    "X = np.empty((m, 3))\n",
    "X[:, 0] = np.cos(angles) + np.sin(angles)/2 + noise * np.random.randn(m) / 2\n",
    "X[:, 1] = np.sin(angles) * 0.7 + noise * np.random.randn(m) / 2\n",
    "X[:, 2] = X[:, 0] * w1 + X[:, 1] * w2 + noise * np.random.randn(m)"
   ]
  },
  {
   "cell_type": "code",
   "execution_count": 8,
   "id": "54fd453b",
   "metadata": {},
   "outputs": [
    {
     "data": {
      "text/html": [
       "<div>\n",
       "<style scoped>\n",
       "    .dataframe tbody tr th:only-of-type {\n",
       "        vertical-align: middle;\n",
       "    }\n",
       "\n",
       "    .dataframe tbody tr th {\n",
       "        vertical-align: top;\n",
       "    }\n",
       "\n",
       "    .dataframe thead th {\n",
       "        text-align: right;\n",
       "    }\n",
       "</style>\n",
       "<table border=\"1\" class=\"dataframe\">\n",
       "  <thead>\n",
       "    <tr style=\"text-align: right;\">\n",
       "      <th></th>\n",
       "      <th>0</th>\n",
       "      <th>1</th>\n",
       "      <th>2</th>\n",
       "    </tr>\n",
       "  </thead>\n",
       "  <tbody>\n",
       "    <tr>\n",
       "      <th>0</th>\n",
       "      <td>-1.015700</td>\n",
       "      <td>-0.550913</td>\n",
       "      <td>-0.261326</td>\n",
       "    </tr>\n",
       "    <tr>\n",
       "      <th>1</th>\n",
       "      <td>-0.007717</td>\n",
       "      <td>0.599586</td>\n",
       "      <td>0.035078</td>\n",
       "    </tr>\n",
       "    <tr>\n",
       "      <th>2</th>\n",
       "      <td>-0.953171</td>\n",
       "      <td>-0.464537</td>\n",
       "      <td>-0.249203</td>\n",
       "    </tr>\n",
       "    <tr>\n",
       "      <th>3</th>\n",
       "      <td>-0.920123</td>\n",
       "      <td>0.210096</td>\n",
       "      <td>0.021824</td>\n",
       "    </tr>\n",
       "    <tr>\n",
       "      <th>4</th>\n",
       "      <td>-0.763097</td>\n",
       "      <td>0.158261</td>\n",
       "      <td>0.191525</td>\n",
       "    </tr>\n",
       "  </tbody>\n",
       "</table>\n",
       "</div>"
      ],
      "text/plain": [
       "          0         1         2\n",
       "0 -1.015700 -0.550913 -0.261326\n",
       "1 -0.007717  0.599586  0.035078\n",
       "2 -0.953171 -0.464537 -0.249203\n",
       "3 -0.920123  0.210096  0.021824\n",
       "4 -0.763097  0.158261  0.191525"
      ]
     },
     "execution_count": 8,
     "metadata": {},
     "output_type": "execute_result"
    }
   ],
   "source": [
    "df = pd.DataFrame(X)\n",
    "df.head()"
   ]
  },
  {
   "cell_type": "markdown",
   "id": "ae809b4f",
   "metadata": {},
   "source": [
    "#principle component\n",
    "1. PCA assumes that the dataset is centered around the origin. \n",
    "2. As we\n",
    "will see, Scikit-Learn’s PCA classes take care of centering the data\n",
    "for you. \n",
    "3. However, if you implement PCA yourself (as in the pre‐\n",
    "ceding example), or if you use other libraries, don’t forget to center\n",
    "the data first."
   ]
  },
  {
   "cell_type": "code",
   "execution_count": 63,
   "id": "13104595",
   "metadata": {
    "scrolled": true
   },
   "outputs": [
    {
     "data": {
      "text/plain": [
       "array([[ 0.93636116, -0.34027485, -0.08626012],\n",
       "       [ 0.29854881,  0.90119108, -0.31420255],\n",
       "       [ 0.18465208,  0.2684542 ,  0.94542898]])"
      ]
     },
     "execution_count": 63,
     "metadata": {},
     "output_type": "execute_result"
    }
   ],
   "source": [
    "X_centred = X - X.mean(axis =0) #PCA assumes that the dataset is centered around the origin.\n",
    "U,s,VT = np.linalg.svd(X_centred)\n",
    "VT  #\n",
    "V = VT.T\n",
    "V   #principle component matrix"
   ]
  },
  {
   "cell_type": "code",
   "execution_count": 68,
   "id": "3bf90761",
   "metadata": {},
   "outputs": [
    {
     "name": "stdout",
     "output_type": "stream",
     "text": [
      "[0.93636116 0.29854881 0.18465208] [-0.34027485  0.90119108  0.2684542 ]\n"
     ]
    }
   ],
   "source": [
    "#, then extracts the first two PCs:\n",
    "c1 = V[:, 0]\n",
    "c2 = V[:, 1]\n",
    "print(c1,c2)\n"
   ]
  },
  {
   "cell_type": "markdown",
   "id": "a9c62003",
   "metadata": {},
   "source": [
    "# dimisnsonality reduction by projecton on principe comp\n",
    "1. Once you have identified all the principal components, you can reduce the dimen‐\n",
    "sionality of the dataset down to d dimensions by projecting it onto the hyperplane\n",
    "defined by the first d principal components d=2 in above examplke\n",
    "2. Selecting this hyperplane ensures that the\n",
    "projection will preserve as much variance as possible.\n",
    "\n",
    "\n",
    "3. To project the training set onto the hyperplane, you can simply compute the matrix\n",
    "multiplication of \n",
    "4. the training set matrix X by the matrix Wd\n",
    ", defined as the matrix\n",
    "containing the first d principal components (i.e., the matrix composed of the first d\n",
    "columns of V),\n",
    "\n",
    "Projecting the training set down to d dimensions\n",
    "Xd‐proj = XWd"
   ]
  },
  {
   "cell_type": "code",
   "execution_count": 76,
   "id": "0daa8eed",
   "metadata": {},
   "outputs": [
    {
     "name": "stdout",
     "output_type": "stream",
     "text": [
      "[[ 0.93636116 -0.34027485]\n",
      " [ 0.29854881  0.90119108]\n",
      " [ 0.18465208  0.2684542 ]]\n",
      "(60, 2)\n"
     ]
    },
    {
     "data": {
      "text/html": [
       "<div>\n",
       "<style scoped>\n",
       "    .dataframe tbody tr th:only-of-type {\n",
       "        vertical-align: middle;\n",
       "    }\n",
       "\n",
       "    .dataframe tbody tr th {\n",
       "        vertical-align: top;\n",
       "    }\n",
       "\n",
       "    .dataframe thead th {\n",
       "        text-align: right;\n",
       "    }\n",
       "</style>\n",
       "<table border=\"1\" class=\"dataframe\">\n",
       "  <thead>\n",
       "    <tr style=\"text-align: right;\">\n",
       "      <th></th>\n",
       "      <th>0</th>\n",
       "      <th>1</th>\n",
       "    </tr>\n",
       "  </thead>\n",
       "  <tbody>\n",
       "    <tr>\n",
       "      <th>0</th>\n",
       "      <td>-1.262033</td>\n",
       "      <td>-0.420676</td>\n",
       "    </tr>\n",
       "    <tr>\n",
       "      <th>1</th>\n",
       "      <td>0.080015</td>\n",
       "      <td>0.352722</td>\n",
       "    </tr>\n",
       "    <tr>\n",
       "      <th>2</th>\n",
       "      <td>-1.175458</td>\n",
       "      <td>-0.360857</td>\n",
       "    </tr>\n",
       "    <tr>\n",
       "      <th>3</th>\n",
       "      <td>-0.893056</td>\n",
       "      <td>0.308629</td>\n",
       "    </tr>\n",
       "    <tr>\n",
       "      <th>4</th>\n",
       "      <td>-0.730163</td>\n",
       "      <td>0.254040</td>\n",
       "    </tr>\n",
       "  </tbody>\n",
       "</table>\n",
       "</div>"
      ],
      "text/plain": [
       "          0         1\n",
       "0 -1.262033 -0.420676\n",
       "1  0.080015  0.352722\n",
       "2 -1.175458 -0.360857\n",
       "3 -0.893056  0.308629\n",
       "4 -0.730163  0.254040"
      ]
     },
     "execution_count": 76,
     "metadata": {},
     "output_type": "execute_result"
    }
   ],
   "source": [
    "w2 = V[:,:2]\n",
    "print(w2)\n",
    "X2_proj = X_centred.dot(w2)  #projection of data on first 2 princ com \n",
    "print(X2_proj.shape)\n",
    "pd.DataFrame(X2_proj).head()  #projection of data on first 2 princ com  "
   ]
  },
  {
   "cell_type": "markdown",
   "id": "66644018",
   "metadata": {},
   "source": [
    "Using Scikit-Learn"
   ]
  },
  {
   "cell_type": "markdown",
   "id": "e90e1161",
   "metadata": {},
   "source": [
    "The following code applies PCA to reduce the dimensionality of the dataset\n",
    "down to two dimensions (note that it automatically takes care of centering the data)"
   ]
  },
  {
   "cell_type": "code",
   "execution_count": 81,
   "id": "1efd5bf3",
   "metadata": {},
   "outputs": [
    {
     "data": {
      "text/html": [
       "<div>\n",
       "<style scoped>\n",
       "    .dataframe tbody tr th:only-of-type {\n",
       "        vertical-align: middle;\n",
       "    }\n",
       "\n",
       "    .dataframe tbody tr th {\n",
       "        vertical-align: top;\n",
       "    }\n",
       "\n",
       "    .dataframe thead th {\n",
       "        text-align: right;\n",
       "    }\n",
       "</style>\n",
       "<table border=\"1\" class=\"dataframe\">\n",
       "  <thead>\n",
       "    <tr style=\"text-align: right;\">\n",
       "      <th></th>\n",
       "      <th>0</th>\n",
       "      <th>1</th>\n",
       "    </tr>\n",
       "  </thead>\n",
       "  <tbody>\n",
       "    <tr>\n",
       "      <th>0</th>\n",
       "      <td>1.262033</td>\n",
       "      <td>0.420676</td>\n",
       "    </tr>\n",
       "    <tr>\n",
       "      <th>1</th>\n",
       "      <td>-0.080015</td>\n",
       "      <td>-0.352722</td>\n",
       "    </tr>\n",
       "    <tr>\n",
       "      <th>2</th>\n",
       "      <td>1.175458</td>\n",
       "      <td>0.360857</td>\n",
       "    </tr>\n",
       "    <tr>\n",
       "      <th>3</th>\n",
       "      <td>0.893056</td>\n",
       "      <td>-0.308629</td>\n",
       "    </tr>\n",
       "    <tr>\n",
       "      <th>4</th>\n",
       "      <td>0.730163</td>\n",
       "      <td>-0.254040</td>\n",
       "    </tr>\n",
       "  </tbody>\n",
       "</table>\n",
       "</div>"
      ],
      "text/plain": [
       "          0         1\n",
       "0  1.262033  0.420676\n",
       "1 -0.080015 -0.352722\n",
       "2  1.175458  0.360857\n",
       "3  0.893056 -0.308629\n",
       "4  0.730163 -0.254040"
      ]
     },
     "execution_count": 81,
     "metadata": {},
     "output_type": "execute_result"
    }
   ],
   "source": [
    "from sklearn.decomposition import PCA\n",
    "pca = PCA( n_components=2)\n",
    "X2_projS = pca.fit_transform(X)  #projection of data on first 2 princ com \n",
    "pd.DataFrame(X2_projS).head() "
   ]
  },
  {
   "cell_type": "code",
   "execution_count": 83,
   "id": "9721eb35",
   "metadata": {},
   "outputs": [
    {
     "data": {
      "text/plain": [
       "True"
      ]
     },
     "execution_count": 83,
     "metadata": {},
     "output_type": "execute_result"
    }
   ],
   "source": [
    "np.allclose(X2_proj, -X2_projS)"
   ]
  },
  {
   "cell_type": "markdown",
   "id": "4ed397f3",
   "metadata": {},
   "source": [
    "After fitting the PCA transformer to the dataset, you can access the principal compo‐\n",
    "nents using the components_ variable (note that it contains the PCs as horizontal vectors, so, for example, the first principal component is equal to pca.components_.T[:,\n",
    "0]).\n"
   ]
  },
  {
   "cell_type": "code",
   "execution_count": 88,
   "id": "61c1de71",
   "metadata": {},
   "outputs": [
    {
     "name": "stdout",
     "output_type": "stream",
     "text": [
      "[[-0.93636116 -0.29854881 -0.18465208]\n",
      " [ 0.34027485 -0.90119108 -0.2684542 ]]\n"
     ]
    },
    {
     "data": {
      "text/plain": [
       "array([-0.93636116, -0.29854881, -0.18465208])"
      ]
     },
     "execution_count": 88,
     "metadata": {},
     "output_type": "execute_result"
    }
   ],
   "source": [
    "#principle components\n",
    "print(pca.components_)\n",
    "pca.components_.T[:, 0]"
   ]
  },
  {
   "cell_type": "markdown",
   "id": "74d429d8",
   "metadata": {},
   "source": [
    "#### Explained Variance Ratio of principle components\n",
    "2. It indicates\n",
    "the proportion of the dataset’s variance that lies along the axis of each principal com‐\n",
    "ponent."
   ]
  },
  {
   "cell_type": "code",
   "execution_count": 90,
   "id": "111737c1",
   "metadata": {},
   "outputs": [
    {
     "data": {
      "text/plain": [
       "array([0.84248607, 0.14631839])"
      ]
     },
     "execution_count": 90,
     "metadata": {},
     "output_type": "execute_result"
    }
   ],
   "source": [
    "pca.explained_variance_ratio_"
   ]
  },
  {
   "cell_type": "markdown",
   "id": "c51809e4",
   "metadata": {},
   "source": [
    "This tells you that 84.2% of the dataset’s variance lies along the first axis, and 14.6%\n",
    "lies along the second axis. This leaves less than 1.2% for the third axis, so it is reason‐\n",
    "able to assume that it probably carries little information"
   ]
  },
  {
   "cell_type": "code",
   "execution_count": null,
   "id": "b0c9f659",
   "metadata": {},
   "outputs": [],
   "source": [
    "#can also recover original features from reduced dimension see the book code\n",
    "\n",
    "PCA inverse transformation, back to the original number of\n",
    "dimensions\n",
    "Xrecovered = Xd‐proj *WdT"
   ]
  },
  {
   "cell_type": "markdown",
   "id": "adb00ad1",
   "metadata": {},
   "source": [
    "# Choosing the Right Number of Dimensions\n",
    "\n",
    "1. generally preferable to choose the number of dimensions that add up to a sufficiently\n",
    "large portion of the variance (e.g., 95%). \n",
    "2. Unless, of course, you are reducing dimen‐\n",
    "sionality for data visualization—in that case you will generally want to reduce the\n",
    "dimensionality down to 2 or 3."
   ]
  },
  {
   "cell_type": "code",
   "execution_count": 91,
   "id": "7916d856",
   "metadata": {},
   "outputs": [],
   "source": [
    "from sklearn.datasets import fetch_openml\n",
    "\n",
    "mnist = fetch_openml('mnist_784', version=1, as_frame=False)\n",
    "mnist.target = mnist.target.astype(np.uint8)"
   ]
  },
  {
   "cell_type": "code",
   "execution_count": 92,
   "id": "ec957f91",
   "metadata": {},
   "outputs": [],
   "source": [
    "from sklearn.model_selection import train_test_split\n",
    "\n",
    "X = mnist[\"data\"]\n",
    "y = mnist[\"target\"]\n",
    "\n",
    "X_train, X_test, y_train, y_test = train_test_split(X, y)"
   ]
  },
  {
   "cell_type": "code",
   "execution_count": 95,
   "id": "0f021245",
   "metadata": {},
   "outputs": [
    {
     "data": {
      "text/plain": [
       "PCA()"
      ]
     },
     "execution_count": 95,
     "metadata": {},
     "output_type": "execute_result"
    }
   ],
   "source": [
    "from sklearn.decomposition import PCA\n",
    "pca = PCA()\n",
    "pca.fit(X_train)"
   ]
  },
  {
   "cell_type": "code",
   "execution_count": 100,
   "id": "8404cfce",
   "metadata": {},
   "outputs": [
    {
     "name": "stdout",
     "output_type": "stream",
     "text": [
      "(52500, 784)\n",
      "154\n"
     ]
    }
   ],
   "source": [
    "print(X_train.shape)\n",
    "cumsum = np.cumsum(pca.explained_variance_ratio_)\n",
    "d = np.argmax(cumsum >= 0.95) + 1\n",
    "print(d)  #no of component shows 95% of varianse of data set"
   ]
  },
  {
   "cell_type": "code",
   "execution_count": 98,
   "id": "e00a306b",
   "metadata": {},
   "outputs": [
    {
     "data": {
      "text/plain": [
       "array([1, 3, 6, 8], dtype=int32)"
      ]
     },
     "execution_count": 98,
     "metadata": {},
     "output_type": "execute_result"
    }
   ],
   "source": [
    "s = np.array([1,2,3,2])\n",
    "np.cumsum(s)"
   ]
  },
  {
   "cell_type": "code",
   "execution_count": 110,
   "id": "6ec618ec",
   "metadata": {},
   "outputs": [
    {
     "data": {
      "image/png": "[encoded data removed]",
      "text/plain": [
       "<Figure size 432x288 with 1 Axes>"
      ]
     },
     "metadata": {
      "needs_background": "light"
     },
     "output_type": "display_data"
    }
   ],
   "source": [
    "\n",
    "plt.plot(cumsum, linewidth=3)\n",
    "\n",
    "\n",
    "\n",
    "\n",
    "plt.axis([0, 400, 0, 1])\n",
    "plt.xlabel(\"Dimensions\")\n",
    "plt.ylabel(\"Explained Variance\")\n",
    "plt.plot([d, d], [0, 0.95], \"k:\")\n",
    "plt.plot([0, d], [0.95, 0.95], \"k:\")\n",
    "plt.plot(d, 0.95, \"ko\")\n",
    "plt.annotate(\"Elbow\", xy=(65, 0.85), xytext=(70, 0.7),\n",
    "             arrowprops=dict(arrowstyle=\"->\"), fontsize=16)\n",
    "\n",
    "\n",
    "\n",
    "\n",
    "\n",
    "plt.xlabel(\"Dimensions\")\n",
    "plt.ylabel(\"Explained Variance\")\n",
    "plt.grid(True)\n",
    "plt.show()"
   ]
  },
  {
   "cell_type": "markdown",
   "id": "d8897daf",
   "metadata": {},
   "source": [
    "1. another option is to plot the explained variance as a function of the number of\n",
    "dimensions. \n",
    "2. There will usually be an elbow in the\n",
    "curve, where the explained variance stops growing fast. \n",
    "3. You can think of this as the\n",
    "intrinsic dimensionality of the dataset."
   ]
  },
  {
   "cell_type": "code",
   "execution_count": 107,
   "id": "1f2266b1",
   "metadata": {},
   "outputs": [],
   "source": [
    "#now alternatively to find  no of component shows 95% of varianse of data set\n",
    "pca = PCA(n_components=0.95)\n",
    "X_reduced = pca.fit_transform(X_train)"
   ]
  },
  {
   "cell_type": "code",
   "execution_count": 113,
   "id": "1d219aee",
   "metadata": {},
   "outputs": [
    {
     "name": "stdout",
     "output_type": "stream",
     "text": [
      "original features 784\n",
      "reduced feature to  154\n"
     ]
    },
    {
     "data": {
      "text/plain": [
       "0.9503684424557425"
      ]
     },
     "execution_count": 113,
     "metadata": {},
     "output_type": "execute_result"
    }
   ],
   "source": [
    "print(\"original features\", X_train.shape[1])\n",
    "print('reduced feature to ',pca.n_components_)\n",
    "np.sum(pca.explained_variance_ratio_)"
   ]
  },
  {
   "cell_type": "markdown",
   "id": "95469f5d",
   "metadata": {},
   "source": [
    "1. You should find that each instance will have just over 150 features, instead of\n",
    "the original 784 features. So while most of the variance is preserved, the dataset is\n",
    "now less than 20% of its original size!\n",
    "2. can speed up a classification algorithm (such as an SVM classifier)\n",
    "tremendously"
   ]
  },
  {
   "cell_type": "markdown",
   "id": "6b780578",
   "metadata": {},
   "source": [
    "# recover data\n",
    "1. It is also possible to decompress the reduced dataset back to 784 dimensions by\n",
    "applying the inverse transformation of the PCA projection. \n",
    "2. Of course this won’t give\n",
    "you back the original data, since the projection lost a bit of information (within the\n",
    "5% variance that was dropped), \n",
    "3. but it will likely be quite close to the original data.\n",
    "4. The mean squared distance between the original data and the reconstructed data\n",
    "(compressed and then decompressed) is called the reconstruction error. \n"
   ]
  },
  {
   "cell_type": "code",
   "execution_count": 114,
   "id": "114c19aa",
   "metadata": {},
   "outputs": [],
   "source": [
    "pca = PCA(n_components = 154)\n",
    "X_reduced = pca.fit_transform(X_train)\n",
    "X_recovered = pca.inverse_transform(X_reduced)"
   ]
  },
  {
   "cell_type": "markdown",
   "id": "0104d0fa",
   "metadata": {},
   "source": [
    "Equation 8-3. PCA inverse transformation, back to the original number of\n",
    "dimensions\n",
    "Xrecovered = Xd‐proj * WdT"
   ]
  },
  {
   "cell_type": "markdown",
   "id": "7641edff",
   "metadata": {},
   "source": [
    "# Randomized PCA\n",
    "1. If you set the svd_solver hyperparameter to \"randomized\", Scikit-Learn uses a sto‐\n",
    "chastic algorithm called Randomized PCA that quickly finds an approximation of the\n",
    "first d principal components\n",
    "2. it is dramatically faster\n",
    "than full SVD when d is much smaller than n\n",
    "\n",
    "\n",
    "3. By default, svd_solver is actually set to \"auto\": Scikit-Learn automatically uses the\n",
    "randomized PCA algorithm if m or n is greater than 500 and d is less than 80% of m\n",
    "or n, or else it uses the full SVD approach. If you want to force Scikit-Learn to use full\n",
    "SVD, you can set the svd_solver hyperparameter to \"full\"."
   ]
  },
  {
   "cell_type": "code",
   "execution_count": 117,
   "id": "c848c3cb",
   "metadata": {},
   "outputs": [],
   "source": [
    "r_pca = PCA(svd_solver='randomized',n_components=154)\n",
    "X_reduced = r_pca.fit(X_train)"
   ]
  },
  {
   "cell_type": "code",
   "execution_count": 119,
   "id": "f17067d8",
   "metadata": {},
   "outputs": [
    {
     "name": "stdout",
     "output_type": "stream",
     "text": [
      "154\n"
     ]
    }
   ],
   "source": [
    "print(r_pca.n_components_)"
   ]
  },
  {
   "cell_type": "markdown",
   "id": "4a4ab89a",
   "metadata": {},
   "source": [
    "# Incremental PCA\n",
    "1. One problem with the preceding implementations of PCA is that they require the\n",
    "whole training set to fit in memory in order for the algorithm to run. \n",
    "\n",
    "2. Incremental PCA (IPCA) algorithms have been developed: you can split the training\n",
    "set into mini-batches and feed an IPCA algorithm one mini-batch at a time\n",
    "3. useful for large training sets, and also to apply PCA online"
   ]
  },
  {
   "cell_type": "code",
   "execution_count": 120,
   "id": "909ce9bd",
   "metadata": {},
   "outputs": [],
   "source": [
    "from sklearn.decomposition import IncrementalPCA\n",
    "\n",
    "n_batches = 100\n",
    "inc_pca = IncrementalPCA(n_components=154)\n",
    "\n",
    "for X_batch in np.array_split(X_train, n_batches):\n",
    "     inc_pca.partial_fit(X_batch)\n",
    "X_reduced = inc_pca.transform(X_train)\n"
   ]
  },
  {
   "cell_type": "markdown",
   "id": "29a1e460",
   "metadata": {},
   "source": [
    "# Kernel PCA\n",
    "1. kernel trick, a mathematical technique that implicitly\n",
    "maps instances into a very high-dimensional space (called the feature space),\n",
    "2. It turns out that the same trick can be applied to PCA, making it possible to perform\n",
    "complex nonlinear projections for dimensionality reduction. This is called KernelPCA"
   ]
  },
  {
   "cell_type": "code",
   "execution_count": 122,
   "id": "329539d7",
   "metadata": {},
   "outputs": [],
   "source": [
    "from sklearn.datasets import make_swiss_roll\n",
    "X, t = make_swiss_roll(n_samples=1000, noise=0.2, random_state=42)"
   ]
  },
  {
   "cell_type": "code",
   "execution_count": 123,
   "id": "eff593cd",
   "metadata": {},
   "outputs": [
    {
     "data": {
      "text/plain": [
       "array([[-3.29677117,  4.26198454,  7.69787682],\n",
       "       [ 5.95972743, 11.45784273, 12.72625276],\n",
       "       [ 6.66051523, 18.15820401, -9.84713337],\n",
       "       ...,\n",
       "       [ 6.18364276,  1.44095323, -1.71242696],\n",
       "       [ 5.86076169,  1.09185823, 12.47091112],\n",
       "       [-8.16213703,  5.61235668,  4.51171684]])"
      ]
     },
     "execution_count": 123,
     "metadata": {},
     "output_type": "execute_result"
    }
   ],
   "source": [
    "X\n"
   ]
  },
  {
   "cell_type": "code",
   "execution_count": 127,
   "id": "60c740c1",
   "metadata": {},
   "outputs": [
    {
     "data": {
      "text/plain": [
       "<mpl_toolkits.mplot3d.art3d.Path3DCollection at 0x1a9b196acd0>"
      ]
     },
     "execution_count": 127,
     "metadata": {},
     "output_type": "execute_result"
    },
    {
     "data": {
      "image/png": "[encoded data removed]",
      "text/plain": [
       "<Figure size 432x360 with 1 Axes>"
      ]
     },
     "metadata": {
      "needs_background": "light"
     },
     "output_type": "display_data"
    }
   ],
   "source": [
    "fig = plt.figure(figsize=(6, 5))\n",
    "ax = fig.add_subplot(111, projection='3d')\n",
    "\n",
    "ax.scatter(X[:, 0], X[:, 1], X[:, 2], c=t, cmap=plt.cm.hot)"
   ]
  },
  {
   "cell_type": "code",
   "execution_count": 128,
   "id": "5063f35f",
   "metadata": {},
   "outputs": [],
   "source": [
    "from sklearn.decomposition import KernelPCA\n",
    "rbf_pca = KernelPCA(n_components = 2, kernel=\"rbf\", gamma=0.04)\n",
    "X_reduced = rbf_pca.fit_transform(X)\n"
   ]
  },
  {
   "cell_type": "code",
   "execution_count": 129,
   "id": "e6c2b98a",
   "metadata": {},
   "outputs": [
    {
     "data": {
      "text/plain": [
       "array([[-0.20318153, -0.04192012],\n",
       "       [-0.12291985, -0.08891651],\n",
       "       [ 0.06294914, -0.06770846],\n",
       "       ...,\n",
       "       [-0.01755176,  0.50273796],\n",
       "       [-0.09990453,  0.00253754],\n",
       "       [-0.19161337, -0.0417062 ]])"
      ]
     },
     "execution_count": 129,
     "metadata": {},
     "output_type": "execute_result"
    }
   ],
   "source": [
    "X_reduced"
   ]
  },
  {
   "cell_type": "code",
   "execution_count": 133,
   "id": "4db7a90d",
   "metadata": {},
   "outputs": [
    {
     "data": {
      "image/png": "[encoded data removed]",
      "text/plain": [
       "<Figure size 432x360 with 1 Axes>"
      ]
     },
     "metadata": {
      "needs_background": "light"
     },
     "output_type": "display_data"
    }
   ],
   "source": [
    "fig = plt.figure(figsize=(6, 5))\n",
    "ax = fig.add_subplot(111)\n",
    "\n",
    "ax.scatter(X[:, 0], X[:, 1],  c=t, cmap=plt.cm.hot)\n",
    "plt.show()"
   ]
  },
  {
   "cell_type": "markdown",
   "id": "db76caa4",
   "metadata": {},
   "source": [
    "# Selecting a Kernel and Tuning Hyperparameters\n",
    "simply use grid search to select the kernel and hyper‐\n",
    "parameters that lead to the best performance on that task\n",
    "\n",
    "For example, the following\n",
    "code creates a two-step pipeline, first reducing dimensionality to two dimensions\n",
    "using kPCA, then applying Logistic Regression for classification. Then it uses Grid\n",
    "SearchCV to find the best kernel and gamma value for kPCA in order to get the best\n",
    "classification accuracy at the end of the pipeline"
   ]
  },
  {
   "cell_type": "code",
   "execution_count": 139,
   "id": "eb32b1c8",
   "metadata": {},
   "outputs": [],
   "source": [
    "y = t > 6.9"
   ]
  },
  {
   "cell_type": "code",
   "execution_count": 145,
   "id": "586cceb0",
   "metadata": {},
   "outputs": [
    {
     "data": {
      "text/plain": [
       "GridSearchCV(cv=3,\n",
       "             estimator=Pipeline(steps=[('kpca', KernelPCA(n_components=2)),\n",
       "                                       ('log_reg', LogisticRegression())]),\n",
       "             param_grid=[{'kpca__gamma': array([0.03      , 0.03222222, 0.03444444, 0.03666667, 0.03888889,\n",
       "       0.04111111, 0.04333333, 0.04555556, 0.04777778, 0.05      ]),\n",
       "                          'kpca__kernel': ['rbf', 'sigmoid']}])"
      ]
     },
     "execution_count": 145,
     "metadata": {},
     "output_type": "execute_result"
    }
   ],
   "source": [
    "from sklearn.model_selection import GridSearchCV\n",
    "from sklearn.linear_model import LogisticRegression\n",
    "from sklearn.pipeline import Pipeline\n",
    "from sklearn.decomposition import KernelPCA\n",
    "\n",
    "clf = Pipeline([\n",
    "        (\"kpca\", KernelPCA(n_components=2)),\n",
    "        (\"log_reg\", LogisticRegression(solver=\"lbfgs\"))\n",
    "    ])\n",
    "\n",
    "param_grid = [{\n",
    "        \"kpca__gamma\": np.linspace(0.03, 0.05, 10),\n",
    "        \"kpca__kernel\": [\"rbf\", \"sigmoid\"]\n",
    "    }]\n",
    "\n",
    "grid_search = GridSearchCV(clf, param_grid, cv=3)\n",
    "grid_search.fit(X, y)"
   ]
  },
  {
   "cell_type": "code",
   "execution_count": 146,
   "id": "6052f558",
   "metadata": {},
   "outputs": [
    {
     "data": {
      "text/plain": [
       "Pipeline(steps=[('kpca',\n",
       "                 KernelPCA(gamma=0.043333333333333335, kernel='rbf',\n",
       "                           n_components=2)),\n",
       "                ('log_reg', LogisticRegression())])"
      ]
     },
     "execution_count": 146,
     "metadata": {},
     "output_type": "execute_result"
    }
   ],
   "source": [
    "grid_search.best_estimator_"
   ]
  },
  {
   "cell_type": "code",
   "execution_count": 147,
   "id": "575f749f",
   "metadata": {},
   "outputs": [
    {
     "data": {
      "text/plain": [
       "{'kpca__gamma': 0.043333333333333335, 'kpca__kernel': 'rbf'}"
      ]
     },
     "execution_count": 147,
     "metadata": {},
     "output_type": "execute_result"
    }
   ],
   "source": [
    "grid_search.best_params_"
   ]
  },
  {
   "cell_type": "markdown",
   "id": "b9623e73",
   "metadata": {},
   "source": [
    "Another approach, this time entirely unsupervised, is to select the kernel and hyper‐\n",
    "parameters that yield the lowest reconstruction error\n",
    "\n",
    "\n",
    "Scikit-Learn will do this automatically if you set\n",
    "fit_inverse_transform=True, as shown in the following code"
   ]
  },
  {
   "cell_type": "code",
   "execution_count": 148,
   "id": "1ad9ddd8",
   "metadata": {},
   "outputs": [],
   "source": [
    "rbf_pca = KernelPCA(n_components = 2, kernel=\"rbf\", gamma=0.0433,\n",
    " fit_inverse_transform=True)\n",
    "X_reduced = rbf_pca.fit_transform(X)\n",
    "X_preimage = rbf_pca.inverse_transform(X_reduced)"
   ]
  },
  {
   "cell_type": "code",
   "execution_count": 149,
   "id": "c81bfca6",
   "metadata": {},
   "outputs": [
    {
     "data": {
      "text/plain": [
       "32.78630879576614"
      ]
     },
     "execution_count": 149,
     "metadata": {},
     "output_type": "execute_result"
    }
   ],
   "source": [
    "from sklearn.metrics import mean_squared_error\n",
    "mean_squared_error(X, X_preimage)"
   ]
  },
  {
   "cell_type": "code",
   "execution_count": null,
   "id": "433bc882",
   "metadata": {},
   "outputs": [],
   "source": []
  },
  {
   "cell_type": "code",
   "execution_count": null,
   "id": "3bac3690",
   "metadata": {},
   "outputs": [],
   "source": []
  },
  {
   "cell_type": "code",
   "execution_count": null,
   "id": "65f83f7e",
   "metadata": {},
   "outputs": [],
   "source": []
  },
  {
   "cell_type": "code",
   "execution_count": null,
   "id": "41add99c",
   "metadata": {},
   "outputs": [],
   "source": []
  },
  {
   "cell_type": "code",
   "execution_count": null,
   "id": "3fee7c5d",
   "metadata": {},
   "outputs": [],
   "source": []
  },
  {
   "cell_type": "code",
   "execution_count": null,
   "id": "aac4aafa",
   "metadata": {},
   "outputs": [],
   "source": []
  },
  {
   "cell_type": "code",
   "execution_count": null,
   "id": "847fa76e",
   "metadata": {},
   "outputs": [],
   "source": []
  },
  {
   "cell_type": "code",
   "execution_count": null,
   "id": "aebb907e",
   "metadata": {},
   "outputs": [],
   "source": []
  },
  {
   "cell_type": "markdown",
   "id": "a7a6ff0c",
   "metadata": {},
   "source": [
    "# rough work"
   ]
  },
  {
   "cell_type": "code",
   "execution_count": 11,
   "id": "2a773e42",
   "metadata": {},
   "outputs": [
    {
     "data": {
      "text/plain": [
       "array([0.02406745, 0.20932515, 0.07155422])"
      ]
     },
     "execution_count": 11,
     "metadata": {},
     "output_type": "execute_result"
    }
   ],
   "source": [
    "X.mean(axis=0)"
   ]
  },
  {
   "cell_type": "code",
   "execution_count": 13,
   "id": "3eb6b601",
   "metadata": {},
   "outputs": [
    {
     "data": {
      "text/plain": [
       "0.10164893903981279"
      ]
     },
     "execution_count": 13,
     "metadata": {},
     "output_type": "execute_result"
    }
   ],
   "source": [
    "X.mean()"
   ]
  },
  {
   "cell_type": "code",
   "execution_count": 44,
   "id": "65897537",
   "metadata": {},
   "outputs": [
    {
     "data": {
      "text/plain": [
       "array([[2, 3, 4],\n",
       "       [4, 5, 6],\n",
       "       [2, 1, 5]])"
      ]
     },
     "execution_count": 44,
     "metadata": {},
     "output_type": "execute_result"
    }
   ],
   "source": [
    "t = np.array([[2,3,4],[4,5,6],[2,1,5]])\n",
    "t"
   ]
  },
  {
   "cell_type": "code",
   "execution_count": 45,
   "id": "03ed4e96",
   "metadata": {},
   "outputs": [
    {
     "data": {
      "text/plain": [
       "array([2.66666667, 3.        , 5.        ])"
      ]
     },
     "execution_count": 45,
     "metadata": {},
     "output_type": "execute_result"
    }
   ],
   "source": [
    "t.mean(axis=0)"
   ]
  },
  {
   "cell_type": "code",
   "execution_count": 46,
   "id": "8ed966b5",
   "metadata": {},
   "outputs": [
    {
     "data": {
      "text/plain": [
       "3.5"
      ]
     },
     "execution_count": 46,
     "metadata": {},
     "output_type": "execute_result"
    }
   ],
   "source": [
    "21/6"
   ]
  },
  {
   "cell_type": "code",
   "execution_count": 47,
   "id": "e3be26d3",
   "metadata": {},
   "outputs": [
    {
     "data": {
      "text/plain": [
       "array([[-0.66666667,  0.        , -1.        ],\n",
       "       [ 1.33333333,  2.        ,  1.        ],\n",
       "       [-0.66666667, -2.        ,  0.        ]])"
      ]
     },
     "execution_count": 47,
     "metadata": {},
     "output_type": "execute_result"
    }
   ],
   "source": [
    "d = t- t.mean(axis=0)\n",
    "d"
   ]
  },
  {
   "cell_type": "code",
   "execution_count": 39,
   "id": "0bd08cc8",
   "metadata": {},
   "outputs": [
    {
     "data": {
      "text/plain": [
       "array([[-26.5, -12. ,   1.5],\n",
       "       [ 26.5,  12. ,  -1.5]])"
      ]
     },
     "execution_count": 39,
     "metadata": {},
     "output_type": "execute_result"
    }
   ],
   "source": [
    "d = t- t.mean(axis=0)\n",
    "d"
   ]
  },
  {
   "cell_type": "code",
   "execution_count": 57,
   "id": "f728d857",
   "metadata": {},
   "outputs": [
    {
     "data": {
      "text/plain": [
       "[<matplotlib.lines.Line2D at 0x1a997e9f8b0>]"
      ]
     },
     "execution_count": 57,
     "metadata": {},
     "output_type": "execute_result"
    },
    {
     "data": {
      "image/png": "[encoded data removed]",
      "text/plain": [
       "<Figure size 432x288 with 1 Axes>"
      ]
     },
     "metadata": {
      "needs_background": "light"
     },
     "output_type": "display_data"
    }
   ],
   "source": [
    "plt.plot(d[:,0])"
   ]
  },
  {
   "cell_type": "code",
   "execution_count": 55,
   "id": "c91c9143",
   "metadata": {},
   "outputs": [
    {
     "data": {
      "text/plain": [
       "array([ 0.,  2., -2.])"
      ]
     },
     "execution_count": 55,
     "metadata": {},
     "output_type": "execute_result"
    }
   ],
   "source": [
    "d[:,1]"
   ]
  },
  {
   "cell_type": "code",
   "execution_count": null,
   "id": "e72ca982",
   "metadata": {},
   "outputs": [],
   "source": []
  }
 ],
 "metadata": {
  "kernelspec": {
   "display_name": "Python 3 (ipykernel)",
   "language": "python",
   "name": "python3"
  },
  "language_info": {
   "codemirror_mode": {
    "name": "ipython",
    "version": 3
   },
   "file_extension": ".py",
   "mimetype": "text/x-python",
   "name": "python",
   "nbconvert_exporter": "python",
   "pygments_lexer": "ipython3",
   "version": "3.9.7"
  }
 },
 "nbformat": 4,
 "nbformat_minor": 5
}
