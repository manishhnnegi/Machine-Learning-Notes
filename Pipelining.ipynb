{
 "cells": [
  {
   "cell_type": "code",
   "execution_count": 33,
   "id": "4a134161",
   "metadata": {},
   "outputs": [],
   "source": [
    "from sklearn.svm import SVC\n",
    "from sklearn.datasets import load_breast_cancer\n",
    "from sklearn.model_selection import train_test_split\n",
    "from sklearn.preprocessing import MinMaxScaler,StandardScaler\n"
   ]
  },
  {
   "cell_type": "code",
   "execution_count": 3,
   "id": "395eea1d",
   "metadata": {},
   "outputs": [],
   "source": [
    "cancer = load_breast_cancer()\n",
    "X_train,X_test,y_train, y_test = train_test_split(cancer.data, cancer.target, random_state=0)"
   ]
  },
  {
   "cell_type": "code",
   "execution_count": 6,
   "id": "fd460e77",
   "metadata": {},
   "outputs": [],
   "source": [
    "# compute minimum and maximum on the training data\n",
    "scaler = MinMaxScaler()\n",
    "scaler.fit(X_train)\n",
    "X_train_scaled = scaler.transform(X_train)"
   ]
  },
  {
   "cell_type": "code",
   "execution_count": 9,
   "id": "ae47f43a",
   "metadata": {},
   "outputs": [
    {
     "data": {
      "text/plain": [
       "0.972027972027972"
      ]
     },
     "execution_count": 9,
     "metadata": {},
     "output_type": "execute_result"
    }
   ],
   "source": [
    "svm = SVC()\n",
    "svm.fit(X_train_scaled, y_train)\n",
    "X_test_scaled = scaler.transform(X_test)\n",
    "svm.score(X_test_scaled, y_test)\n"
   ]
  },
  {
   "cell_type": "code",
   "execution_count": 11,
   "id": "9304c1a2",
   "metadata": {},
   "outputs": [
    {
     "data": {
      "text/plain": [
       "GridSearchCV(cv=5, estimator=SVC(),\n",
       "             param_grid={'C': [0.001, 0.01, 0.1, 1, 10, 100],\n",
       "                         'gamma': [0.001, 0.01, 0.1, 1, 10, 100]})"
      ]
     },
     "execution_count": 11,
     "metadata": {},
     "output_type": "execute_result"
    }
   ],
   "source": [
    "#Parameter Selection with Preprocessing\n",
    "from sklearn.model_selection import GridSearchCV\n",
    "\n",
    "param_grid = {'C': [0.001, 0.01, 0.1, 1, 10, 100],\n",
    "              'gamma': [0.001, 0.01, 0.1, 1, 10, 100]}\n",
    "grid = GridSearchCV(estimator = SVC(), param_grid=param_grid, cv=5)\n",
    "grid.fit(X_train_scaled, y_train)\n"
   ]
  },
  {
   "cell_type": "code",
   "execution_count": 14,
   "id": "df137d88",
   "metadata": {},
   "outputs": [
    {
     "name": "stdout",
     "output_type": "stream",
     "text": [
      "{'C': 1, 'gamma': 1}\n",
      "Best cross-validation accuracy 0.9812311901504789\n",
      "test accuracy 0.972027972027972\n"
     ]
    }
   ],
   "source": [
    "print(grid.best_params_)\n",
    "print('Best cross-validation accuracy',grid.best_score_)\n",
    "print('test accuracy',grid.score(X_test_scaled, y_test))"
   ]
  },
  {
   "cell_type": "markdown",
   "id": "8911523a",
   "metadata": {},
   "source": [
    "#pipeling is used to over come the proble of test data expose to traing system in the time of scaling\n",
    "we already used the infor‐\n",
    "mation contained in the test part of the split, when scaling the data. \n",
    "\n",
    ", the splitting of the dataset during cross-validation should\n",
    "be done before doing any preprocessing. Any process that extracts knowledge from the\n",
    "dataset should only ever be applied to the training portion of the dataset, so any\n",
    "cross-validation should be the “outermost loop” in your processing."
   ]
  },
  {
   "cell_type": "code",
   "execution_count": 23,
   "id": "fb0ee883",
   "metadata": {},
   "outputs": [],
   "source": [
    "from sklearn.pipeline import Pipeline\n"
   ]
  },
  {
   "cell_type": "code",
   "execution_count": 24,
   "id": "e8dab7a9",
   "metadata": {},
   "outputs": [
    {
     "data": {
      "text/plain": [
       "0.972027972027972"
      ]
     },
     "execution_count": 24,
     "metadata": {},
     "output_type": "execute_result"
    }
   ],
   "source": [
    "pipe = Pipeline([\n",
    "    ('scaler', MinMaxScaler()),\n",
    "    ('svm', SVC())\n",
    "])\n",
    "\n",
    "pipe.fit(X_train, y_train)\n",
    "pipe.score(X_test,y_test)"
   ]
  },
  {
   "cell_type": "code",
   "execution_count": 25,
   "id": "45020aa8",
   "metadata": {},
   "outputs": [],
   "source": [
    "#Using Pipelines in Grid Searches"
   ]
  },
  {
   "cell_type": "code",
   "execution_count": 26,
   "id": "80f4fa21",
   "metadata": {},
   "outputs": [],
   "source": [
    "param_grid = {'svm__C': [0.001, 0.01, 0.1, 1, 10, 100],\n",
    " 'svm__gamma': [0.001, 0.01, 0.1, 1, 10, 100]}\n"
   ]
  },
  {
   "cell_type": "code",
   "execution_count": 27,
   "id": "43abfb5f",
   "metadata": {},
   "outputs": [
    {
     "data": {
      "text/plain": [
       "GridSearchCV(cv=5,\n",
       "             estimator=Pipeline(steps=[('scaler', MinMaxScaler()),\n",
       "                                       ('svm', SVC())]),\n",
       "             param_grid={'svm__C': [0.001, 0.01, 0.1, 1, 10, 100],\n",
       "                         'svm__gamma': [0.001, 0.01, 0.1, 1, 10, 100]})"
      ]
     },
     "execution_count": 27,
     "metadata": {},
     "output_type": "execute_result"
    }
   ],
   "source": [
    "grid = GridSearchCV(pipe, param_grid= param_grid, cv=5)\n",
    "grid.fit(X_train, y_train)"
   ]
  },
  {
   "cell_type": "code",
   "execution_count": 29,
   "id": "a5b99224",
   "metadata": {},
   "outputs": [
    {
     "name": "stdout",
     "output_type": "stream",
     "text": [
      "{'svm__C': 1, 'svm__gamma': 1}\n",
      "Best cross-validation accuracy 0.9812311901504789\n",
      "test accuracy 0.972027972027972\n"
     ]
    }
   ],
   "source": [
    "print(grid.best_params_)\n",
    "print('Best cross-validation accuracy',grid.best_score_)\n",
    "print('test accuracy',grid.score(X_test, y_test))"
   ]
  },
  {
   "cell_type": "markdown",
   "id": "281a3096",
   "metadata": {},
   "source": [
    "e, now for each split in the cross-validation,\n",
    "the MinMaxScaler is refit with only the training splits and no information is leaked\n",
    "from the test split into the parameter search"
   ]
  },
  {
   "cell_type": "markdown",
   "id": "904944e8",
   "metadata": {},
   "source": [
    "e Pipeline class is not restricted to preprocessing and classification, but can in\n",
    "fact join any number of estimators together.\n",
    "\n",
    " only requirement for estimators in a pipeline is that all but the last step need to\n",
    "have a transform method, so they can produce a new representation of the data that\n",
    "can be used in the next step"
   ]
  },
  {
   "cell_type": "code",
   "execution_count": 31,
   "id": "33ac9208",
   "metadata": {},
   "outputs": [],
   "source": [
    "from sklearn.pipeline import make_pipeline\n",
    "# standard syntax\n",
    "pipe_long = Pipeline([(\"scaler\", MinMaxScaler()), (\"svm\", SVC(C=100))])\n",
    "# abbreviated syntax\n",
    "pipe_short = make_pipeline(MinMaxScaler(), SVC(C=100))"
   ]
  },
  {
   "cell_type": "code",
   "execution_count": 34,
   "id": "68b249a8",
   "metadata": {},
   "outputs": [],
   "source": [
    "from sklearn.linear_model import LogisticRegression\n",
    "\n",
    "pipe = make_pipeline(StandardScaler(), LogisticRegression(max_iter=1000))"
   ]
  },
  {
   "cell_type": "code",
   "execution_count": 35,
   "id": "6869af27",
   "metadata": {},
   "outputs": [],
   "source": [
    "param_grid = {'logisticregression__C': [0.01, 0.1, 1, 10, 100]}"
   ]
  },
  {
   "cell_type": "code",
   "execution_count": 38,
   "id": "9bd6a96c",
   "metadata": {},
   "outputs": [
    {
     "data": {
      "text/plain": [
       "GridSearchCV(cv=5,\n",
       "             estimator=Pipeline(steps=[('standardscaler', StandardScaler()),\n",
       "                                       ('logisticregression',\n",
       "                                        LogisticRegression(max_iter=1000))]),\n",
       "             param_grid={'logisticregression__C': [0.01, 0.1, 1, 10, 100]})"
      ]
     },
     "execution_count": 38,
     "metadata": {},
     "output_type": "execute_result"
    }
   ],
   "source": [
    "X_train, X_test,y_train,y_test = train_test_split(cancer.data, cancer.target, random_state=42)\n",
    "grid = GridSearchCV(pipe, param_grid=param_grid, cv=5)\n",
    "grid.fit(X_train, y_train)"
   ]
  },
  {
   "cell_type": "code",
   "execution_count": 43,
   "id": "7ff9ee03",
   "metadata": {},
   "outputs": [
    {
     "data": {
      "text/plain": [
       "Pipeline(steps=[('standardscaler', StandardScaler()),\n",
       "                ('logisticregression',\n",
       "                 LogisticRegression(C=10, max_iter=1000))])"
      ]
     },
     "execution_count": 43,
     "metadata": {},
     "output_type": "execute_result"
    }
   ],
   "source": [
    "grid.best_estimator_"
   ]
  },
  {
   "cell_type": "code",
   "execution_count": 44,
   "id": "816f534a",
   "metadata": {},
   "outputs": [
    {
     "data": {
      "text/plain": [
       "LogisticRegression(C=10, max_iter=1000)"
      ]
     },
     "execution_count": 44,
     "metadata": {},
     "output_type": "execute_result"
    }
   ],
   "source": [
    "grid.best_estimator_.named_steps[\"logisticregression\"]"
   ]
  },
  {
   "cell_type": "code",
   "execution_count": 40,
   "id": "e5042c11",
   "metadata": {},
   "outputs": [
    {
     "data": {
      "text/plain": [
       "{'logisticregression__C': 10}"
      ]
     },
     "execution_count": 40,
     "metadata": {},
     "output_type": "execute_result"
    }
   ],
   "source": [
    "grid.best_params_\n"
   ]
  },
  {
   "cell_type": "code",
   "execution_count": 41,
   "id": "99ca689a",
   "metadata": {},
   "outputs": [
    {
     "data": {
      "text/plain": [
       "0.9764705882352942"
      ]
     },
     "execution_count": 41,
     "metadata": {},
     "output_type": "execute_result"
    }
   ],
   "source": [
    "\n",
    "grid.best_score_"
   ]
  },
  {
   "cell_type": "code",
   "execution_count": 42,
   "id": "511ff040",
   "metadata": {},
   "outputs": [
    {
     "data": {
      "text/plain": [
       "0.972027972027972"
      ]
     },
     "execution_count": 42,
     "metadata": {},
     "output_type": "execute_result"
    }
   ],
   "source": [
    "grid.score(X_test, y_test)"
   ]
  },
  {
   "cell_type": "code",
   "execution_count": 45,
   "id": "328cd6cc",
   "metadata": {},
   "outputs": [],
   "source": [
    "from sklearn.datasets import load_boston\n",
    "boston = load_boston()\n",
    "X_train, X_test, y_train, y_test = train_test_split(boston.data, boston.target,\n",
    "                                                    random_state=0)\n"
   ]
  },
  {
   "cell_type": "raw",
   "id": "e2b0f465",
   "metadata": {},
   "source": [
    "from sklearn.linear_model import Ridge\n",
    "from sklearn.preprocessing import PolynomialFeatures\n",
    "pipe = Pipeline([\n",
    "    (\"scaler\", MinMaxScaler()),\n",
    "    (\"ploy\", PolynomialFeatures()),\n",
    "    (\"ridge\", Ridge())\n",
    "])"
   ]
  },
  {
   "cell_type": "code",
   "execution_count": 72,
   "id": "f26ce1b4",
   "metadata": {},
   "outputs": [],
   "source": [
    "pipe = make_pipeline(\n",
    "    StandardScaler(),\n",
    "    PolynomialFeatures(),\n",
    "    Ridge())"
   ]
  },
  {
   "cell_type": "code",
   "execution_count": 73,
   "id": "cf582566",
   "metadata": {},
   "outputs": [],
   "source": [
    "param_grid = {'polynomialfeatures__degree': [1, 2, 3],\n",
    "              'ridge__alpha': [0.001, 0.01, 0.1, 1, 10, 100]}"
   ]
  },
  {
   "cell_type": "code",
   "execution_count": 74,
   "id": "ebfb3e47",
   "metadata": {},
   "outputs": [
    {
     "data": {
      "text/plain": [
       "GridSearchCV(cv=5,\n",
       "             estimator=Pipeline(steps=[('standardscaler', StandardScaler()),\n",
       "                                       ('polynomialfeatures',\n",
       "                                        PolynomialFeatures()),\n",
       "                                       ('ridge', Ridge())]),\n",
       "             n_jobs=-1,\n",
       "             param_grid={'polynomialfeatures__degree': [1, 2, 3],\n",
       "                         'ridge__alpha': [0.001, 0.01, 0.1, 1, 10, 100]})"
      ]
     },
     "execution_count": 74,
     "metadata": {},
     "output_type": "execute_result"
    }
   ],
   "source": [
    "grid = GridSearchCV(pipe, param_grid=param_grid, cv=5, n_jobs=-1)\n",
    "grid.fit(X_train,y_train)"
   ]
  },
  {
   "cell_type": "code",
   "execution_count": 76,
   "id": "9237a6c0",
   "metadata": {},
   "outputs": [
    {
     "data": {
      "text/plain": [
       "{'mean_fit_time': array([0.02939734, 0.00779901, 0.01119866, 0.00919867, 0.01039939,\n",
       "        0.0059989 , 0.0087996 , 0.00880022, 0.00759802, 0.01000037,\n",
       "        0.01719999, 0.0083993 , 0.06359658, 0.08179541, 0.06719666,\n",
       "        0.04839597, 0.04559765, 0.04459767]),\n",
       " 'std_fit_time': array([0.01813796, 0.00160004, 0.00499569, 0.00649298, 0.00591949,\n",
       "        0.0017883 , 0.00039902, 0.00263764, 0.00048899, 0.00352199,\n",
       "        0.00893364, 0.00120098, 0.02318912, 0.01856132, 0.01318197,\n",
       "        0.00542473, 0.00755182, 0.00508317]),\n",
       " 'mean_score_time': array([0.00200043, 0.00300026, 0.00219936, 0.00179958, 0.00179977,\n",
       "        0.00420012, 0.00199971, 0.00239849, 0.0019999 , 0.00899849,\n",
       "        0.00239911, 0.00280008, 0.00739861, 0.00520134, 0.00599899,\n",
       "        0.00440083, 0.00459914, 0.00459886]),\n",
       " 'std_score_time': array([1.44317111e-06, 6.33012956e-04, 7.46875711e-04, 3.99714987e-04,\n",
       "        4.00401255e-04, 5.41828075e-03, 1.13443158e-06, 4.89103869e-04,\n",
       "        1.10189629e-06, 1.39986992e-02, 4.89477967e-04, 7.47526217e-04,\n",
       "        3.77324594e-03, 1.60014634e-03, 1.67234482e-03, 1.02045084e-03,\n",
       "        1.19993818e-03, 4.90661103e-04]),\n",
       " 'param_polynomialfeatures__degree': masked_array(data=[1, 1, 1, 1, 1, 1, 2, 2, 2, 2, 2, 2, 3, 3, 3, 3, 3, 3],\n",
       "              mask=[False, False, False, False, False, False, False, False,\n",
       "                    False, False, False, False, False, False, False, False,\n",
       "                    False, False],\n",
       "        fill_value='?',\n",
       "             dtype=object),\n",
       " 'param_ridge__alpha': masked_array(data=[0.001, 0.01, 0.1, 1, 10, 100, 0.001, 0.01, 0.1, 1, 10,\n",
       "                    100, 0.001, 0.01, 0.1, 1, 10, 100],\n",
       "              mask=[False, False, False, False, False, False, False, False,\n",
       "                    False, False, False, False, False, False, False, False,\n",
       "                    False, False],\n",
       "        fill_value='?',\n",
       "             dtype=object),\n",
       " 'params': [{'polynomialfeatures__degree': 1, 'ridge__alpha': 0.001},\n",
       "  {'polynomialfeatures__degree': 1, 'ridge__alpha': 0.01},\n",
       "  {'polynomialfeatures__degree': 1, 'ridge__alpha': 0.1},\n",
       "  {'polynomialfeatures__degree': 1, 'ridge__alpha': 1},\n",
       "  {'polynomialfeatures__degree': 1, 'ridge__alpha': 10},\n",
       "  {'polynomialfeatures__degree': 1, 'ridge__alpha': 100},\n",
       "  {'polynomialfeatures__degree': 2, 'ridge__alpha': 0.001},\n",
       "  {'polynomialfeatures__degree': 2, 'ridge__alpha': 0.01},\n",
       "  {'polynomialfeatures__degree': 2, 'ridge__alpha': 0.1},\n",
       "  {'polynomialfeatures__degree': 2, 'ridge__alpha': 1},\n",
       "  {'polynomialfeatures__degree': 2, 'ridge__alpha': 10},\n",
       "  {'polynomialfeatures__degree': 2, 'ridge__alpha': 100},\n",
       "  {'polynomialfeatures__degree': 3, 'ridge__alpha': 0.001},\n",
       "  {'polynomialfeatures__degree': 3, 'ridge__alpha': 0.01},\n",
       "  {'polynomialfeatures__degree': 3, 'ridge__alpha': 0.1},\n",
       "  {'polynomialfeatures__degree': 3, 'ridge__alpha': 1},\n",
       "  {'polynomialfeatures__degree': 3, 'ridge__alpha': 10},\n",
       "  {'polynomialfeatures__degree': 3, 'ridge__alpha': 100}],\n",
       " 'split0_test_score': array([ 0.76260222,  0.76261665,  0.7627603 ,  0.76413967,  0.7739672 ,\n",
       "         0.78174746,  0.81319408,  0.81655751,  0.81720435,  0.83190861,\n",
       "         0.86651751,  0.87159488, -1.12627744, -0.38972601,  0.38316677,\n",
       "         0.83129101,  0.91414641,  0.90514853]),\n",
       " 'split1_test_score': array([  0.56955987,   0.56955667,   0.56952475,   0.56921637,\n",
       "          0.56755599,   0.59354407,   0.63972121,   0.63522276,\n",
       "          0.64141056,   0.63106872,   0.61805636,   0.62351896,\n",
       "        -21.17716997,  -7.33048958,  -3.10899122,  -1.26857591,\n",
       "         -0.15315375,   0.26490789]),\n",
       " 'split2_test_score': array([ 7.79352390e-01,  7.79353149e-01,  7.79360488e-01,  7.79410205e-01,\n",
       "         7.78460880e-01,  7.44269496e-01,  6.31638609e-01,  6.28425125e-01,\n",
       "         6.27081638e-01,  7.31637531e-01,  8.77197626e-01,  8.40460609e-01,\n",
       "        -2.88304805e+03, -7.97614091e+02, -6.45889277e+01, -1.33239003e+00,\n",
       "         7.77170416e-01,  3.43448446e-01]),\n",
       " 'split3_test_score': array([0.70774387, 0.70773681, 0.7076662 , 0.70695691, 0.70005382,\n",
       "        0.65417988, 0.81468453, 0.81625154, 0.83096714, 0.86738451,\n",
       "        0.87233538, 0.83698036, 0.26558676, 0.59662212, 0.77337118,\n",
       "        0.81454288, 0.81207918, 0.82449837]),\n",
       " 'split4_test_score': array([ 0.79032046,  0.79033313,  0.79045868,  0.7916049 ,  0.79659183,\n",
       "         0.76601728,  0.90161574,  0.9007851 ,  0.91659356,  0.91283471,\n",
       "         0.90952382,  0.85160852, -0.39010359,  0.24393179,  0.55495176,\n",
       "         0.79616531,  0.89146059,  0.9324119 ]),\n",
       " 'mean_test_score': array([ 7.21915761e-01,  7.21919281e-01,  7.21954085e-01,  7.22265610e-01,\n",
       "         7.23325945e-01,  7.07951636e-01,  7.60170834e-01,  7.59448408e-01,\n",
       "         7.66651449e-01,  7.94966818e-01,  8.28726141e-01,  8.04832665e-01,\n",
       "        -5.81095203e+02, -1.60898751e+02, -1.31972858e+01, -3.17933469e-02,\n",
       "         6.48340571e-01,  6.54083028e-01]),\n",
       " 'std_test_score': array([8.12978694e-02, 8.13029992e-02, 8.13540016e-02, 8.18355738e-02,\n",
       "        8.45909651e-02, 7.22729859e-02, 1.06600669e-01, 1.08685987e-01,\n",
       "        1.13436988e-01, 1.01365717e-01, 1.06385581e-01, 9.14578119e-02,\n",
       "        1.15100459e+03, 3.18371011e+02, 2.57356039e+01, 1.03613686e+00,\n",
       "        4.03871439e-01, 2.88961368e-01]),\n",
       " 'rank_test_score': array([11, 10,  9,  8,  7, 12,  5,  6,  4,  3,  1,  2, 18, 17, 16, 15, 14,\n",
       "        13])}"
      ]
     },
     "execution_count": 76,
     "metadata": {},
     "output_type": "execute_result"
    }
   ],
   "source": [
    "grid.cv_results_"
   ]
  },
  {
   "cell_type": "code",
   "execution_count": 77,
   "id": "3c17323f",
   "metadata": {},
   "outputs": [
    {
     "data": {
      "text/plain": [
       "array([ 7.21915761e-01,  7.21919281e-01,  7.21954085e-01,  7.22265610e-01,\n",
       "        7.23325945e-01,  7.07951636e-01,  7.60170834e-01,  7.59448408e-01,\n",
       "        7.66651449e-01,  7.94966818e-01,  8.28726141e-01,  8.04832665e-01,\n",
       "       -5.81095203e+02, -1.60898751e+02, -1.31972858e+01, -3.17933469e-02,\n",
       "        6.48340571e-01,  6.54083028e-01])"
      ]
     },
     "execution_count": 77,
     "metadata": {},
     "output_type": "execute_result"
    }
   ],
   "source": [
    "grid.cv_results_['mean_test_score']"
   ]
  },
  {
   "cell_type": "code",
   "execution_count": 81,
   "id": "99839111",
   "metadata": {},
   "outputs": [
    {
     "data": {
      "text/plain": [
       "<matplotlib.image.AxesImage at 0x1a6dffd2070>"
      ]
     },
     "execution_count": 81,
     "metadata": {},
     "output_type": "execute_result"
    },
    {
     "data": {
      "image/png": "[encoded data removed]",
      "text/plain": [
       "<Figure size 576x288 with 1 Axes>"
      ]
     },
     "metadata": {
      "needs_background": "light"
     },
     "output_type": "display_data"
    }
   ],
   "source": [
    "import matplotlib.pyplot as plt\n",
    "plt.matshow(grid.cv_results_['mean_test_score'].reshape(3, -1),\n",
    " vmin=0, cmap=\"viridis\")\n"
   ]
  },
  {
   "cell_type": "code",
   "execution_count": 83,
   "id": "15627920",
   "metadata": {},
   "outputs": [
    {
     "data": {
      "text/plain": [
       "<matplotlib.collections.PolyCollection at 0x1a6d9f19670>"
      ]
     },
     "execution_count": 83,
     "metadata": {},
     "output_type": "execute_result"
    },
    {
     "data": {
      "image/png": "[encoded data removed]",
      "text/plain": [
       "<Figure size 432x288 with 1 Axes>"
      ]
     },
     "metadata": {
      "needs_background": "light"
     },
     "output_type": "display_data"
    }
   ],
   "source": [
    "import mglearn\n",
    "mglearn.tools.heatmap(grid.cv_results_['mean_test_score'].reshape(3, -1),\n",
    "                      xlabel=\"ridge__alpha\", ylabel=\"polynomialfeatures__degree\",\n",
    "                      xticklabels=param_grid['ridge__alpha'],\n",
    "                      yticklabels=param_grid['polynomialfeatures__degree'], vmin=0)"
   ]
  },
  {
   "cell_type": "code",
   "execution_count": 84,
   "id": "92224a88",
   "metadata": {},
   "outputs": [
    {
     "data": {
      "text/plain": [
       "Pipeline(steps=[('standardscaler', StandardScaler()),\n",
       "                ('polynomialfeatures', PolynomialFeatures()),\n",
       "                ('ridge', Ridge(alpha=10))])"
      ]
     },
     "execution_count": 84,
     "metadata": {},
     "output_type": "execute_result"
    }
   ],
   "source": [
    "grid.best_estimator_"
   ]
  },
  {
   "cell_type": "code",
   "execution_count": 85,
   "id": "61c0992d",
   "metadata": {},
   "outputs": [
    {
     "data": {
      "text/plain": [
       "{'polynomialfeatures__degree': 2, 'ridge__alpha': 10}"
      ]
     },
     "execution_count": 85,
     "metadata": {},
     "output_type": "execute_result"
    }
   ],
   "source": [
    "grid.best_params_"
   ]
  },
  {
   "cell_type": "code",
   "execution_count": 86,
   "id": "5810a2e6",
   "metadata": {},
   "outputs": [
    {
     "data": {
      "text/plain": [
       "0.8287261407694727"
      ]
     },
     "execution_count": 86,
     "metadata": {},
     "output_type": "execute_result"
    }
   ],
   "source": [
    "grid.best_score_"
   ]
  },
  {
   "cell_type": "code",
   "execution_count": 87,
   "id": "9900b002",
   "metadata": {},
   "outputs": [
    {
     "data": {
      "text/plain": [
       "0.768304546410015"
      ]
     },
     "execution_count": 87,
     "metadata": {},
     "output_type": "execute_result"
    }
   ],
   "source": [
    "grid.score(X_test,y_test)"
   ]
  },
  {
   "cell_type": "code",
   "execution_count": 88,
   "id": "57dddb10",
   "metadata": {},
   "outputs": [
    {
     "name": "stdout",
     "output_type": "stream",
     "text": [
      "Score without poly features: 0.63\n"
     ]
    }
   ],
   "source": [
    "param_grid = {'ridge__alpha': [0.001, 0.01, 0.1, 1, 10, 100]}\n",
    "pipe = make_pipeline(StandardScaler(), Ridge())\n",
    "grid = GridSearchCV(pipe, param_grid, cv=5)\n",
    "grid.fit(X_train, y_train)\n",
    "print(\"Score without poly features: {:.2f}\".format(grid.score(X_test, y_test)))"
   ]
  },
  {
   "cell_type": "markdown",
   "id": "b10cd6e9",
   "metadata": {},
   "source": [
    "# Grid-Searching Which Model To Use"
   ]
  },
  {
   "cell_type": "code",
   "execution_count": null,
   "id": "abdfcfe0",
   "metadata": {},
   "outputs": [],
   "source": []
  }
 ],
 "metadata": {
  "kernelspec": {
   "display_name": "Python 3 (ipykernel)",
   "language": "python",
   "name": "python3"
  },
  "language_info": {
   "codemirror_mode": {
    "name": "ipython",
    "version": 3
   },
   "file_extension": ".py",
   "mimetype": "text/x-python",
   "name": "python",
   "nbconvert_exporter": "python",
   "pygments_lexer": "ipython3",
   "version": "3.9.7"
  }
 },
 "nbformat": 4,
 "nbformat_minor": 5
}
